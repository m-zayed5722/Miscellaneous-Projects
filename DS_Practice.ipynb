{
  "nbformat": 4,
  "nbformat_minor": 0,
  "metadata": {
    "colab": {
      "provenance": [],
      "authorship_tag": "ABX9TyPcN/PZTBk6cEvEsr8yZlEl",
      "include_colab_link": true
    },
    "kernelspec": {
      "name": "python3",
      "display_name": "Python 3"
    },
    "language_info": {
      "name": "python"
    }
  },
  "cells": [
    {
      "cell_type": "markdown",
      "metadata": {
        "id": "view-in-github",
        "colab_type": "text"
      },
      "source": [
        "<a href=\"https://colab.research.google.com/github/m-zayed5722/Miscellaneous-Projects/blob/main/DS_Practice.ipynb\" target=\"_parent\"><img src=\"https://colab.research.google.com/assets/colab-badge.svg\" alt=\"Open In Colab\"/></a>"
      ]
    },
    {
      "cell_type": "code",
      "execution_count": null,
      "metadata": {
        "id": "TyvON81yieeZ"
      },
      "outputs": [],
      "source": []
    },
    {
      "cell_type": "code",
      "source": [
        "!git clone -q https://github.com/learnwithraghu/python-interview-question-de-ds-ai.git"
      ],
      "metadata": {
        "id": "b9PCADPs6qI_"
      },
      "execution_count": 2,
      "outputs": []
    },
    {
      "cell_type": "code",
      "source": [
        "%cd python-interview-question-de-ds-ai\n",
        "!ls -lah\n"
      ],
      "metadata": {
        "colab": {
          "base_uri": "https://localhost:8080/"
        },
        "id": "sF0ZaX8N_Tll",
        "outputId": "912490b6-6c9f-4c57-dfcc-38b4acd025fe"
      },
      "execution_count": 3,
      "outputs": [
        {
          "output_type": "stream",
          "name": "stdout",
          "text": [
            "/content/python-interview-question-de-ds-ai\n",
            "total 32K\n",
            "drwxr-xr-x 5 root root 4.0K Oct  9 01:44 .\n",
            "drwxr-xr-x 1 root root 4.0K Oct  9 01:44 ..\n",
            "drwxr-xr-x 2 root root 4.0K Oct  9 01:44 generate_data\n",
            "drwxr-xr-x 8 root root 4.0K Oct  9 01:44 .git\n",
            "-rw-r--r-- 1 root root 2.8K Oct  9 01:44 hint_doc.md\n",
            "-rw-r--r-- 1 root root 3.7K Oct  9 01:44 InterviewQuestion.md\n",
            "-rw-r--r-- 1 root root 3.5K Oct  9 01:44 README.md\n",
            "drwxr-xr-x 2 root root 4.0K Oct  9 01:44 solutions\n"
          ]
        }
      ]
    },
    {
      "cell_type": "code",
      "source": [
        "%cd generate_data/\n",
        "!ls"
      ],
      "metadata": {
        "colab": {
          "base_uri": "https://localhost:8080/"
        },
        "id": "OP04kkc3en-I",
        "outputId": "7308e444-c958-46d3-a5f0-be434bb4a1b3"
      },
      "execution_count": 4,
      "outputs": [
        {
          "output_type": "stream",
          "name": "stdout",
          "text": [
            "/content/python-interview-question-de-ds-ai/generate_data\n",
            "card_access_logs.json\t generate_case_data.py\n",
            "dining_transactions.csv  passenger_manifest.csv\n"
          ]
        }
      ]
    },
    {
      "cell_type": "code",
      "source": [
        "%cd python-interview-question-de-ds-ai\n",
        "!ls"
      ],
      "metadata": {
        "colab": {
          "base_uri": "https://localhost:8080/"
        },
        "id": "WU7BSVBeepBS",
        "outputId": "be822fe7-babb-4194-e979-e20db8236d3d"
      },
      "execution_count": 20,
      "outputs": [
        {
          "output_type": "stream",
          "name": "stdout",
          "text": [
            "/content/python-interview-question-de-ds-ai\n",
            "generate_data  hint_doc.md  InterviewQuestion.md  README.md  solutions\n"
          ]
        }
      ]
    },
    {
      "cell_type": "code",
      "source": [
        "!ls"
      ],
      "metadata": {
        "colab": {
          "base_uri": "https://localhost:8080/"
        },
        "id": "ApJ-ENehepDg",
        "outputId": "84079f0d-2b1f-4854-d5d2-90a2d09b52a3"
      },
      "execution_count": 5,
      "outputs": [
        {
          "output_type": "stream",
          "name": "stdout",
          "text": [
            "card_access_logs.json\t generate_case_data.py\n",
            "dining_transactions.csv  passenger_manifest.csv\n"
          ]
        }
      ]
    },
    {
      "cell_type": "code",
      "source": [
        "import pandas as pd\n",
        "\n",
        "# Read a CSV file\n",
        "df = pd.read_csv(\"dining_transactions.csv\")\n",
        "\n",
        "# Display the first few rows\n",
        "print(df.head())"
      ],
      "metadata": {
        "colab": {
          "base_uri": "https://localhost:8080/"
        },
        "id": "yvLQYMBZpBnz",
        "outputId": "8706d532-fa5a-4b6f-a891-73a389b80652"
      },
      "execution_count": 8,
      "outputs": [
        {
          "output_type": "stream",
          "name": "stdout",
          "text": [
            "  transaction_id passenger_id              item  amount            timestamp\n",
            "0           T001         P001   Seafood Platter   45.99  2024-02-20 19:30:00\n",
            "1           T002         P002  Vegetarian Pasta   28.50  2024-02-20 20:15:00\n",
            "2           T004         P004             Steak   52.99  2024-02-20 20:00:00\n",
            "3           T005         P005      Fish Special   38.99  2024-02-20 19:45:00\n"
          ]
        }
      ]
    },
    {
      "cell_type": "code",
      "source": [
        "(df.isnull().sum() / len(df)) * 100"
      ],
      "metadata": {
        "colab": {
          "base_uri": "https://localhost:8080/",
          "height": 241
        },
        "id": "HS_RKa5M2zo3",
        "outputId": "2980281e-6117-4e6b-9837-f4da67e792b7"
      },
      "execution_count": 12,
      "outputs": [
        {
          "output_type": "execute_result",
          "data": {
            "text/plain": [
              "transaction_id    0.0\n",
              "passenger_id      0.0\n",
              "item              0.0\n",
              "amount            0.0\n",
              "timestamp         0.0\n",
              "dtype: float64"
            ],
            "text/html": [
              "<div>\n",
              "<style scoped>\n",
              "    .dataframe tbody tr th:only-of-type {\n",
              "        vertical-align: middle;\n",
              "    }\n",
              "\n",
              "    .dataframe tbody tr th {\n",
              "        vertical-align: top;\n",
              "    }\n",
              "\n",
              "    .dataframe thead th {\n",
              "        text-align: right;\n",
              "    }\n",
              "</style>\n",
              "<table border=\"1\" class=\"dataframe\">\n",
              "  <thead>\n",
              "    <tr style=\"text-align: right;\">\n",
              "      <th></th>\n",
              "      <th>0</th>\n",
              "    </tr>\n",
              "  </thead>\n",
              "  <tbody>\n",
              "    <tr>\n",
              "      <th>transaction_id</th>\n",
              "      <td>0.0</td>\n",
              "    </tr>\n",
              "    <tr>\n",
              "      <th>passenger_id</th>\n",
              "      <td>0.0</td>\n",
              "    </tr>\n",
              "    <tr>\n",
              "      <th>item</th>\n",
              "      <td>0.0</td>\n",
              "    </tr>\n",
              "    <tr>\n",
              "      <th>amount</th>\n",
              "      <td>0.0</td>\n",
              "    </tr>\n",
              "    <tr>\n",
              "      <th>timestamp</th>\n",
              "      <td>0.0</td>\n",
              "    </tr>\n",
              "  </tbody>\n",
              "</table>\n",
              "</div><br><label><b>dtype:</b> float64</label>"
            ]
          },
          "metadata": {},
          "execution_count": 12
        }
      ]
    },
    {
      "cell_type": "code",
      "source": [
        "# Read a CSV file\n",
        "df2 = pd.read_csv(\"passenger_manifest.csv\")\n",
        "\n",
        "# Display the first few rows\n",
        "print(df2.head())"
      ],
      "metadata": {
        "colab": {
          "base_uri": "https://localhost:8080/"
        },
        "id": "C766eX8ZpBq6",
        "outputId": "2f6a924a-ac70-4656-93db-56bae75141db"
      },
      "execution_count": 9,
      "outputs": [
        {
          "output_type": "stream",
          "name": "stdout",
          "text": [
            "  passenger_id             name cabin dining_preference  age nationality\n",
            "0         P001     James Wilson  A123             Early   45     British\n",
            "1         P002  Elena Rodriguez  B145              Late   32     Spanish\n",
            "2         P003       Sarah Chen  A125             Early   28     Chinese\n",
            "3         P004    Michael Brown  C201              Late   52    American\n",
            "4         P005    Lisa Thompson  B147             Early   39    Canadian\n"
          ]
        }
      ]
    },
    {
      "cell_type": "code",
      "source": [
        "(df2.isnull().sum() / len(df2)) * 100"
      ],
      "metadata": {
        "colab": {
          "base_uri": "https://localhost:8080/",
          "height": 272
        },
        "id": "rsafBpnD26dg",
        "outputId": "50f00613-2e5d-40b2-d91e-ace78c538924"
      },
      "execution_count": 14,
      "outputs": [
        {
          "output_type": "execute_result",
          "data": {
            "text/plain": [
              "passenger_id         0.0\n",
              "name                 0.0\n",
              "cabin                0.0\n",
              "dining_preference    0.0\n",
              "age                  0.0\n",
              "nationality          0.0\n",
              "dtype: float64"
            ],
            "text/html": [
              "<div>\n",
              "<style scoped>\n",
              "    .dataframe tbody tr th:only-of-type {\n",
              "        vertical-align: middle;\n",
              "    }\n",
              "\n",
              "    .dataframe tbody tr th {\n",
              "        vertical-align: top;\n",
              "    }\n",
              "\n",
              "    .dataframe thead th {\n",
              "        text-align: right;\n",
              "    }\n",
              "</style>\n",
              "<table border=\"1\" class=\"dataframe\">\n",
              "  <thead>\n",
              "    <tr style=\"text-align: right;\">\n",
              "      <th></th>\n",
              "      <th>0</th>\n",
              "    </tr>\n",
              "  </thead>\n",
              "  <tbody>\n",
              "    <tr>\n",
              "      <th>passenger_id</th>\n",
              "      <td>0.0</td>\n",
              "    </tr>\n",
              "    <tr>\n",
              "      <th>name</th>\n",
              "      <td>0.0</td>\n",
              "    </tr>\n",
              "    <tr>\n",
              "      <th>cabin</th>\n",
              "      <td>0.0</td>\n",
              "    </tr>\n",
              "    <tr>\n",
              "      <th>dining_preference</th>\n",
              "      <td>0.0</td>\n",
              "    </tr>\n",
              "    <tr>\n",
              "      <th>age</th>\n",
              "      <td>0.0</td>\n",
              "    </tr>\n",
              "    <tr>\n",
              "      <th>nationality</th>\n",
              "      <td>0.0</td>\n",
              "    </tr>\n",
              "  </tbody>\n",
              "</table>\n",
              "</div><br><label><b>dtype:</b> float64</label>"
            ]
          },
          "metadata": {},
          "execution_count": 14
        }
      ]
    },
    {
      "cell_type": "code",
      "source": [
        "# Read a JSON file into a DataFrame\n",
        "df3 = pd.read_json(\"card_access_logs.json\")\n",
        "\n",
        "# Show the first few rows\n",
        "print(df3.head())"
      ],
      "metadata": {
        "colab": {
          "base_uri": "https://localhost:8080/"
        },
        "id": "sNg7jX5bpgzk",
        "outputId": "5e935617-e88b-4e22-b167-1d2156da7799"
      },
      "execution_count": 11,
      "outputs": [
        {
          "output_type": "stream",
          "name": "stdout",
          "text": [
            "            timestamp passenger_id     location action\n",
            "0 2024-02-20 19:00:00         P001        Cabin  entry\n",
            "1 2024-02-20 19:00:00         P002        Cabin  entry\n",
            "2 2024-02-20 19:00:00         P004        Cabin  entry\n",
            "3 2024-02-20 19:00:00         P005        Cabin  entry\n",
            "4 2024-02-20 20:00:00         P001  Dining Hall   exit\n"
          ]
        }
      ]
    },
    {
      "cell_type": "code",
      "source": [
        "(df3.isnull().sum() / len(df3)) * 100"
      ],
      "metadata": {
        "colab": {
          "base_uri": "https://localhost:8080/",
          "height": 209
        },
        "id": "QAVz3xkN2_Cr",
        "outputId": "143b21b2-904f-4e15-81c2-7e8c9d7fddfa"
      },
      "execution_count": 15,
      "outputs": [
        {
          "output_type": "execute_result",
          "data": {
            "text/plain": [
              "timestamp       0.0\n",
              "passenger_id    0.0\n",
              "location        0.0\n",
              "action          0.0\n",
              "dtype: float64"
            ],
            "text/html": [
              "<div>\n",
              "<style scoped>\n",
              "    .dataframe tbody tr th:only-of-type {\n",
              "        vertical-align: middle;\n",
              "    }\n",
              "\n",
              "    .dataframe tbody tr th {\n",
              "        vertical-align: top;\n",
              "    }\n",
              "\n",
              "    .dataframe thead th {\n",
              "        text-align: right;\n",
              "    }\n",
              "</style>\n",
              "<table border=\"1\" class=\"dataframe\">\n",
              "  <thead>\n",
              "    <tr style=\"text-align: right;\">\n",
              "      <th></th>\n",
              "      <th>0</th>\n",
              "    </tr>\n",
              "  </thead>\n",
              "  <tbody>\n",
              "    <tr>\n",
              "      <th>timestamp</th>\n",
              "      <td>0.0</td>\n",
              "    </tr>\n",
              "    <tr>\n",
              "      <th>passenger_id</th>\n",
              "      <td>0.0</td>\n",
              "    </tr>\n",
              "    <tr>\n",
              "      <th>location</th>\n",
              "      <td>0.0</td>\n",
              "    </tr>\n",
              "    <tr>\n",
              "      <th>action</th>\n",
              "      <td>0.0</td>\n",
              "    </tr>\n",
              "  </tbody>\n",
              "</table>\n",
              "</div><br><label><b>dtype:</b> float64</label>"
            ]
          },
          "metadata": {},
          "execution_count": 15
        }
      ]
    },
    {
      "cell_type": "code",
      "source": [],
      "metadata": {
        "id": "IoU8K7CXpOCJ"
      },
      "execution_count": null,
      "outputs": []
    },
    {
      "cell_type": "code",
      "source": [],
      "metadata": {
        "id": "g4198BnApBuF"
      },
      "execution_count": null,
      "outputs": []
    },
    {
      "cell_type": "code",
      "source": [],
      "metadata": {
        "id": "wNpKTx7GpBw0"
      },
      "execution_count": null,
      "outputs": []
    },
    {
      "cell_type": "code",
      "source": [
        "# Show the first ~2000 chars of the task doc\n",
        "#!sed -n '1,150p' InterviewQuestion.md\n"
      ],
      "metadata": {
        "id": "i1fKdbAk_TwW"
      },
      "execution_count": 1,
      "outputs": []
    },
    {
      "cell_type": "code",
      "source": [
        "from glob import glob\n",
        "csvs  = glob(\"**/*.csv\", recursive=True)\n",
        "jsons = glob(\"**/*.json\", recursive=True)\n",
        "csvs, jsons\n"
      ],
      "metadata": {
        "colab": {
          "base_uri": "https://localhost:8080/"
        },
        "id": "yrw0UuCfdO-Y",
        "outputId": "c955c851-a2c6-4f03-af9e-c13eb620f21c"
      },
      "execution_count": 5,
      "outputs": [
        {
          "output_type": "execute_result",
          "data": {
            "text/plain": [
              "(['generate_data/dining_transactions.csv',\n",
              "  'generate_data/passenger_manifest.csv'],\n",
              " ['generate_data/card_access_logs.json'])"
            ]
          },
          "metadata": {},
          "execution_count": 5
        }
      ]
    },
    {
      "cell_type": "code",
      "source": [
        "\n"
      ],
      "metadata": {
        "id": "LVkDZrJGdPA2"
      },
      "execution_count": null,
      "outputs": []
    },
    {
      "cell_type": "code",
      "source": [],
      "metadata": {
        "id": "gE3pVlsW_T2C"
      },
      "execution_count": null,
      "outputs": []
    },
    {
      "cell_type": "code",
      "source": [],
      "metadata": {
        "id": "fjFmvXXv6qMu"
      },
      "execution_count": null,
      "outputs": []
    }
  ]
}