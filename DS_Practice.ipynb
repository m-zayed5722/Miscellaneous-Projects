{
  "nbformat": 4,
  "nbformat_minor": 0,
  "metadata": {
    "colab": {
      "provenance": [],
      "authorship_tag": "ABX9TyP5cjWi4V2aAOYoJy86jNxU",
      "include_colab_link": true
    },
    "kernelspec": {
      "name": "python3",
      "display_name": "Python 3"
    },
    "language_info": {
      "name": "python"
    }
  },
  "cells": [
    {
      "cell_type": "markdown",
      "metadata": {
        "id": "view-in-github",
        "colab_type": "text"
      },
      "source": [
        "<a href=\"https://colab.research.google.com/github/m-zayed5722/Miscellaneous-Projects/blob/main/DS_Practice.ipynb\" target=\"_parent\"><img src=\"https://colab.research.google.com/assets/colab-badge.svg\" alt=\"Open In Colab\"/></a>"
      ]
    },
    {
      "cell_type": "code",
      "execution_count": null,
      "metadata": {
        "id": "TyvON81yieeZ"
      },
      "outputs": [],
      "source": []
    },
    {
      "cell_type": "code",
      "source": [
        "import pandas as pd\n",
        "import json\n",
        "from datetime import datetime, timedelta\n",
        "\n",
        "# Generate passenger manifest CSV\n",
        "passengers = [\n",
        "    {\"passenger_id\": \"P001\", \"name\": \"James Wilson\", \"cabin\": \"A123\", \"dining_preference\": \"Early\", \"age\": 45, \"nationality\": \"British\"},\n",
        "    {\"passenger_id\": \"P002\", \"name\": \"Elena Rodriguez\", \"cabin\": \"B145\", \"dining_preference\": \"Late\", \"age\": 32, \"nationality\": \"Spanish\"},\n",
        "    {\"passenger_id\": \"P003\", \"name\": \"Sarah Chen\", \"cabin\": \"A125\", \"dining_preference\": \"Early\", \"age\": 28, \"nationality\": \"Chinese\"},\n",
        "    {\"passenger_id\": \"P004\", \"name\": \"Michael Brown\", \"cabin\": \"C201\", \"dining_preference\": \"Late\", \"age\": 52, \"nationality\": \"American\"},\n",
        "    {\"passenger_id\": \"P005\", \"name\": \"Lisa Thompson\", \"cabin\": \"B147\", \"dining_preference\": \"Early\", \"age\": 39, \"nationality\": \"Canadian\"}\n",
        "]\n",
        "\n",
        "# Generate key card access logs JSON\n",
        "base_time = datetime(2024, 2, 20, 19, 0)  # Crime occurred around 8 PM\n",
        "card_logs = []\n",
        "for hour in range(5):  # Generate 5 hours of logs\n",
        "    for passenger in passengers:\n",
        "        if passenger[\"passenger_id\"] != \"P003\":  # Create suspicious absence\n",
        "            card_logs.append({\n",
        "                \"timestamp\": (base_time + timedelta(hours=hour)).strftime(\"%Y-%m-%d %H:%M:%S\"),\n",
        "                \"passenger_id\": passenger[\"passenger_id\"],\n",
        "                \"location\": \"Dining Hall\" if hour in [1, 2] else \"Cabin\",\n",
        "                \"action\": \"entry\" if hour % 2 == 0 else \"exit\"\n",
        "            })\n",
        "\n",
        "# Generate dining transactions CSV\n",
        "dining_transactions = [\n",
        "    {\"transaction_id\": \"T001\", \"passenger_id\": \"P001\", \"item\": \"Seafood Platter\", \"amount\": 45.99, \"timestamp\": \"2024-02-20 19:30:00\"},\n",
        "    {\"transaction_id\": \"T002\", \"passenger_id\": \"P002\", \"item\": \"Vegetarian Pasta\", \"amount\": 28.50, \"timestamp\": \"2024-02-20 20:15:00\"},\n",
        "    {\"transaction_id\": \"T004\", \"passenger_id\": \"P004\", \"item\": \"Steak\", \"amount\": 52.99, \"timestamp\": \"2024-02-20 20:00:00\"},\n",
        "    {\"transaction_id\": \"T005\", \"passenger_id\": \"P005\", \"item\": \"Fish Special\", \"amount\": 38.99, \"timestamp\": \"2024-02-20 19:45:00\"}\n",
        "]\n",
        "\n",
        "# Save to files\n",
        "pd.DataFrame(passengers).to_csv(\"passenger_manifest.csv\", index=False)\n",
        "pd.DataFrame(dining_transactions).to_csv(\"dining_transactions.csv\", index=False)\n",
        "with open(\"card_access_logs.json\", \"w\") as f:\n",
        "    json.dump(card_logs, f, indent=2)\n",
        "\n",
        "print(\"Files generated successfully!\")"
      ],
      "metadata": {
        "id": "b9PCADPs6qI_"
      },
      "execution_count": null,
      "outputs": []
    },
    {
      "cell_type": "code",
      "source": [],
      "metadata": {
        "id": "fjFmvXXv6qMu"
      },
      "execution_count": null,
      "outputs": []
    }
  ]
}