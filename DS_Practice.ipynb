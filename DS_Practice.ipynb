{
  "nbformat": 4,
  "nbformat_minor": 0,
  "metadata": {
    "colab": {
      "provenance": [],
      "authorship_tag": "ABX9TyPcniSkJDchdxBj2boKt1V2",
      "include_colab_link": true
    },
    "kernelspec": {
      "name": "python3",
      "display_name": "Python 3"
    },
    "language_info": {
      "name": "python"
    }
  },
  "cells": [
    {
      "cell_type": "markdown",
      "metadata": {
        "id": "view-in-github",
        "colab_type": "text"
      },
      "source": [
        "<a href=\"https://colab.research.google.com/github/m-zayed5722/Miscellaneous-Projects/blob/main/DS_Practice.ipynb\" target=\"_parent\"><img src=\"https://colab.research.google.com/assets/colab-badge.svg\" alt=\"Open In Colab\"/></a>"
      ]
    },
    {
      "cell_type": "code",
      "execution_count": null,
      "metadata": {
        "id": "TyvON81yieeZ"
      },
      "outputs": [],
      "source": []
    },
    {
      "cell_type": "code",
      "source": [
        "!git clone -q https://github.com/learnwithraghu/python-interview-question-de-ds-ai.git"
      ],
      "metadata": {
        "id": "b9PCADPs6qI_"
      },
      "execution_count": 1,
      "outputs": []
    },
    {
      "cell_type": "code",
      "source": [
        "%cd python-interview-question-de-ds-ai\n",
        "!ls -lah\n"
      ],
      "metadata": {
        "colab": {
          "base_uri": "https://localhost:8080/"
        },
        "id": "sF0ZaX8N_Tll",
        "outputId": "fa59871c-6055-473a-a5d9-c8ab21c5f5a4"
      },
      "execution_count": 2,
      "outputs": [
        {
          "output_type": "stream",
          "name": "stdout",
          "text": [
            "/content/python-interview-question-de-ds-ai\n",
            "total 32K\n",
            "drwxr-xr-x 5 root root 4.0K Oct 11 00:30 .\n",
            "drwxr-xr-x 1 root root 4.0K Oct 11 00:30 ..\n",
            "drwxr-xr-x 2 root root 4.0K Oct 11 00:30 generate_data\n",
            "drwxr-xr-x 8 root root 4.0K Oct 11 00:30 .git\n",
            "-rw-r--r-- 1 root root 2.8K Oct 11 00:30 hint_doc.md\n",
            "-rw-r--r-- 1 root root 3.7K Oct 11 00:30 InterviewQuestion.md\n",
            "-rw-r--r-- 1 root root 3.5K Oct 11 00:30 README.md\n",
            "drwxr-xr-x 2 root root 4.0K Oct 11 00:30 solutions\n"
          ]
        }
      ]
    },
    {
      "cell_type": "code",
      "source": [
        "%cd generate_data/\n",
        "!ls"
      ],
      "metadata": {
        "colab": {
          "base_uri": "https://localhost:8080/"
        },
        "id": "OP04kkc3en-I",
        "outputId": "43cee754-8dae-4c91-9cac-49140d2d1c08"
      },
      "execution_count": 3,
      "outputs": [
        {
          "output_type": "stream",
          "name": "stdout",
          "text": [
            "/content/python-interview-question-de-ds-ai/generate_data\n",
            "card_access_logs.json\t generate_case_data.py\n",
            "dining_transactions.csv  passenger_manifest.csv\n"
          ]
        }
      ]
    },
    {
      "cell_type": "code",
      "source": [
        "%cd python-interview-question-de-ds-ai\n",
        "!ls"
      ],
      "metadata": {
        "colab": {
          "base_uri": "https://localhost:8080/"
        },
        "id": "WU7BSVBeepBS",
        "outputId": "be822fe7-babb-4194-e979-e20db8236d3d"
      },
      "execution_count": null,
      "outputs": [
        {
          "output_type": "stream",
          "name": "stdout",
          "text": [
            "/content/python-interview-question-de-ds-ai\n",
            "generate_data  hint_doc.md  InterviewQuestion.md  README.md  solutions\n"
          ]
        }
      ]
    },
    {
      "cell_type": "code",
      "source": [
        "!ls"
      ],
      "metadata": {
        "colab": {
          "base_uri": "https://localhost:8080/"
        },
        "id": "ApJ-ENehepDg",
        "outputId": "84079f0d-2b1f-4854-d5d2-90a2d09b52a3"
      },
      "execution_count": null,
      "outputs": [
        {
          "output_type": "stream",
          "name": "stdout",
          "text": [
            "card_access_logs.json\t generate_case_data.py\n",
            "dining_transactions.csv  passenger_manifest.csv\n"
          ]
        }
      ]
    },
    {
      "cell_type": "code",
      "source": [
        "import pandas as pd\n",
        "\n",
        "# Read a CSV file\n",
        "df = pd.read_csv(\"dining_transactions.csv\")\n",
        "\n",
        "# Display the first few rows\n",
        "print(df.head())"
      ],
      "metadata": {
        "colab": {
          "base_uri": "https://localhost:8080/"
        },
        "id": "yvLQYMBZpBnz",
        "outputId": "c24c5bf6-24c2-41ef-9c95-9c7530e79f84"
      },
      "execution_count": 4,
      "outputs": [
        {
          "output_type": "stream",
          "name": "stdout",
          "text": [
            "  transaction_id passenger_id              item  amount            timestamp\n",
            "0           T001         P001   Seafood Platter   45.99  2024-02-20 19:30:00\n",
            "1           T002         P002  Vegetarian Pasta   28.50  2024-02-20 20:15:00\n",
            "2           T004         P004             Steak   52.99  2024-02-20 20:00:00\n",
            "3           T005         P005      Fish Special   38.99  2024-02-20 19:45:00\n"
          ]
        }
      ]
    },
    {
      "cell_type": "code",
      "source": [
        "df.info()"
      ],
      "metadata": {
        "colab": {
          "base_uri": "https://localhost:8080/"
        },
        "id": "eOP0z4qawe6w",
        "outputId": "07d307be-8f88-4179-c1f2-a0f2cdd4d813"
      },
      "execution_count": 10,
      "outputs": [
        {
          "output_type": "stream",
          "name": "stdout",
          "text": [
            "<class 'pandas.core.frame.DataFrame'>\n",
            "RangeIndex: 4 entries, 0 to 3\n",
            "Data columns (total 5 columns):\n",
            " #   Column          Non-Null Count  Dtype  \n",
            "---  ------          --------------  -----  \n",
            " 0   transaction_id  4 non-null      object \n",
            " 1   passenger_id    4 non-null      object \n",
            " 2   item            4 non-null      object \n",
            " 3   amount          4 non-null      float64\n",
            " 4   timestamp       4 non-null      object \n",
            "dtypes: float64(1), object(4)\n",
            "memory usage: 292.0+ bytes\n"
          ]
        }
      ]
    },
    {
      "cell_type": "code",
      "source": [
        "(df.isnull().sum() / len(df)) * 100"
      ],
      "metadata": {
        "colab": {
          "base_uri": "https://localhost:8080/",
          "height": 241
        },
        "id": "HS_RKa5M2zo3",
        "outputId": "395476f5-2e08-40ed-db7d-d1a7ad328aab"
      },
      "execution_count": 5,
      "outputs": [
        {
          "output_type": "execute_result",
          "data": {
            "text/plain": [
              "transaction_id    0.0\n",
              "passenger_id      0.0\n",
              "item              0.0\n",
              "amount            0.0\n",
              "timestamp         0.0\n",
              "dtype: float64"
            ],
            "text/html": [
              "<div>\n",
              "<style scoped>\n",
              "    .dataframe tbody tr th:only-of-type {\n",
              "        vertical-align: middle;\n",
              "    }\n",
              "\n",
              "    .dataframe tbody tr th {\n",
              "        vertical-align: top;\n",
              "    }\n",
              "\n",
              "    .dataframe thead th {\n",
              "        text-align: right;\n",
              "    }\n",
              "</style>\n",
              "<table border=\"1\" class=\"dataframe\">\n",
              "  <thead>\n",
              "    <tr style=\"text-align: right;\">\n",
              "      <th></th>\n",
              "      <th>0</th>\n",
              "    </tr>\n",
              "  </thead>\n",
              "  <tbody>\n",
              "    <tr>\n",
              "      <th>transaction_id</th>\n",
              "      <td>0.0</td>\n",
              "    </tr>\n",
              "    <tr>\n",
              "      <th>passenger_id</th>\n",
              "      <td>0.0</td>\n",
              "    </tr>\n",
              "    <tr>\n",
              "      <th>item</th>\n",
              "      <td>0.0</td>\n",
              "    </tr>\n",
              "    <tr>\n",
              "      <th>amount</th>\n",
              "      <td>0.0</td>\n",
              "    </tr>\n",
              "    <tr>\n",
              "      <th>timestamp</th>\n",
              "      <td>0.0</td>\n",
              "    </tr>\n",
              "  </tbody>\n",
              "</table>\n",
              "</div><br><label><b>dtype:</b> float64</label>"
            ]
          },
          "metadata": {},
          "execution_count": 5
        }
      ]
    },
    {
      "cell_type": "code",
      "source": [],
      "metadata": {
        "id": "_WoVh5kiwvLk"
      },
      "execution_count": null,
      "outputs": []
    },
    {
      "cell_type": "code",
      "source": [
        "# Read a CSV file\n",
        "df2 = pd.read_csv(\"passenger_manifest.csv\")\n",
        "\n",
        "# Display the first few rows\n",
        "print(df2.head())"
      ],
      "metadata": {
        "colab": {
          "base_uri": "https://localhost:8080/"
        },
        "id": "C766eX8ZpBq6",
        "outputId": "0170f763-c0a0-4307-cf47-6a152281eb6f"
      },
      "execution_count": 6,
      "outputs": [
        {
          "output_type": "stream",
          "name": "stdout",
          "text": [
            "  passenger_id             name cabin dining_preference  age nationality\n",
            "0         P001     James Wilson  A123             Early   45     British\n",
            "1         P002  Elena Rodriguez  B145              Late   32     Spanish\n",
            "2         P003       Sarah Chen  A125             Early   28     Chinese\n",
            "3         P004    Michael Brown  C201              Late   52    American\n",
            "4         P005    Lisa Thompson  B147             Early   39    Canadian\n"
          ]
        }
      ]
    },
    {
      "cell_type": "code",
      "source": [
        "df2.info()"
      ],
      "metadata": {
        "colab": {
          "base_uri": "https://localhost:8080/"
        },
        "id": "eBP59eJ7wwjT",
        "outputId": "8c3ba47d-07bd-4c56-b09d-a8b2734a87c4"
      },
      "execution_count": 11,
      "outputs": [
        {
          "output_type": "stream",
          "name": "stdout",
          "text": [
            "<class 'pandas.core.frame.DataFrame'>\n",
            "RangeIndex: 5 entries, 0 to 4\n",
            "Data columns (total 6 columns):\n",
            " #   Column             Non-Null Count  Dtype \n",
            "---  ------             --------------  ----- \n",
            " 0   passenger_id       5 non-null      object\n",
            " 1   name               5 non-null      object\n",
            " 2   cabin              5 non-null      object\n",
            " 3   dining_preference  5 non-null      object\n",
            " 4   age                5 non-null      int64 \n",
            " 5   nationality        5 non-null      object\n",
            "dtypes: int64(1), object(5)\n",
            "memory usage: 372.0+ bytes\n"
          ]
        }
      ]
    },
    {
      "cell_type": "code",
      "source": [
        "(df2.isnull().sum() / len(df2)) * 100"
      ],
      "metadata": {
        "colab": {
          "base_uri": "https://localhost:8080/",
          "height": 272
        },
        "id": "rsafBpnD26dg",
        "outputId": "f65eb1b7-7d10-4f1b-b8be-74010cc6d88f"
      },
      "execution_count": 7,
      "outputs": [
        {
          "output_type": "execute_result",
          "data": {
            "text/plain": [
              "passenger_id         0.0\n",
              "name                 0.0\n",
              "cabin                0.0\n",
              "dining_preference    0.0\n",
              "age                  0.0\n",
              "nationality          0.0\n",
              "dtype: float64"
            ],
            "text/html": [
              "<div>\n",
              "<style scoped>\n",
              "    .dataframe tbody tr th:only-of-type {\n",
              "        vertical-align: middle;\n",
              "    }\n",
              "\n",
              "    .dataframe tbody tr th {\n",
              "        vertical-align: top;\n",
              "    }\n",
              "\n",
              "    .dataframe thead th {\n",
              "        text-align: right;\n",
              "    }\n",
              "</style>\n",
              "<table border=\"1\" class=\"dataframe\">\n",
              "  <thead>\n",
              "    <tr style=\"text-align: right;\">\n",
              "      <th></th>\n",
              "      <th>0</th>\n",
              "    </tr>\n",
              "  </thead>\n",
              "  <tbody>\n",
              "    <tr>\n",
              "      <th>passenger_id</th>\n",
              "      <td>0.0</td>\n",
              "    </tr>\n",
              "    <tr>\n",
              "      <th>name</th>\n",
              "      <td>0.0</td>\n",
              "    </tr>\n",
              "    <tr>\n",
              "      <th>cabin</th>\n",
              "      <td>0.0</td>\n",
              "    </tr>\n",
              "    <tr>\n",
              "      <th>dining_preference</th>\n",
              "      <td>0.0</td>\n",
              "    </tr>\n",
              "    <tr>\n",
              "      <th>age</th>\n",
              "      <td>0.0</td>\n",
              "    </tr>\n",
              "    <tr>\n",
              "      <th>nationality</th>\n",
              "      <td>0.0</td>\n",
              "    </tr>\n",
              "  </tbody>\n",
              "</table>\n",
              "</div><br><label><b>dtype:</b> float64</label>"
            ]
          },
          "metadata": {},
          "execution_count": 7
        }
      ]
    },
    {
      "cell_type": "code",
      "source": [],
      "metadata": {
        "id": "MVvzRJJswy2F"
      },
      "execution_count": null,
      "outputs": []
    },
    {
      "cell_type": "code",
      "source": [
        "# Read a JSON file into a DataFrame\n",
        "df3 = pd.read_json(\"card_access_logs.json\")\n",
        "\n",
        "# Show the first few rows\n",
        "print(df3.head())"
      ],
      "metadata": {
        "colab": {
          "base_uri": "https://localhost:8080/"
        },
        "id": "sNg7jX5bpgzk",
        "outputId": "e5e0d740-8c2b-4c61-8ed9-1c7c05e5f8cf"
      },
      "execution_count": 8,
      "outputs": [
        {
          "output_type": "stream",
          "name": "stdout",
          "text": [
            "            timestamp passenger_id     location action\n",
            "0 2024-02-20 19:00:00         P001        Cabin  entry\n",
            "1 2024-02-20 19:00:00         P002        Cabin  entry\n",
            "2 2024-02-20 19:00:00         P004        Cabin  entry\n",
            "3 2024-02-20 19:00:00         P005        Cabin  entry\n",
            "4 2024-02-20 20:00:00         P001  Dining Hall   exit\n"
          ]
        }
      ]
    },
    {
      "cell_type": "code",
      "source": [
        "df3.info()"
      ],
      "metadata": {
        "colab": {
          "base_uri": "https://localhost:8080/"
        },
        "id": "3TOYVyMLw5fS",
        "outputId": "31ae2387-32f0-4089-9bf8-63678fc27801"
      },
      "execution_count": 12,
      "outputs": [
        {
          "output_type": "stream",
          "name": "stdout",
          "text": [
            "<class 'pandas.core.frame.DataFrame'>\n",
            "RangeIndex: 20 entries, 0 to 19\n",
            "Data columns (total 4 columns):\n",
            " #   Column        Non-Null Count  Dtype         \n",
            "---  ------        --------------  -----         \n",
            " 0   timestamp     20 non-null     datetime64[ns]\n",
            " 1   passenger_id  20 non-null     object        \n",
            " 2   location      20 non-null     object        \n",
            " 3   action        20 non-null     object        \n",
            "dtypes: datetime64[ns](1), object(3)\n",
            "memory usage: 772.0+ bytes\n"
          ]
        }
      ]
    },
    {
      "cell_type": "code",
      "source": [
        "(df3.isnull().sum() / len(df3)) * 100"
      ],
      "metadata": {
        "colab": {
          "base_uri": "https://localhost:8080/",
          "height": 209
        },
        "id": "QAVz3xkN2_Cr",
        "outputId": "45f6ef19-12e8-4ddc-a80e-3fcfa025e07b"
      },
      "execution_count": 9,
      "outputs": [
        {
          "output_type": "execute_result",
          "data": {
            "text/plain": [
              "timestamp       0.0\n",
              "passenger_id    0.0\n",
              "location        0.0\n",
              "action          0.0\n",
              "dtype: float64"
            ],
            "text/html": [
              "<div>\n",
              "<style scoped>\n",
              "    .dataframe tbody tr th:only-of-type {\n",
              "        vertical-align: middle;\n",
              "    }\n",
              "\n",
              "    .dataframe tbody tr th {\n",
              "        vertical-align: top;\n",
              "    }\n",
              "\n",
              "    .dataframe thead th {\n",
              "        text-align: right;\n",
              "    }\n",
              "</style>\n",
              "<table border=\"1\" class=\"dataframe\">\n",
              "  <thead>\n",
              "    <tr style=\"text-align: right;\">\n",
              "      <th></th>\n",
              "      <th>0</th>\n",
              "    </tr>\n",
              "  </thead>\n",
              "  <tbody>\n",
              "    <tr>\n",
              "      <th>timestamp</th>\n",
              "      <td>0.0</td>\n",
              "    </tr>\n",
              "    <tr>\n",
              "      <th>passenger_id</th>\n",
              "      <td>0.0</td>\n",
              "    </tr>\n",
              "    <tr>\n",
              "      <th>location</th>\n",
              "      <td>0.0</td>\n",
              "    </tr>\n",
              "    <tr>\n",
              "      <th>action</th>\n",
              "      <td>0.0</td>\n",
              "    </tr>\n",
              "  </tbody>\n",
              "</table>\n",
              "</div><br><label><b>dtype:</b> float64</label>"
            ]
          },
          "metadata": {},
          "execution_count": 9
        }
      ]
    },
    {
      "cell_type": "code",
      "source": [],
      "metadata": {
        "id": "IoU8K7CXpOCJ"
      },
      "execution_count": null,
      "outputs": []
    },
    {
      "cell_type": "code",
      "source": [],
      "metadata": {
        "id": "g4198BnApBuF"
      },
      "execution_count": null,
      "outputs": []
    },
    {
      "cell_type": "code",
      "source": [],
      "metadata": {
        "id": "wNpKTx7GpBw0"
      },
      "execution_count": null,
      "outputs": []
    },
    {
      "cell_type": "code",
      "source": [
        "# Show the first ~2000 chars of the task doc\n",
        "#!sed -n '1,150p' InterviewQuestion.md\n"
      ],
      "metadata": {
        "id": "i1fKdbAk_TwW"
      },
      "execution_count": null,
      "outputs": []
    },
    {
      "cell_type": "code",
      "source": [
        "from glob import glob\n",
        "csvs  = glob(\"**/*.csv\", recursive=True)\n",
        "jsons = glob(\"**/*.json\", recursive=True)\n",
        "csvs, jsons\n"
      ],
      "metadata": {
        "colab": {
          "base_uri": "https://localhost:8080/"
        },
        "id": "yrw0UuCfdO-Y",
        "outputId": "c955c851-a2c6-4f03-af9e-c13eb620f21c"
      },
      "execution_count": null,
      "outputs": [
        {
          "output_type": "execute_result",
          "data": {
            "text/plain": [
              "(['generate_data/dining_transactions.csv',\n",
              "  'generate_data/passenger_manifest.csv'],\n",
              " ['generate_data/card_access_logs.json'])"
            ]
          },
          "metadata": {},
          "execution_count": 5
        }
      ]
    },
    {
      "cell_type": "code",
      "source": [
        "\n"
      ],
      "metadata": {
        "id": "LVkDZrJGdPA2"
      },
      "execution_count": null,
      "outputs": []
    },
    {
      "cell_type": "code",
      "source": [],
      "metadata": {
        "id": "gE3pVlsW_T2C"
      },
      "execution_count": null,
      "outputs": []
    },
    {
      "cell_type": "code",
      "source": [],
      "metadata": {
        "id": "fjFmvXXv6qMu"
      },
      "execution_count": null,
      "outputs": []
    }
  ]
}