{
  "nbformat": 4,
  "nbformat_minor": 0,
  "metadata": {
    "colab": {
      "provenance": [],
      "authorship_tag": "ABX9TyMSQd0UC+2MN+GEzuh+IHYC",
      "include_colab_link": true
    },
    "kernelspec": {
      "name": "python3",
      "display_name": "Python 3"
    },
    "language_info": {
      "name": "python"
    }
  },
  "cells": [
    {
      "cell_type": "markdown",
      "metadata": {
        "id": "view-in-github",
        "colab_type": "text"
      },
      "source": [
        "<a href=\"https://colab.research.google.com/github/m-zayed5722/Miscellaneous-Projects/blob/main/Injection_Molding_ML.ipynb\" target=\"_parent\"><img src=\"https://colab.research.google.com/assets/colab-badge.svg\" alt=\"Open In Colab\"/></a>"
      ]
    },
    {
      "cell_type": "code",
      "execution_count": null,
      "metadata": {
        "id": "7GhyxWn3nf8F"
      },
      "outputs": [],
      "source": []
    },
    {
      "cell_type": "code",
      "source": [
        "from google.colab import drive\n",
        "drive.mount('/content/drive')\n"
      ],
      "metadata": {
        "colab": {
          "base_uri": "https://localhost:8080/"
        },
        "id": "dG0cJTX2Ld4q",
        "outputId": "4fe3b35a-8f41-4fb1-e9b9-cb3ae717e2e0"
      },
      "execution_count": null,
      "outputs": [
        {
          "output_type": "stream",
          "name": "stdout",
          "text": [
            "Mounted at /content/drive\n"
          ]
        }
      ]
    },
    {
      "cell_type": "code",
      "source": [
        "normal_path = \"/content/drive/My Drive/Colab Notebooks/datasets/SWaT_Dataset_Normal_v0.xlsx\"\n",
        "attack_path = \"/content/drive/My Drive/Colab Notebooks/datasets/SWaT_Dataset_Attack_v0.xlsx\"\n"
      ],
      "metadata": {
        "id": "WCClxt4ur6Dr"
      },
      "execution_count": null,
      "outputs": []
    },
    {
      "cell_type": "code",
      "source": [
        "import pandas as pd\n",
        "\n",
        "# Load the datasets\n",
        "normal_df = pd.read_excel(normal_path)\n",
        "attack_df = pd.read_excel(attack_path)\n",
        "\n",
        "# Quick check\n",
        "print(\"Normal shape:\", normal_df.shape)\n",
        "print(\"Attack shape:\", attack_df.shape)\n",
        "\n",
        "print(\"\\nNormal dataset head:\")\n",
        "print(normal_df.head())\n",
        "\n",
        "print(\"\\nAttack dataset head:\")\n",
        "print(attack_df.head())\n"
      ],
      "metadata": {
        "colab": {
          "base_uri": "https://localhost:8080/"
        },
        "id": "0pT3n94rM8Jq",
        "outputId": "976c8685-d1b3-4fcd-8b13-083bcb6660c5"
      },
      "execution_count": null,
      "outputs": [
        {
          "output_type": "stream",
          "name": "stderr",
          "text": [
            "/usr/local/lib/python3.12/dist-packages/openpyxl/worksheet/_reader.py:329: UserWarning: Unknown extension is not supported and will be removed\n",
            "  warn(msg)\n",
            "/usr/local/lib/python3.12/dist-packages/openpyxl/worksheet/_reader.py:329: UserWarning: Unknown extension is not supported and will be removed\n",
            "  warn(msg)\n"
          ]
        },
        {
          "output_type": "stream",
          "name": "stdout",
          "text": [
            "Normal shape: (496801, 53)\n",
            "Attack shape: (449920, 53)\n",
            "\n",
            "Normal dataset head:\n",
            "               Unnamed: 0        P1 Unnamed: 2 Unnamed: 3 Unnamed: 4  \\\n",
            "0               Timestamp    FIT101     LIT101      MV101       P101   \n",
            "1   22/12/2015 4:00:00 PM  2.470294   261.5804          2          2   \n",
            "2   22/12/2015 4:00:01 PM  2.457163   261.1879          2          2   \n",
            "3   22/12/2015 4:00:02 PM  2.439548   260.9131          2          2   \n",
            "4   22/12/2015 4:00:03 PM  2.428338    260.285          2          2   \n",
            "\n",
            "  Unnamed: 5        P2 Unnamed: 7 Unnamed: 8 Unnamed: 9  ... Unnamed: 43  \\\n",
            "0       P102    AIT201     AIT202     AIT203     FIT201  ...        P501   \n",
            "1          1  244.3284    8.19008    306.101   2.471278  ...           1   \n",
            "2          1  244.3284    8.19008    306.101   2.468587  ...           1   \n",
            "3          1  244.3284    8.19008    306.101   2.467305  ...           1   \n",
            "4          1  244.3284    8.19008    306.101   2.466536  ...           1   \n",
            "\n",
            "  Unnamed: 44 Unnamed: 45 Unnamed: 46 Unnamed: 47        P6 Unnamed: 49  \\\n",
            "0        P502      PIT501      PIT502      PIT503    FIT601        P601   \n",
            "1           1    10.02948           0    4.277749  0.000256           1   \n",
            "2           1    10.02948           0    4.277749  0.000256           1   \n",
            "3           1    10.02948           0    4.277749  0.000256           1   \n",
            "4           1    10.02948           0    4.277749  0.000256           1   \n",
            "\n",
            "  Unnamed: 50 Unnamed: 51    Unnamed: 52  \n",
            "0        P602        P603  Normal/Attack  \n",
            "1           1           1         Normal  \n",
            "2           1           1         Normal  \n",
            "3           1           1         Normal  \n",
            "4           1           1         Normal  \n",
            "\n",
            "[5 rows x 53 columns]\n",
            "\n",
            "Attack dataset head:\n",
            "                Unnamed: 0 Unnamed: 1 Unnamed: 2 Unnamed: 3 Unnamed: 4  \\\n",
            "0                Timestamp     FIT101     LIT101      MV101       P101   \n",
            "1   28/12/2015 10:00:00 AM   2.427057   522.8467          2          2   \n",
            "2   28/12/2015 10:00:01 AM   2.446274    522.886          2          2   \n",
            "3   28/12/2015 10:00:02 AM   2.489191   522.8467          2          2   \n",
            "4   28/12/2015 10:00:03 AM    2.53435   522.9645          2          2   \n",
            "\n",
            "  Unnamed: 5 Unnamed: 6 Unnamed: 7 Unnamed: 8 Unnamed: 9  ... Unnamed: 43  \\\n",
            "0       P102     AIT201     AIT202     AIT203     FIT201  ...        P501   \n",
            "1          1   262.0161   8.396437   328.6337   2.445391  ...           2   \n",
            "2          1   262.0161   8.396437   328.6337   2.445391  ...           2   \n",
            "3          1   262.0161   8.394514   328.6337   2.442316  ...           2   \n",
            "4          1   262.0161   8.394514   328.6337   2.442316  ...           2   \n",
            "\n",
            "  Unnamed: 44 Unnamed: 45 Unnamed: 46 Unnamed: 47 Unnamed: 48 Unnamed: 49  \\\n",
            "0        P502      PIT501      PIT502      PIT503      FIT601        P601   \n",
            "1           1    250.8652    1.649953    189.5988    0.000128           1   \n",
            "2           1    250.8652    1.649953    189.6789    0.000128           1   \n",
            "3           1    250.8812    1.649953    189.6789    0.000128           1   \n",
            "4           1    250.8812    1.649953    189.6148    0.000128           1   \n",
            "\n",
            "  Unnamed: 50 Unnamed: 51    Unnamed: 52  \n",
            "0        P602        P603  Normal/Attack  \n",
            "1           1           1         Normal  \n",
            "2           1           1         Normal  \n",
            "3           1           1         Normal  \n",
            "4           1           1         Normal  \n",
            "\n",
            "[5 rows x 53 columns]\n"
          ]
        }
      ]
    },
    {
      "cell_type": "code",
      "source": [
        "# Define save paths (same folder as original Excel files)\n",
        "normal_csv_path = \"/content/drive/My Drive/Colab Notebooks/datasets/SWaT_Dataset_Normal_v0_new.csv\"\n",
        "attack_csv_path = \"/content/drive/My Drive/Colab Notebooks/datasets/SWaT_Dataset_Attack_v0_new.csv\"\n",
        "\n",
        "# Save as CSV (much faster to load later)\n",
        "normal_df.to_csv(normal_csv_path, index=False)\n",
        "attack_df.to_csv(attack_csv_path, index=False)\n",
        "\n",
        "print(\"CSV files saved to:\", normal_csv_path, \"and\", attack_csv_path)\n"
      ],
      "metadata": {
        "colab": {
          "base_uri": "https://localhost:8080/"
        },
        "id": "t2wWjpHnM8O0",
        "outputId": "802f5a5d-bac3-4531-d829-29d373a962d7"
      },
      "execution_count": null,
      "outputs": [
        {
          "output_type": "stream",
          "name": "stdout",
          "text": [
            "CSV files saved to: /content/drive/My Drive/Colab Notebooks/datasets/SWaT_Dataset_Normal_v0_new.csv and /content/drive/My Drive/Colab Notebooks/datasets/SWaT_Dataset_Attack_v0_new.csv\n"
          ]
        }
      ]
    },
    {
      "cell_type": "code",
      "source": [],
      "metadata": {
        "id": "ZfsvAqn5Z22s"
      },
      "execution_count": null,
      "outputs": []
    },
    {
      "cell_type": "code",
      "source": [
        "###################################################################################################\n",
        "###################################################################################################\n",
        "# start here\n",
        "\n",
        "# Load datasets (use CSV if you already converted, else use Excel)\n",
        "normal_path = \"/content/drive/My Drive/Colab Notebooks/datasets/SWaT_Dataset_Normal_v0_new.csv\"\n",
        "attack_path = \"/content/drive/My Drive/Colab Notebooks/datasets/SWaT_Dataset_Attack_v0_new.csv\"\n",
        "\n",
        "attack_df = pd.read_csv(attack_path, header=1)\n",
        "normal_df = pd.read_csv(normal_path, header=1)\n",
        "\n",
        "# Strip whitespace from column names\n",
        "normal_df.columns = normal_df.columns.str.strip()\n",
        "attack_df.columns = attack_df.columns.str.strip()\n",
        "\n",
        "# Now drop irrelevant columns\n",
        "X_train = normal_df.drop(columns=[\"Timestamp\", \"Normal/Attack\"])\n",
        "X_test  = attack_df.drop(columns=[\"Timestamp\", \"Normal/Attack\"])\n",
        "\n",
        "# Clean labels\n",
        "y_test = attack_df[\"Normal/Attack\"].str.strip().replace({\"A ttack\": \"Attack\"})\n",
        "y_test = y_test.replace({\"Normal\": 0, \"Attack\": 1})\n"
      ],
      "metadata": {
        "colab": {
          "base_uri": "https://localhost:8080/"
        },
        "id": "eLjXwn8EwjuY",
        "outputId": "8382c4d3-1c18-4afd-9e80-8d82d14bc083"
      },
      "execution_count": null,
      "outputs": [
        {
          "output_type": "stream",
          "name": "stderr",
          "text": [
            "/tmp/ipython-input-648476884.py:22: FutureWarning: Downcasting behavior in `replace` is deprecated and will be removed in a future version. To retain the old behavior, explicitly call `result.infer_objects(copy=False)`. To opt-in to the future behavior, set `pd.set_option('future.no_silent_downcasting', True)`\n",
            "  y_test = y_test.replace({\"Normal\": 0, \"Attack\": 1})\n"
          ]
        }
      ]
    },
    {
      "cell_type": "code",
      "source": [
        "from sklearn.ensemble import IsolationForest\n",
        "from sklearn.metrics import f1_score\n",
        "import numpy as np\n",
        "import matplotlib.pyplot as plt\n",
        "\n",
        "# Range of contamination values (0.5% → 20%, 40 steps)\n",
        "contaminations = np.linspace(0.001, 0.20, 100)\n",
        "\n",
        "scores = []\n",
        "best_score = 0\n",
        "best_contamination = None\n",
        "\n",
        "for c in contaminations:\n",
        "    iso = IsolationForest(contamination=c, random_state=42)\n",
        "    iso.fit(X_train)\n",
        "\n",
        "    preds = iso.predict(X_test)\n",
        "    preds = np.where(preds == 1, 0, 1)  # convert: -1 → 1 (attack), 1 → 0 (normal)\n",
        "\n",
        "    score = f1_score(y_test, preds)\n",
        "    scores.append(score)\n",
        "\n",
        "    if score > best_score:\n",
        "        best_score = score\n",
        "        best_contamination = c\n",
        "\n",
        "print(f\"Best contamination: {best_contamination:.3f} with F1 score: {best_score:.4f}\")\n",
        "\n",
        "# --- Plot results ---\n",
        "plt.figure(figsize=(8,5))\n",
        "plt.plot(contaminations, scores, marker='o')\n",
        "plt.xlabel(\"Contamination\")\n",
        "plt.ylabel(\"F1 Score (Attack class)\")\n",
        "plt.title(\"Isolation Forest Performance vs Contamination\")\n",
        "plt.grid(True)\n",
        "plt.show()\n"
      ],
      "metadata": {
        "colab": {
          "base_uri": "https://localhost:8080/",
          "height": 504
        },
        "id": "wOrR2ZESda7Y",
        "outputId": "6832e8bf-18f4-41fe-f295-04e942f853e7"
      },
      "execution_count": null,
      "outputs": [
        {
          "output_type": "stream",
          "name": "stdout",
          "text": [
            "Best contamination: 0.007 with F1 score: 0.7384\n"
          ]
        },
        {
          "output_type": "display_data",
          "data": {
            "text/plain": [
              "<Figure size 800x500 with 1 Axes>"
            ],
            "image/png": "[encoded data removed]"
          },
          "metadata": {}
        }
      ]
    },
    {
      "cell_type": "code",
      "source": [
        "iso = IsolationForest(contamination=best_contamination, random_state=42)\n",
        "iso.fit(X_train)\n",
        "y_pred = iso.predict(X_test)\n",
        "y_pred = np.where(y_pred == 1, 0, 1)\n",
        "\n",
        "from sklearn.metrics import classification_report, confusion_matrix\n",
        "print(confusion_matrix(y_test, y_pred))\n",
        "print(classification_report(y_test, y_pred))\n"
      ],
      "metadata": {
        "colab": {
          "base_uri": "https://localhost:8080/"
        },
        "id": "H85TDOTRmQX5",
        "outputId": "5dbf438f-5963-4477-ed5e-38c366f66163"
      },
      "execution_count": null,
      "outputs": [
        {
          "output_type": "stream",
          "name": "stdout",
          "text": [
            "[[395199     99]\n",
            " [ 22596  32025]]\n",
            "              precision    recall  f1-score   support\n",
            "\n",
            "           0       0.95      1.00      0.97    395298\n",
            "           1       1.00      0.59      0.74     54621\n",
            "\n",
            "    accuracy                           0.95    449919\n",
            "   macro avg       0.97      0.79      0.86    449919\n",
            "weighted avg       0.95      0.95      0.94    449919\n",
            "\n"
          ]
        }
      ]
    },
    {
      "cell_type": "code",
      "source": [],
      "metadata": {
        "id": "g9uaUspkr5RO"
      },
      "execution_count": null,
      "outputs": []
    },
    {
      "cell_type": "code",
      "source": [],
      "metadata": {
        "id": "utfZO8ieC0XY"
      },
      "execution_count": null,
      "outputs": []
    }
  ]
}