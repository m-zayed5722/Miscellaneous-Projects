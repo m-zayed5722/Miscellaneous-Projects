{
  "nbformat": 4,
  "nbformat_minor": 0,
  "metadata": {
    "colab": {
      "provenance": [],
      "authorship_tag": "ABX9TyMF/I5OZOolLakOa833o4/y",
      "include_colab_link": true
    },
    "kernelspec": {
      "name": "python3",
      "display_name": "Python 3"
    },
    "language_info": {
      "name": "python"
    }
  },
  "cells": [
    {
      "cell_type": "markdown",
      "metadata": {
        "id": "view-in-github",
        "colab_type": "text"
      },
      "source": [
        "<a href=\"https://colab.research.google.com/github/m-zayed5722/Miscellaneous-Projects/blob/main/LeetCode.ipynb\" target=\"_parent\"><img src=\"https://colab.research.google.com/assets/colab-badge.svg\" alt=\"Open In Colab\"/></a>"
      ]
    },
    {
      "cell_type": "code",
      "execution_count": null,
      "metadata": {
        "id": "XqjSYpw36mUu"
      },
      "outputs": [],
      "source": []
    },
    {
      "cell_type": "code",
      "source": [
        "nums1 = [1,3]\n",
        "nums2 = [2]\n",
        "#nums1 = [1,2]\n",
        "#nums2 = [3,4]\n",
        "\n",
        "def findMedianSortedArrays(nums1, nums2):\n",
        "    # --- Step 1: Ensure nums1 is the smaller array ---\n",
        "    if len(nums2) < len(nums1):\n",
        "        smaller = nums2\n",
        "        larger = nums1\n",
        "    else:\n",
        "        smaller = nums1\n",
        "        larger = nums2\n",
        "\n",
        "    # --- Step 2: Setup binary search on the smaller array ---\n",
        "    low = 0\n",
        "    high = len(smaller)\n",
        "\n",
        "    # --- Step 3: Binary search loop ---\n",
        "    while low <= high:\n",
        "        # Partition positions\n",
        "        partition_smaller = (low + high) // 2\n",
        "        partition_larger = (len(nums1) + len(nums2) + 1) // 2 - partition_smaller\n",
        "\n",
        "        # --- Step 4: Get boundary values for the smaller array ---\n",
        "        if partition_smaller > 0:\n",
        "            maxLeftSmaller = smaller[partition_smaller - 1]\n",
        "        else:\n",
        "            maxLeftSmaller = float(\"-inf\")\n",
        "\n",
        "        if partition_smaller < len(smaller):\n",
        "            minRightSmaller = smaller[partition_smaller]\n",
        "        else:\n",
        "            minRightSmaller = float(\"inf\")\n",
        "\n",
        "        # --- Step 5: Get boundary values for the larger array ---\n",
        "        if partition_larger > 0:\n",
        "            maxLeftLarger = larger[partition_larger - 1]\n",
        "        else:\n",
        "            maxLeftLarger = float(\"-inf\")\n",
        "\n",
        "        if partition_larger < len(larger):\n",
        "            minRightLarger = larger[partition_larger]\n",
        "        else:\n",
        "            minRightLarger = float(\"inf\")\n",
        "\n",
        "        # --- Step 6: Check if we have a valid partition ---\n",
        "        if maxLeftSmaller <= minRightLarger and maxLeftLarger <= minRightSmaller:\n",
        "            # ✅ Correct partition found\n",
        "\n",
        "            # If total length is even: median is avg of two middle values\n",
        "            if (len(nums1) + len(nums2)) % 2 == 0:\n",
        "                return (max(maxLeftSmaller, maxLeftLarger) +\n",
        "                        min(minRightSmaller, minRightLarger)) / 2.0\n",
        "            # If total length is odd: median is max of left side\n",
        "            else:\n",
        "                return max(maxLeftSmaller, maxLeftLarger)\n",
        "\n",
        "        # --- Step 7: Adjust binary search range ---\n",
        "        elif maxLeftSmaller > minRightLarger:\n",
        "            # Too far right in smaller, move cut left\n",
        "            high = partition_smaller - 1\n",
        "        else:\n",
        "            # Too far left in smaller, move cut right\n",
        "            low = partition_smaller + 1\n"
      ],
      "metadata": {
        "id": "gRUkhdVL-ERf"
      },
      "execution_count": 5,
      "outputs": []
    },
    {
      "cell_type": "code",
      "source": [
        "smaller"
      ],
      "metadata": {
        "colab": {
          "base_uri": "https://localhost:8080/"
        },
        "id": "CZx1R3b7-EUF",
        "outputId": "f6abec54-0dbd-467c-b05a-e396d7a80726"
      },
      "execution_count": 6,
      "outputs": [
        {
          "output_type": "execute_result",
          "data": {
            "text/plain": [
              "[2]"
            ]
          },
          "metadata": {},
          "execution_count": 6
        }
      ]
    },
    {
      "cell_type": "code",
      "source": [],
      "metadata": {
        "id": "ppqAehWr-EW6"
      },
      "execution_count": null,
      "outputs": []
    },
    {
      "cell_type": "code",
      "source": [],
      "metadata": {
        "id": "N39cHD4r6oqz"
      },
      "execution_count": 4,
      "outputs": []
    },
    {
      "cell_type": "code",
      "source": [],
      "metadata": {
        "id": "Qinde6TL6ovb"
      },
      "execution_count": null,
      "outputs": []
    },
    {
      "cell_type": "code",
      "source": [],
      "metadata": {
        "id": "0_2p2f996oyT"
      },
      "execution_count": null,
      "outputs": []
    },
    {
      "cell_type": "code",
      "source": [],
      "metadata": {
        "id": "J30PeW4t6o1l"
      },
      "execution_count": null,
      "outputs": []
    },
    {
      "cell_type": "code",
      "source": [
        "class Solution:\n",
        "    def findMedianSortedArrays(self, nums1: List[int], nums2: List[int]) -> float:\n",
        "        #merge arrays\n",
        "        nums3 = nums1 + nums2\n",
        "        #sort merged array\n",
        "        nums3 = sorted (nums1 +nums2)\n",
        "        #find median\n",
        "        if (len(nums3)%2==0):\n",
        "            return (nums3[(len(nums3))//2] + nums3[((len(nums3))//2)-1]) /2\n",
        "        else:\n",
        "            return nums3[(len(nums3))//2]\n",
        ""
      ],
      "metadata": {
        "id": "e8-RQc6k6o41"
      },
      "execution_count": null,
      "outputs": []
    }
  ]
}