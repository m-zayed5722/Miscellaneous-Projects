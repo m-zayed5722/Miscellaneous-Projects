{
  "nbformat": 4,
  "nbformat_minor": 0,
  "metadata": {
    "colab": {
      "provenance": [],
      "authorship_tag": "ABX9TyMCtzOE48lvDtw8sJEkidDZ",
      "include_colab_link": true
    },
    "kernelspec": {
      "name": "python3",
      "display_name": "Python 3"
    },
    "language_info": {
      "name": "python"
    }
  },
  "cells": [
    {
      "cell_type": "markdown",
      "metadata": {
        "id": "view-in-github",
        "colab_type": "text"
      },
      "source": [
        "<a href=\"https://colab.research.google.com/github/m-zayed5722/Miscellaneous-Projects/blob/main/LeetCode.ipynb\" target=\"_parent\"><img src=\"https://colab.research.google.com/assets/colab-badge.svg\" alt=\"Open In Colab\"/></a>"
      ]
    },
    {
      "cell_type": "code",
      "execution_count": null,
      "metadata": {
        "id": "XqjSYpw36mUu"
      },
      "outputs": [],
      "source": []
    },
    {
      "cell_type": "code",
      "source": [
        "#s = \")()))()(())\"\n",
        "s = \"())()\"\n",
        "s = \"(()\"\n",
        "s = \"()(\"\n",
        "open = 0\n",
        "closed = 0\n",
        "balanced = 0\n",
        "\n",
        "list_of_str = []\n",
        "temp_str = \"\"\n",
        "for i in range(len(s)):\n",
        "    if (balanced<0):\n",
        "      if (open != 0):\n",
        "          list_of_str.append(temp_str[:-1])\n",
        "          open = 0\n",
        "          closed = 0\n",
        "          balanced = 0\n",
        "          temp_str = \"\"\n",
        "          #continue\n",
        "      else:\n",
        "          temp_str = \"\"\n",
        "          balanced = 0\n",
        "          closed = 0\n",
        "          open = 0\n",
        "    if (s[i]=='('):\n",
        "      open = open + 1\n",
        "      balanced = balanced + 1\n",
        "      temp_str = temp_str + s[i]\n",
        "    else:\n",
        "      closed = closed + 1\n",
        "      balanced = balanced - 1\n",
        "      temp_str = temp_str + s[i]\n",
        "    if ((i+1) == len(s)) and (balanced == 0):\n",
        "      list_of_str.append(temp_str)\n",
        "    elif ((i+1) == len(s)) and (balanced > 0):\n",
        "      for j in range(balanced):\n",
        "        temp_str = temp_str.replace(\"(\", \"\",1)\n",
        "      list_of_str.append(temp_str)\n",
        "\n",
        "for i in range(len(list_of_str)):\n",
        "  print (list_of_str[i])"
      ],
      "metadata": {
        "colab": {
          "base_uri": "https://localhost:8080/"
        },
        "id": "6h_VvpxCziiS",
        "outputId": "98ae6164-7048-49b9-c26d-8aaf83203473"
      },
      "execution_count": 58,
      "outputs": [
        {
          "output_type": "stream",
          "name": "stdout",
          "text": [
            ")(\n"
          ]
        }
      ]
    },
    {
      "cell_type": "code",
      "source": [
        "s = \"(()(\"\n",
        "stack = [-1]   # stack of indices\n",
        "list_of_str = []\n",
        "\n",
        "for i, c in enumerate(s):\n",
        "    if c == '(':\n",
        "        stack.append(i)\n",
        "    else:\n",
        "        if stack:\n",
        "            stack.pop()\n",
        "        if stack:\n",
        "            start = stack[-1] + 1\n",
        "            list_of_str.append(s[start:i+1])\n",
        "        else:\n",
        "            stack.append(i)\n",
        "\n",
        "print(list_of_str)\n",
        "# To find the longest\n",
        "if list_of_str:\n",
        "    print(\"Longest valid parentheses:\", max(list_of_str, key=len))\n"
      ],
      "metadata": {
        "colab": {
          "base_uri": "https://localhost:8080/"
        },
        "id": "Y6cdlwBMqwQF",
        "outputId": "d7bc35bd-bb0f-45d0-a7d3-59e7efcbe5ab"
      },
      "execution_count": 61,
      "outputs": [
        {
          "output_type": "stream",
          "name": "stdout",
          "text": [
            "['()']\n",
            "Longest valid parentheses: ()\n"
          ]
        }
      ]
    },
    {
      "cell_type": "code",
      "source": [],
      "metadata": {
        "id": "rVCDYnLbqwTE"
      },
      "execution_count": null,
      "outputs": []
    },
    {
      "cell_type": "code",
      "source": [],
      "metadata": {
        "id": "AcqRiQu4qwV9"
      },
      "execution_count": null,
      "outputs": []
    },
    {
      "cell_type": "code",
      "source": [],
      "metadata": {
        "id": "CTYlVnoJzip3"
      },
      "execution_count": null,
      "outputs": []
    },
    {
      "cell_type": "code",
      "source": [],
      "metadata": {
        "id": "Qinde6TL6ovb"
      },
      "execution_count": null,
      "outputs": []
    },
    {
      "cell_type": "code",
      "source": [],
      "metadata": {
        "id": "0_2p2f996oyT"
      },
      "execution_count": null,
      "outputs": []
    },
    {
      "cell_type": "code",
      "source": [],
      "metadata": {
        "id": "J30PeW4t6o1l"
      },
      "execution_count": null,
      "outputs": []
    },
    {
      "cell_type": "code",
      "source": [],
      "metadata": {
        "id": "OvVq8CGNqtS1"
      },
      "execution_count": null,
      "outputs": []
    },
    {
      "cell_type": "code",
      "source": [],
      "metadata": {
        "id": "EQ2Nbms0qtVw"
      },
      "execution_count": null,
      "outputs": []
    },
    {
      "cell_type": "code",
      "source": [],
      "metadata": {
        "id": "ucU6vuc1qtYe"
      },
      "execution_count": null,
      "outputs": []
    },
    {
      "cell_type": "code",
      "source": [
        "class Solution:\n",
        "    def isMatch(self, s: str, p: str) -> bool:\n",
        "        m, n = len(s), len(p)\n",
        "\n",
        "        # dp[i][j] means if s[:i] matches p[:j]\n",
        "        dp = [[False] * (n + 1) for _ in range(m + 1)]\n",
        "        dp[0][0] = True  # empty string matches empty pattern\n",
        "\n",
        "        # Pre-fill patterns like a*, a*b*, a*b*c* matching empty string\n",
        "        for j in range(2, n + 1):\n",
        "            if p[j - 1] == \"*\":\n",
        "                dp[0][j] = dp[0][j - 2]\n",
        "\n",
        "        # Fill DP table\n",
        "        for i in range(1, m + 1):\n",
        "            for j in range(1, n + 1):\n",
        "                if p[j - 1] in {s[i - 1], \".\"}:\n",
        "                    dp[i][j] = dp[i - 1][j - 1]\n",
        "                elif p[j - 1] == \"*\":\n",
        "                    # zero occurrence\n",
        "                    dp[i][j] = dp[i][j - 2]\n",
        "                    # one or more occurrences\n",
        "                    if p[j - 2] in {s[i - 1], \".\"}:\n",
        "                        dp[i][j] = dp[i][j] or dp[i - 1][j]\n",
        "\n",
        "        return dp[m][n]\n",
        "\n",
        "\n",
        "# ------------------ TESTING ------------------\n",
        "test_cases = [\n",
        "    (\"aa\", \"a\", False),\n",
        "    (\"aa\", \"a*\", True),\n",
        "    (\"ab\", \".*\", True),\n",
        "    (\"aab\", \"c*a*b\", True),\n",
        "    (\"mississippi\", \"mis*is*p*.\", False),\n",
        "    (\"\", \".*\", True),\n",
        "    (\"\", \"\", True),\n",
        "    (\"\", \"a*\", True),\n",
        "    (\"abcd\", \"d*\", False),\n",
        "    (\"abcd\", \".*d\", True),\n",
        "    (\"aaa\", \"a*a\", True),\n",
        "    (\"aaa\", \"ab*a*c*a\", True),\n",
        "    (\"a\", \"ab*\", True),\n",
        "    (\"bbbba\", \".*a*a\", True),\n",
        "    (\"a\", \".*..a*\", False),\n",
        "    (\"ab\", \".*c\", False),\n",
        "    (\"aaa\", \"aaaa\", False),\n",
        "    (\"aa\", \".*..\", True),\n",
        "    (\"abc\", \"abc\", True),\n",
        "    (\"abc\", \"a.c\", True),\n",
        "]\n",
        "\n",
        "solution = Solution()\n",
        "\n",
        "for idx, (s, p, expected) in enumerate(test_cases, 1):\n",
        "    result = solution.isMatch(s, p)\n",
        "    print(f\"Test case {idx}: isMatch({s!r}, {p!r}) = {result} | Expected: {expected} | {'PASS' if result == expected else 'FAIL'}\")\n"
      ],
      "metadata": {
        "id": "R7UJX3KAqtbk"
      },
      "execution_count": null,
      "outputs": []
    },
    {
      "cell_type": "code",
      "source": [
        "#correct but need to be optimized\n",
        "class Solution:\n",
        "    def findMedianSortedArrays(self, nums1: List[int], nums2: List[int]) -> float:\n",
        "        #merge arrays\n",
        "        nums3 = nums1 + nums2\n",
        "        #sort merged array\n",
        "        nums3 = sorted (nums1 +nums2)\n",
        "        #find median\n",
        "        if (len(nums3)%2==0):\n",
        "            return (nums3[(len(nums3))//2] + nums3[((len(nums3))//2)-1]) /2\n",
        "        else:\n",
        "            return nums3[(len(nums3))//2]\n",
        ""
      ],
      "metadata": {
        "id": "e8-RQc6k6o41"
      },
      "execution_count": null,
      "outputs": []
    }
  ]
}