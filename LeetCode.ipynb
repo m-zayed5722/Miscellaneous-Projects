{
  "nbformat": 4,
  "nbformat_minor": 0,
  "metadata": {
    "colab": {
      "provenance": [],
      "authorship_tag": "ABX9TyMOT5FHvRAuIxszox8jpIkd",
      "include_colab_link": true
    },
    "kernelspec": {
      "name": "python3",
      "display_name": "Python 3"
    },
    "language_info": {
      "name": "python"
    }
  },
  "cells": [
    {
      "cell_type": "markdown",
      "metadata": {
        "id": "view-in-github",
        "colab_type": "text"
      },
      "source": [
        "<a href=\"https://colab.research.google.com/github/m-zayed5722/Miscellaneous-Projects/blob/main/LeetCode.ipynb\" target=\"_parent\"><img src=\"https://colab.research.google.com/assets/colab-badge.svg\" alt=\"Open In Colab\"/></a>"
      ]
    },
    {
      "cell_type": "code",
      "execution_count": null,
      "metadata": {
        "id": "XqjSYpw36mUu"
      },
      "outputs": [],
      "source": []
    },
    {
      "cell_type": "code",
      "source": [
        "nums1 = [1,3]\n",
        "nums2 = [2]\n",
        "#nums1 = [1,2]\n",
        "#nums2 = [3,4]\n",
        "\n",
        "def findMedianSortedArrays(nums1, nums2):\n",
        "    # --- Step 1: Ensure nums1 is the smaller array ---\n",
        "    if len(nums2) < len(nums1):\n",
        "        smaller = nums2\n",
        "        larger = nums1\n",
        "    else:\n",
        "        smaller = nums1\n",
        "        larger = nums2\n",
        "\n",
        "    # --- Step 2: Setup binary search on the smaller array ---\n",
        "    low = 0\n",
        "    high = len(smaller)\n",
        "\n",
        "    # --- Step 3: Binary search loop ---\n",
        "    while low <= high:\n",
        "        # Partition positions\n",
        "        partition_smaller = (low + high) // 2\n",
        "        partition_larger = (len(nums1) + len(nums2) + 1) // 2 - partition_smaller\n",
        "\n",
        "        # --- Step 4: Get boundary values for the smaller array ---\n",
        "        if partition_smaller > 0:\n",
        "            maxLeftSmaller = smaller[partition_smaller - 1]\n",
        "        else:\n",
        "            maxLeftSmaller = float(\"-inf\")\n",
        "\n",
        "        if partition_smaller < len(smaller):\n",
        "            minRightSmaller = smaller[partition_smaller]\n",
        "        else:\n",
        "            minRightSmaller = float(\"inf\")\n",
        "\n",
        "        # --- Step 5: Get boundary values for the larger array ---\n",
        "        if partition_larger > 0:\n",
        "            maxLeftLarger = larger[partition_larger - 1]\n",
        "        else:\n",
        "            maxLeftLarger = float(\"-inf\")\n",
        "\n",
        "        if partition_larger < len(larger):\n",
        "            minRightLarger = larger[partition_larger]\n",
        "        else:\n",
        "            minRightLarger = float(\"inf\")\n",
        "\n",
        "        # --- Step 6: Check if we have a valid partition ---\n",
        "        if maxLeftSmaller <= minRightLarger and maxLeftLarger <= minRightSmaller:\n",
        "            # ✅ Correct partition found\n",
        "\n",
        "            # If total length is even: median is avg of two middle values\n",
        "            if (len(nums1) + len(nums2)) % 2 == 0:\n",
        "                return (max(maxLeftSmaller, maxLeftLarger) +\n",
        "                        min(minRightSmaller, minRightLarger)) / 2.0\n",
        "            # If total length is odd: median is max of left side\n",
        "            else:\n",
        "                return max(maxLeftSmaller, maxLeftLarger)\n",
        "\n",
        "        # --- Step 7: Adjust binary search range ---\n",
        "        elif maxLeftSmaller > minRightLarger:\n",
        "            # Too far right in smaller, move cut left\n",
        "            high = partition_smaller - 1\n",
        "        else:\n",
        "            # Too far left in smaller, move cut right\n",
        "            low = partition_smaller + 1\n"
      ],
      "metadata": {
        "id": "gRUkhdVL-ERf"
      },
      "execution_count": 5,
      "outputs": []
    },
    {
      "cell_type": "code",
      "source": [
        "#"
      ],
      "metadata": {
        "id": "6h_VvpxCziiS"
      },
      "execution_count": null,
      "outputs": []
    },
    {
      "cell_type": "code",
      "source": [
        "s = \"aa\"\n",
        "print (len(s))"
      ],
      "metadata": {
        "colab": {
          "base_uri": "https://localhost:8080/"
        },
        "id": "iOpZJR8WiuMX",
        "outputId": "78ce3ff0-060f-418e-8cf4-9a1ac27c1afd"
      },
      "execution_count": 1,
      "outputs": [
        {
          "output_type": "stream",
          "name": "stdout",
          "text": [
            "2\n"
          ]
        }
      ]
    },
    {
      "cell_type": "code",
      "source": [
        "#10. Regular Expression Matching\n",
        "#\n",
        "s = \"abcd\"\n",
        "p = \".*d\"\n",
        "flag=True\n",
        "star_dot=False\n",
        "j=0\n",
        "for i in range(len(s)):\n",
        "    print(i)\n",
        "    if (j<len(p)) and ((s[i]==p[j]) or (p[j]=='.')):\n",
        "      j=j+1\n",
        "      print(\"1st if\")\n",
        "    elif (j<len(p)) and (p[j]=='*') and (j-1>=0) and ((s[i]==p[j-1]) or (p[j-1]=='.')):\n",
        "      if (p[j]=='*' and p[j-1]=='.'):\n",
        "        star_dot = True\n",
        "      j=j+1\n",
        "      print(\"2nd if\")\n",
        "    elif (j+1<len(p)) and (p[j+1]=='*'):\n",
        "      j=j+1\n",
        "      print(\"3rd if\")\n",
        "    elif star_dot == True:\n",
        "      j=j+1\n",
        "      star_dot = False\n",
        "      print(\"star_dot if\")\n",
        "    else:\n",
        "      print(\"4th if\")\n",
        "      flag = False\n",
        "      break\n",
        "\n",
        "if flag == False:\n",
        "  print(\"False\")\n",
        "else:\n",
        "  print(\"True\")"
      ],
      "metadata": {
        "colab": {
          "base_uri": "https://localhost:8080/"
        },
        "id": "a_wRq0ORzimY",
        "outputId": "5b331635-a795-4486-f40c-2ced8721c885"
      },
      "execution_count": 20,
      "outputs": [
        {
          "output_type": "stream",
          "name": "stdout",
          "text": [
            "0\n",
            "1st if\n",
            "1\n",
            "2nd if\n",
            "2\n",
            "star_dot if\n",
            "3\n",
            "4th if\n",
            "False\n"
          ]
        }
      ]
    },
    {
      "cell_type": "code",
      "source": [],
      "metadata": {
        "id": "CTYlVnoJzip3"
      },
      "execution_count": null,
      "outputs": []
    },
    {
      "cell_type": "code",
      "source": [
        "class Solution:\n",
        "    def isMatch(self, s: str, p: str) -> bool:\n",
        "        m, n = len(s), len(p)\n",
        "\n",
        "        # dp[i][j] means if s[:i] matches p[:j]\n",
        "        dp = [[False] * (n + 1) for _ in range(m + 1)]\n",
        "        dp[0][0] = True  # empty string matches empty pattern\n",
        "\n",
        "        # Pre-fill patterns like a*, a*b*, a*b*c* matching empty string\n",
        "        for j in range(2, n + 1):\n",
        "            if p[j - 1] == \"*\":\n",
        "                dp[0][j] = dp[0][j - 2]\n",
        "\n",
        "        # Fill DP table\n",
        "        for i in range(1, m + 1):\n",
        "            for j in range(1, n + 1):\n",
        "                if p[j - 1] in {s[i - 1], \".\"}:\n",
        "                    dp[i][j] = dp[i - 1][j - 1]\n",
        "                elif p[j - 1] == \"*\":\n",
        "                    # zero occurrence\n",
        "                    dp[i][j] = dp[i][j - 2]\n",
        "                    # one or more occurrences\n",
        "                    if p[j - 2] in {s[i - 1], \".\"}:\n",
        "                        dp[i][j] = dp[i][j] or dp[i - 1][j]\n",
        "\n",
        "        return dp[m][n]\n",
        "\n",
        "\n",
        "# ------------------ TESTING ------------------\n",
        "test_cases = [\n",
        "    (\"aa\", \"a\", False),\n",
        "    (\"aa\", \"a*\", True),\n",
        "    (\"ab\", \".*\", True),\n",
        "    (\"aab\", \"c*a*b\", True),\n",
        "    (\"mississippi\", \"mis*is*p*.\", False),\n",
        "    (\"\", \".*\", True),\n",
        "    (\"\", \"\", True),\n",
        "    (\"\", \"a*\", True),\n",
        "    (\"abcd\", \"d*\", False),\n",
        "    (\"abcd\", \".*d\", True),\n",
        "    (\"aaa\", \"a*a\", True),\n",
        "    (\"aaa\", \"ab*a*c*a\", True),\n",
        "    (\"a\", \"ab*\", True),\n",
        "    (\"bbbba\", \".*a*a\", True),\n",
        "    (\"a\", \".*..a*\", False),\n",
        "    (\"ab\", \".*c\", False),\n",
        "    (\"aaa\", \"aaaa\", False),\n",
        "    (\"aa\", \".*..\", True),\n",
        "    (\"abc\", \"abc\", True),\n",
        "    (\"abc\", \"a.c\", True),\n",
        "]\n",
        "\n",
        "solution = Solution()\n",
        "\n",
        "for idx, (s, p, expected) in enumerate(test_cases, 1):\n",
        "    result = solution.isMatch(s, p)\n",
        "    print(f\"Test case {idx}: isMatch({s!r}, {p!r}) = {result} | Expected: {expected} | {'PASS' if result == expected else 'FAIL'}\")\n"
      ],
      "metadata": {
        "colab": {
          "base_uri": "https://localhost:8080/"
        },
        "id": "ppqAehWr-EW6",
        "outputId": "e3e7f799-5285-4088-830b-f25df13ac569"
      },
      "execution_count": 14,
      "outputs": [
        {
          "output_type": "stream",
          "name": "stdout",
          "text": [
            "Test case 1: isMatch('aa', 'a') = False | Expected: False | PASS\n",
            "Test case 2: isMatch('aa', 'a*') = True | Expected: True | PASS\n",
            "Test case 3: isMatch('ab', '.*') = True | Expected: True | PASS\n",
            "Test case 4: isMatch('aab', 'c*a*b') = True | Expected: True | PASS\n",
            "Test case 5: isMatch('mississippi', 'mis*is*p*.') = False | Expected: False | PASS\n",
            "Test case 6: isMatch('', '.*') = True | Expected: True | PASS\n",
            "Test case 7: isMatch('', '') = True | Expected: True | PASS\n",
            "Test case 8: isMatch('', 'a*') = True | Expected: True | PASS\n",
            "Test case 9: isMatch('abcd', 'd*') = False | Expected: False | PASS\n",
            "Test case 10: isMatch('abcd', '.*d') = True | Expected: True | PASS\n",
            "Test case 11: isMatch('aaa', 'a*a') = True | Expected: True | PASS\n",
            "Test case 12: isMatch('aaa', 'ab*a*c*a') = True | Expected: True | PASS\n",
            "Test case 13: isMatch('a', 'ab*') = True | Expected: True | PASS\n",
            "Test case 14: isMatch('bbbba', '.*a*a') = True | Expected: True | PASS\n",
            "Test case 15: isMatch('a', '.*..a*') = False | Expected: False | PASS\n",
            "Test case 16: isMatch('ab', '.*c') = False | Expected: False | PASS\n",
            "Test case 17: isMatch('aaa', 'aaaa') = False | Expected: False | PASS\n",
            "Test case 18: isMatch('aa', '.*..') = True | Expected: True | PASS\n",
            "Test case 19: isMatch('abc', 'abc') = True | Expected: True | PASS\n",
            "Test case 20: isMatch('abc', 'a.c') = True | Expected: True | PASS\n"
          ]
        }
      ]
    },
    {
      "cell_type": "code",
      "source": [],
      "metadata": {
        "id": "N39cHD4r6oqz"
      },
      "execution_count": 4,
      "outputs": []
    },
    {
      "cell_type": "code",
      "source": [],
      "metadata": {
        "id": "Qinde6TL6ovb"
      },
      "execution_count": null,
      "outputs": []
    },
    {
      "cell_type": "code",
      "source": [],
      "metadata": {
        "id": "0_2p2f996oyT"
      },
      "execution_count": null,
      "outputs": []
    },
    {
      "cell_type": "code",
      "source": [],
      "metadata": {
        "id": "J30PeW4t6o1l"
      },
      "execution_count": null,
      "outputs": []
    },
    {
      "cell_type": "code",
      "source": [
        "#correct but need to be optimized\n",
        "class Solution:\n",
        "    def findMedianSortedArrays(self, nums1: List[int], nums2: List[int]) -> float:\n",
        "        #merge arrays\n",
        "        nums3 = nums1 + nums2\n",
        "        #sort merged array\n",
        "        nums3 = sorted (nums1 +nums2)\n",
        "        #find median\n",
        "        if (len(nums3)%2==0):\n",
        "            return (nums3[(len(nums3))//2] + nums3[((len(nums3))//2)-1]) /2\n",
        "        else:\n",
        "            return nums3[(len(nums3))//2]\n",
        ""
      ],
      "metadata": {
        "id": "e8-RQc6k6o41"
      },
      "execution_count": null,
      "outputs": []
    }
  ]
}