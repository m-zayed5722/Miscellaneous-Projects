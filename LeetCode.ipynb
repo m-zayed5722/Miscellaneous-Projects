{
  "nbformat": 4,
  "nbformat_minor": 0,
  "metadata": {
    "colab": {
      "provenance": [],
      "authorship_tag": "ABX9TyMYpM8Bp7EPUqmOgx/eXCYb",
      "include_colab_link": true
    },
    "kernelspec": {
      "name": "python3",
      "display_name": "Python 3"
    },
    "language_info": {
      "name": "python"
    }
  },
  "cells": [
    {
      "cell_type": "markdown",
      "metadata": {
        "id": "view-in-github",
        "colab_type": "text"
      },
      "source": [
        "<a href=\"https://colab.research.google.com/github/m-zayed5722/Miscellaneous-Projects/blob/main/LeetCode.ipynb\" target=\"_parent\"><img src=\"https://colab.research.google.com/assets/colab-badge.svg\" alt=\"Open In Colab\"/></a>"
      ]
    },
    {
      "cell_type": "code",
      "execution_count": null,
      "metadata": {
        "id": "XqjSYpw36mUu"
      },
      "outputs": [],
      "source": []
    },
    {
      "cell_type": "code",
      "source": [
        "#two sum\n",
        "\n",
        "nums = [2,7,11,15]\n",
        "target = 9\n",
        "nums = [3,2,4]\n",
        "target = 6\n",
        "nums = [3,3]\n",
        "target = 6\n",
        "\n",
        "\n",
        "for i in range(len(nums)):\n",
        "  for j in range(len(nums)):\n",
        "    if (((nums[i]+nums[j]) == target)) and (i!=j):\n",
        "      print(str(i) + \" , \" + str(j))\n",
        "      break\n"
      ],
      "metadata": {
        "colab": {
          "base_uri": "https://localhost:8080/"
        },
        "id": "LfWjhRckWPg8",
        "outputId": "c77f34e0-cb03-4167-dec0-fa6569833140"
      },
      "execution_count": 3,
      "outputs": [
        {
          "output_type": "stream",
          "name": "stdout",
          "text": [
            "0 , 1\n",
            "1 , 0\n"
          ]
        }
      ]
    },
    {
      "cell_type": "code",
      "source": [],
      "metadata": {
        "id": "Jsqq5wp3WPj-"
      },
      "execution_count": null,
      "outputs": []
    },
    {
      "cell_type": "code",
      "source": [
        "# Longest Substring Without Repeating Characters\n",
        "\n",
        "s = \"abcabcbb\"\n",
        "#s = \"bbbbb\"\n",
        "#s = \"pwwkew\"\n",
        "#s = \"aaou\"\n",
        "s = \"jbpnbwwd\"\n",
        "\n",
        "temp = \"\"\n",
        "count = 0\n",
        "flag = False\n",
        "\n",
        "for i in range (len(s)):\n",
        "\n",
        "  flag = False\n",
        "  temp = \"\"\n",
        "  temp += s[i]\n",
        "  j = i+1\n",
        "  while j < len(s) and flag == False:\n",
        "    if (s[j] not in temp):\n",
        "      temp = temp + s[j]\n",
        "    elif (len(temp)>count):\n",
        "      print (temp)\n",
        "      count = len(temp)\n",
        "      flag = True\n",
        "    j += 1\n",
        "    if j == len(s) and len(temp)>count and flag == False:\n",
        "      print (temp)\n",
        "      count = len(temp)\n",
        "      flag = True\n",
        "print(count)\n"
      ],
      "metadata": {
        "colab": {
          "base_uri": "https://localhost:8080/"
        },
        "id": "AjDXIbFXWPmg",
        "outputId": "1c8c0027-defa-45d6-e4e0-c12dda2e9ed3"
      },
      "execution_count": 69,
      "outputs": [
        {
          "output_type": "stream",
          "name": "stdout",
          "text": [
            "jbpn\n",
            "bpnwd\n",
            "5\n"
          ]
        }
      ]
    },
    {
      "cell_type": "code",
      "source": [
        "# Longest Substring Without Repeating Characters\n",
        "\n",
        "s = \"abcabcbb\"\n",
        "#s = \"bbbbb\"\n",
        "#s = \"pwwkew\"\n",
        "s = \"aaou\"\n",
        "#s = \"jbpnbwwd\"\n",
        "\n",
        "temp = \"\"\n",
        "count = 0\n",
        "flag = False\n",
        "\n",
        "for i in range (len(s)):\n",
        "\n",
        "  flag = False\n",
        "  temp = \"\"\n",
        "  temp += s[i]\n",
        "  j = i+1\n",
        "  while j < len(s) and flag == False:\n",
        "    if (s[j] not in temp):\n",
        "      temp = temp + s[j]\n",
        "    elif (len(temp)>count):\n",
        "      count = len(temp)\n",
        "      flag = True\n",
        "    else:\n",
        "      flag = True\n",
        "    j += 1\n",
        "    if (len(temp)>count) and j == len(s):\n",
        "      count = len(temp)\n",
        "print(count)"
      ],
      "metadata": {
        "colab": {
          "base_uri": "https://localhost:8080/"
        },
        "id": "SzVD-VMoti4x",
        "outputId": "a8910133-b9ed-4a9e-8031-7ac32924b5bf"
      },
      "execution_count": 98,
      "outputs": [
        {
          "output_type": "stream",
          "name": "stdout",
          "text": [
            "3\n"
          ]
        }
      ]
    },
    {
      "cell_type": "code",
      "source": [],
      "metadata": {
        "id": "4qNgQeq7WPpK"
      },
      "execution_count": null,
      "outputs": []
    },
    {
      "cell_type": "code",
      "source": [],
      "metadata": {
        "id": "KS_P6epWWPrt"
      },
      "execution_count": null,
      "outputs": []
    },
    {
      "cell_type": "code",
      "source": [],
      "metadata": {
        "id": "RQrNbTrwWPuo"
      },
      "execution_count": null,
      "outputs": []
    },
    {
      "cell_type": "code",
      "source": [],
      "metadata": {
        "id": "6QSjgqzzWPxu"
      },
      "execution_count": null,
      "outputs": []
    },
    {
      "cell_type": "code",
      "source": [],
      "metadata": {
        "id": "BoZrCtqgWP0m"
      },
      "execution_count": null,
      "outputs": []
    },
    {
      "cell_type": "code",
      "source": [
        "nums = [7,8,9,11,12]\n",
        "nums = [100000, 3, 4000, 2, 15, 1, 99999]\n",
        "\n",
        "nums = sorted(nums)\n",
        "print(nums)\n",
        "current = 1\n",
        "for i in range(len(nums)):\n",
        "  if current == nums[i]:\n",
        "    current += 1\n",
        "\n",
        "print (current)"
      ],
      "metadata": {
        "id": "Y6cdlwBMqwQF",
        "colab": {
          "base_uri": "https://localhost:8080/"
        },
        "outputId": "7a89d18e-310d-4542-da7c-ecc3131a3851"
      },
      "execution_count": 10,
      "outputs": [
        {
          "output_type": "stream",
          "name": "stdout",
          "text": [
            "[1, 2, 3, 15, 4000, 99999, 100000]\n",
            "4\n"
          ]
        }
      ]
    },
    {
      "cell_type": "code",
      "source": [
        "nums = [7,8,9,11,12]\n",
        "nums = [100000, 3, 4000, 2, 15, 1, 99999]\n",
        "#nums = [0,2,2,4,0,1,0,1,3]\n",
        "def firstMissingPositive(nums):\n",
        "    n = len(nums)\n",
        "\n",
        "    for i in range(n):\n",
        "        # place nums[i] in its correct spot if it's in range 1..n\n",
        "        while 1 <= nums[i] <= n and nums[nums[i]-1] != nums[i]:\n",
        "            correct_idx = nums[i] - 1\n",
        "            nums[i], nums[correct_idx] = nums[correct_idx], nums[i]\n",
        "\n",
        "    print (nums)\n",
        "    # find the first index where the value is wrong\n",
        "    for i in range(n):\n",
        "        if nums[i] != i + 1:\n",
        "          return i + 1\n",
        "\n",
        "    return n + 1\n",
        "\n",
        "firstMissingPositive(nums)"
      ],
      "metadata": {
        "colab": {
          "base_uri": "https://localhost:8080/"
        },
        "id": "mTkF4mggASoN",
        "outputId": "65d44f10-476a-4e82-9238-82073a09ec2d"
      },
      "execution_count": 31,
      "outputs": [
        {
          "output_type": "stream",
          "name": "stdout",
          "text": [
            "[1, 2, 3, 4000, 15, 100000, 99999]\n",
            "1st return\n"
          ]
        },
        {
          "output_type": "execute_result",
          "data": {
            "text/plain": [
              "4"
            ]
          },
          "metadata": {},
          "execution_count": 31
        }
      ]
    },
    {
      "cell_type": "code",
      "source": [
        "class Solution:\n",
        "    def firstMissingPositive(self, nums: List[int]) -> int:\n",
        "        current = 1\n",
        "        for j in range(len(nums)):\n",
        "\n",
        "            for i in range(len(nums)):\n",
        "                if current == nums[i]:\n",
        "                    current += 1\n",
        "            i = len(nums)-1\n",
        "            while i>=0:\n",
        "                if current == nums[i]:\n",
        "                    current += 1\n",
        "                i -= 1\n",
        "        return current"
      ],
      "metadata": {
        "id": "Q9eg_CYC3PF2"
      },
      "execution_count": 8,
      "outputs": []
    },
    {
      "cell_type": "code",
      "source": [],
      "metadata": {
        "id": "rVCDYnLbqwTE"
      },
      "execution_count": null,
      "outputs": []
    },
    {
      "cell_type": "code",
      "source": [
        "height = [0,1,0,2,1,0,1,3,2,1,2,1]\n",
        "height = [4,2,0,3,2,5]\n",
        "\n",
        "n = max(height)\n",
        "bar = 0\n",
        "count = 0\n",
        "for i in range (n-1):\n",
        "  for j in range (len(height)):\n",
        "    if height[j]==bar and j!=0 and j!=(len(height)-1):\n",
        "      count += 1\n",
        "  bar += 1\n",
        "\n",
        "print (count)\n"
      ],
      "metadata": {
        "id": "AcqRiQu4qwV9",
        "colab": {
          "base_uri": "https://localhost:8080/"
        },
        "outputId": "45c27103-5ac2-4c89-f2c8-6bd4b953abb8"
      },
      "execution_count": 19,
      "outputs": [
        {
          "output_type": "stream",
          "name": "stdout",
          "text": [
            "4\n"
          ]
        }
      ]
    },
    {
      "cell_type": "code",
      "source": [
        "height = [0,1,0,2,1,0,1,3,2,1,2,1]  # example\n",
        "height = [4,2,0,3,2,5]\n",
        "\n",
        "n = max(height)\n",
        "count = 0\n",
        "\n",
        "for level in range(1, n+1):  # start from 1 to max height\n",
        "    inside = False  # are we between walls?\n",
        "    temp = 0       # temporary water count for this level\n",
        "    for h in height:\n",
        "        if h >= level:\n",
        "            # hit a wall, add collected water if any\n",
        "            count += temp\n",
        "            temp = 0\n",
        "            inside = True\n",
        "        elif inside:\n",
        "            # in a gap between walls, water can be trapped\n",
        "            temp += 1\n",
        "\n",
        "print(count)\n"
      ],
      "metadata": {
        "colab": {
          "base_uri": "https://localhost:8080/"
        },
        "id": "f9snRrmkjkhi",
        "outputId": "c1cf8e5a-db91-4720-f932-c9a748c6b706"
      },
      "execution_count": 12,
      "outputs": [
        {
          "output_type": "stream",
          "name": "stdout",
          "text": [
            "9\n"
          ]
        }
      ]
    },
    {
      "cell_type": "code",
      "source": [],
      "metadata": {
        "id": "CTYlVnoJzip3"
      },
      "execution_count": null,
      "outputs": []
    },
    {
      "cell_type": "code",
      "source": [],
      "metadata": {
        "id": "Qinde6TL6ovb"
      },
      "execution_count": null,
      "outputs": []
    },
    {
      "cell_type": "code",
      "source": [],
      "metadata": {
        "id": "0_2p2f996oyT"
      },
      "execution_count": null,
      "outputs": []
    },
    {
      "cell_type": "code",
      "source": [],
      "metadata": {
        "id": "J30PeW4t6o1l"
      },
      "execution_count": null,
      "outputs": []
    },
    {
      "cell_type": "code",
      "source": [],
      "metadata": {
        "id": "OvVq8CGNqtS1"
      },
      "execution_count": null,
      "outputs": []
    },
    {
      "cell_type": "code",
      "source": [],
      "metadata": {
        "id": "EQ2Nbms0qtVw"
      },
      "execution_count": null,
      "outputs": []
    },
    {
      "cell_type": "code",
      "source": [
        "#incomplete\n",
        "\n",
        "#s = \")()))()(())\"\n",
        "s = \"())()\"\n",
        "s = \"(()\"\n",
        "s = \"()(\"\n",
        "open = 0\n",
        "closed = 0\n",
        "balanced = 0\n",
        "\n",
        "list_of_str = []\n",
        "temp_str = \"\"\n",
        "for i in range(len(s)):\n",
        "    if (balanced<0):\n",
        "      if (open != 0):\n",
        "          list_of_str.append(temp_str[:-1])\n",
        "          open = 0\n",
        "          closed = 0\n",
        "          balanced = 0\n",
        "          temp_str = \"\"\n",
        "          #continue\n",
        "      else:\n",
        "          temp_str = \"\"\n",
        "          balanced = 0\n",
        "          closed = 0\n",
        "          open = 0\n",
        "    if (s[i]=='('):\n",
        "      open = open + 1\n",
        "      balanced = balanced + 1\n",
        "      temp_str = temp_str + s[i]\n",
        "    else:\n",
        "      closed = closed + 1\n",
        "      balanced = balanced - 1\n",
        "      temp_str = temp_str + s[i]\n",
        "    if ((i+1) == len(s)) and (balanced == 0):\n",
        "      list_of_str.append(temp_str)\n",
        "    elif ((i+1) == len(s)) and (balanced > 0):\n",
        "      for j in range(balanced):\n",
        "        temp_str = temp_str.replace(\"(\", \"\",1)\n",
        "      list_of_str.append(temp_str)\n",
        "\n",
        "for i in range(len(list_of_str)):\n",
        "  print (list_of_str[i])"
      ],
      "metadata": {
        "id": "ucU6vuc1qtYe"
      },
      "execution_count": null,
      "outputs": []
    },
    {
      "cell_type": "code",
      "source": [
        "class Solution:\n",
        "    def isMatch(self, s: str, p: str) -> bool:\n",
        "        m, n = len(s), len(p)\n",
        "\n",
        "        # dp[i][j] means if s[:i] matches p[:j]\n",
        "        dp = [[False] * (n + 1) for _ in range(m + 1)]\n",
        "        dp[0][0] = True  # empty string matches empty pattern\n",
        "\n",
        "        # Pre-fill patterns like a*, a*b*, a*b*c* matching empty string\n",
        "        for j in range(2, n + 1):\n",
        "            if p[j - 1] == \"*\":\n",
        "                dp[0][j] = dp[0][j - 2]\n",
        "\n",
        "        # Fill DP table\n",
        "        for i in range(1, m + 1):\n",
        "            for j in range(1, n + 1):\n",
        "                if p[j - 1] in {s[i - 1], \".\"}:\n",
        "                    dp[i][j] = dp[i - 1][j - 1]\n",
        "                elif p[j - 1] == \"*\":\n",
        "                    # zero occurrence\n",
        "                    dp[i][j] = dp[i][j - 2]\n",
        "                    # one or more occurrences\n",
        "                    if p[j - 2] in {s[i - 1], \".\"}:\n",
        "                        dp[i][j] = dp[i][j] or dp[i - 1][j]\n",
        "\n",
        "        return dp[m][n]\n",
        "\n",
        "\n",
        "# ------------------ TESTING ------------------\n",
        "test_cases = [\n",
        "    (\"aa\", \"a\", False),\n",
        "    (\"aa\", \"a*\", True),\n",
        "    (\"ab\", \".*\", True),\n",
        "    (\"aab\", \"c*a*b\", True),\n",
        "    (\"mississippi\", \"mis*is*p*.\", False),\n",
        "    (\"\", \".*\", True),\n",
        "    (\"\", \"\", True),\n",
        "    (\"\", \"a*\", True),\n",
        "    (\"abcd\", \"d*\", False),\n",
        "    (\"abcd\", \".*d\", True),\n",
        "    (\"aaa\", \"a*a\", True),\n",
        "    (\"aaa\", \"ab*a*c*a\", True),\n",
        "    (\"a\", \"ab*\", True),\n",
        "    (\"bbbba\", \".*a*a\", True),\n",
        "    (\"a\", \".*..a*\", False),\n",
        "    (\"ab\", \".*c\", False),\n",
        "    (\"aaa\", \"aaaa\", False),\n",
        "    (\"aa\", \".*..\", True),\n",
        "    (\"abc\", \"abc\", True),\n",
        "    (\"abc\", \"a.c\", True),\n",
        "]\n",
        "\n",
        "solution = Solution()\n",
        "\n",
        "for idx, (s, p, expected) in enumerate(test_cases, 1):\n",
        "    result = solution.isMatch(s, p)\n",
        "    print(f\"Test case {idx}: isMatch({s!r}, {p!r}) = {result} | Expected: {expected} | {'PASS' if result == expected else 'FAIL'}\")\n"
      ],
      "metadata": {
        "id": "R7UJX3KAqtbk"
      },
      "execution_count": null,
      "outputs": []
    },
    {
      "cell_type": "code",
      "source": [
        "#correct but need to be optimized\n",
        "class Solution:\n",
        "    def findMedianSortedArrays(self, nums1: List[int], nums2: List[int]) -> float:\n",
        "        #merge arrays\n",
        "        nums3 = nums1 + nums2\n",
        "        #sort merged array\n",
        "        nums3 = sorted (nums1 +nums2)\n",
        "        #find median\n",
        "        if (len(nums3)%2==0):\n",
        "            return (nums3[(len(nums3))//2] + nums3[((len(nums3))//2)-1]) /2\n",
        "        else:\n",
        "            return nums3[(len(nums3))//2]\n"
      ],
      "metadata": {
        "id": "e8-RQc6k6o41"
      },
      "execution_count": null,
      "outputs": []
    }
  ]
}