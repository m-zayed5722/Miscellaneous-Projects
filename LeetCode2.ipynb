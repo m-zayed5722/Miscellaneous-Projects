{
  "nbformat": 4,
  "nbformat_minor": 0,
  "metadata": {
    "colab": {
      "provenance": [],
      "authorship_tag": "ABX9TyP+uWxtSH5VaEZ2O6vzdDY2",
      "include_colab_link": true
    },
    "kernelspec": {
      "name": "python3",
      "display_name": "Python 3"
    },
    "language_info": {
      "name": "python"
    }
  },
  "cells": [
    {
      "cell_type": "markdown",
      "metadata": {
        "id": "view-in-github",
        "colab_type": "text"
      },
      "source": [
        "<a href=\"https://colab.research.google.com/github/m-zayed5722/Miscellaneous-Projects/blob/main/LeetCode2.ipynb\" target=\"_parent\"><img src=\"https://colab.research.google.com/assets/colab-badge.svg\" alt=\"Open In Colab\"/></a>"
      ]
    },
    {
      "cell_type": "code",
      "execution_count": 14,
      "metadata": {
        "id": "E5QDFH6tVIcr",
        "colab": {
          "base_uri": "https://localhost:8080/"
        },
        "outputId": "7762fee3-fd74-4a77-85a3-bbd8ac2b3323"
      },
      "outputs": [
        {
          "output_type": "stream",
          "name": "stdout",
          "text": [
            "[['eat', 'tea', 'ate'], ['tan', 'nat'], ['bat']]\n"
          ]
        }
      ],
      "source": [
        "#reference cheat sheet\n",
        "# new_list.copy()\n",
        "def sort_string(s):\n",
        "    return ''.join(sorted(s))\n",
        "\n",
        "from collections import defaultdict\n",
        "strs = [\"eat\",\"tea\",\"tan\",\"ate\",\"nat\",\"bat\"]\n",
        "\n",
        "groups = defaultdict(list)\n",
        "\n",
        "for word in strs:\n",
        "  key = sort_string(word)\n",
        "  groups[key].append(word)\n",
        "\n",
        "print(list(groups.values()))"
      ]
    },
    {
      "cell_type": "code",
      "source": [],
      "metadata": {
        "id": "cOz4POjX_aNd"
      },
      "execution_count": null,
      "outputs": []
    },
    {
      "cell_type": "code",
      "source": [
        "# Product of Array Except Self\n",
        "# Return array where each element = product of all others.\n",
        "\n",
        "#Input: [1,2,3,4]\n",
        "\n",
        "#Output: [24,12,8,6]\n",
        "# Constraint: No division, O(n) time.\n",
        "\n",
        "arr_int = [1,2,3,4]\n",
        "arr_int2 = []\n",
        "total = 1\n",
        "for i in range(len(arr_int)):\n",
        "  total = 1\n",
        "  for j in range(len(arr_int)):\n",
        "    if i!=j:\n",
        "      total = total * arr_int[j]\n",
        "  arr_int2.append(total)\n",
        "print (arr_int2)"
      ],
      "metadata": {
        "colab": {
          "base_uri": "https://localhost:8080/"
        },
        "id": "X6JLYUkD_aRc",
        "outputId": "5e668254-8574-4ab8-8233-c649675c45b3"
      },
      "execution_count": 16,
      "outputs": [
        {
          "output_type": "stream",
          "name": "stdout",
          "text": [
            "[24, 12, 8, 6]\n"
          ]
        }
      ]
    },
    {
      "cell_type": "code",
      "source": [],
      "metadata": {
        "id": "gprjxoDP_aZ_"
      },
      "execution_count": null,
      "outputs": []
    },
    {
      "cell_type": "code",
      "source": [],
      "metadata": {
        "id": "Pk_t30_F_aci"
      },
      "execution_count": null,
      "outputs": []
    },
    {
      "cell_type": "code",
      "source": [],
      "metadata": {
        "id": "QxyikBYQ22jU"
      },
      "execution_count": null,
      "outputs": []
    },
    {
      "cell_type": "code",
      "source": [
        "from collections import defaultdict\n",
        "strs = [\"eat\",\"tea\",\"tan\",\"ate\",\"nat\",\"bat\"]\n",
        "\n",
        "groups = defaultdict(list)\n",
        "\n",
        "for word in strs:\n",
        "  key = ''.join(sorted(word))  # O(K log K)\n",
        "  groups[key].append(word)\n",
        "\n",
        "print(list(groups.values()))\n"
      ],
      "metadata": {
        "colab": {
          "base_uri": "https://localhost:8080/"
        },
        "id": "XkBGW5_I22ma",
        "outputId": "6fb3c026-eba9-4c4c-eb3b-94b6c744bab9"
      },
      "execution_count": 10,
      "outputs": [
        {
          "output_type": "stream",
          "name": "stdout",
          "text": [
            "[['eat', 'tea', 'ate'], ['tan', 'nat'], ['bat']]\n"
          ]
        }
      ]
    },
    {
      "cell_type": "code",
      "source": [],
      "metadata": {
        "id": "uxU468UO22pi"
      },
      "execution_count": null,
      "outputs": []
    },
    {
      "cell_type": "code",
      "source": [],
      "metadata": {
        "id": "IavfXWRt22sZ"
      },
      "execution_count": null,
      "outputs": []
    },
    {
      "cell_type": "code",
      "source": [],
      "metadata": {
        "id": "H90-HBfS4TGD"
      },
      "execution_count": null,
      "outputs": []
    },
    {
      "cell_type": "code",
      "source": [
        "#n^2 * k solution (TLE)\n",
        "\n",
        "from collections import Counter\n",
        "class Solution:\n",
        "    def groupAnagrams(self, strs: List[str]) -> List[List[str]]:\n",
        "        strs_list = [[]]\n",
        "        for i in range (len(strs)):\n",
        "            found = False\n",
        "            if i == 0:\n",
        "                strs_list[0].append(strs[i])\n",
        "            else:\n",
        "                for j in range (len(strs_list)):\n",
        "                    if (Counter(strs[i]) == Counter(strs_list[j][0])):\n",
        "                        # Counter(strs[i]) == Counter(strs_list[j][0])\n",
        "                        strs_list[j].append(strs[i])\n",
        "                        found = True\n",
        "                        break\n",
        "                if found == False:\n",
        "                    new_list = []\n",
        "                    new_list.append(strs[i])\n",
        "                    strs_list.append(new_list.copy())\n",
        "        return strs_list\n",
        ""
      ],
      "metadata": {
        "id": "oyTwDFGE4TJD"
      },
      "execution_count": null,
      "outputs": []
    },
    {
      "cell_type": "code",
      "source": [
        "#dict solution\n",
        "strs3 = [\"eat\",\"tea\",\"tan\",\"ate\",\"nat\",\"bat\"]\n",
        "\n",
        "sorted_str = ''.join(sorted(\"hello\"))\n",
        "print(sorted_str)  # 'ehllo'\n"
      ],
      "metadata": {
        "colab": {
          "base_uri": "https://localhost:8080/"
        },
        "id": "gJVCn73522vN",
        "outputId": "56cc841e-c3e1-4ce0-e46b-b3b73fcc69ee"
      },
      "execution_count": 8,
      "outputs": [
        {
          "output_type": "stream",
          "name": "stdout",
          "text": [
            "ehllo\n"
          ]
        }
      ]
    },
    {
      "cell_type": "code",
      "source": [
        "def sort_string(s):\n",
        "    return ''.join(sorted(s))\n",
        "sort_string(\"loasdfhsdhsdaaa\")"
      ],
      "metadata": {
        "colab": {
          "base_uri": "https://localhost:8080/",
          "height": 35
        },
        "id": "kJSKxTzMguZk",
        "outputId": "8f089e75-824b-4dd0-8f3f-e273cd7030c3"
      },
      "execution_count": 9,
      "outputs": [
        {
          "output_type": "execute_result",
          "data": {
            "text/plain": [
              "'aaaadddfhhlosss'"
            ],
            "application/vnd.google.colaboratory.intrinsic+json": {
              "type": "string"
            }
          },
          "metadata": {},
          "execution_count": 9
        }
      ]
    },
    {
      "cell_type": "code",
      "source": [],
      "metadata": {
        "id": "CfU9ygPJ8N9K"
      },
      "execution_count": null,
      "outputs": []
    },
    {
      "cell_type": "code",
      "source": [],
      "metadata": {
        "id": "B28tEXO222yG"
      },
      "execution_count": null,
      "outputs": []
    },
    {
      "cell_type": "code",
      "source": [
        "strs = [\"eat\",\"tea\",\"tan\",\"ate\",\"nat\",\"bat\"]\n",
        "strs_list = [[]]\n",
        "\n",
        "for i in range (len(strs)):\n",
        "  found = False\n",
        "  print (i)\n",
        "  if i == 0:\n",
        "    strs_list[0].append(strs[i])\n",
        "  else:\n",
        "    for j in range (len(strs_list)):\n",
        "      if (sorted(strs[i]) == sorted(strs_list[j][0])):\n",
        "        strs_list[j].append(strs[i])\n",
        "        found = True\n",
        "        break\n",
        "    if found == False:\n",
        "        new_list = []\n",
        "        new_list.append(strs[i])\n",
        "        strs_list.append(new_list.copy())\n",
        "\n"
      ],
      "metadata": {
        "colab": {
          "base_uri": "https://localhost:8080/"
        },
        "id": "ZxkCoHEgVKIV",
        "outputId": "a33a8327-745f-4260-9994-1696dc8785bb"
      },
      "execution_count": null,
      "outputs": [
        {
          "output_type": "stream",
          "name": "stdout",
          "text": [
            "0\n",
            "eat\n",
            "1\n",
            "tea\n",
            "2\n",
            "tan\n",
            "3\n",
            "ate\n",
            "4\n",
            "nat\n",
            "5\n",
            "bat\n",
            "[['eat', 'tea', 'ate'], ['tan', 'nat'], ['bat']]\n"
          ]
        }
      ]
    },
    {
      "cell_type": "code",
      "source": [],
      "metadata": {
        "id": "7k6HX-KZVOvK"
      },
      "execution_count": null,
      "outputs": []
    },
    {
      "cell_type": "code",
      "source": [
        "strs2 = [\"eat\",\"tea\",\"tan\",\"ate\",\"nat\",\"bat\"]\n",
        "strs_list2 = [[]]\n",
        "strs_list2[0].append(strs2[0])\n",
        "strs_list2[0].append(strs2[1])\n",
        "\n",
        "new_list2 = []\n",
        "new_list2.append(strs2[2])\n",
        "strs_list2.append(new_list2)\n",
        "print(strs_list2[0][1])\n",
        "print(strs_list2)"
      ],
      "metadata": {
        "colab": {
          "base_uri": "https://localhost:8080/"
        },
        "id": "2sB5ffZAYMBj",
        "outputId": "3195a1e0-121e-471a-b929-41c8b6ed62bd"
      },
      "execution_count": null,
      "outputs": [
        {
          "output_type": "stream",
          "name": "stdout",
          "text": [
            "tea\n",
            "[['eat', 'tea'], ['tan']]\n"
          ]
        }
      ]
    },
    {
      "cell_type": "code",
      "source": [
        "#Input: strs = [\"eat\",\"tea\",\"tan\",\"ate\",\"nat\",\"bat\"]\n",
        "\n",
        "#Output: [[\"bat\"],[\"nat\",\"tan\"],[\"ate\",\"eat\",\"tea\"]]\n",
        "\n"
      ],
      "metadata": {
        "id": "hGYKjtiFVKLH"
      },
      "execution_count": null,
      "outputs": []
    },
    {
      "cell_type": "code",
      "source": [],
      "metadata": {
        "id": "CNyPTgiJVOQ0"
      },
      "execution_count": null,
      "outputs": []
    }
  ]
}