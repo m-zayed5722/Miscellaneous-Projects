{
  "nbformat": 4,
  "nbformat_minor": 0,
  "metadata": {
    "colab": {
      "provenance": [],
      "authorship_tag": "ABX9TyN+YLdv+jkFiMgPa0L9CsmX",
      "include_colab_link": true
    },
    "kernelspec": {
      "name": "python3",
      "display_name": "Python 3"
    },
    "language_info": {
      "name": "python"
    }
  },
  "cells": [
    {
      "cell_type": "markdown",
      "metadata": {
        "id": "view-in-github",
        "colab_type": "text"
      },
      "source": [
        "<a href=\"https://colab.research.google.com/github/m-zayed5722/Miscellaneous-Projects/blob/main/LeetCode2.ipynb\" target=\"_parent\"><img src=\"https://colab.research.google.com/assets/colab-badge.svg\" alt=\"Open In Colab\"/></a>"
      ]
    },
    {
      "cell_type": "code",
      "execution_count": null,
      "metadata": {
        "id": "E5QDFH6tVIcr"
      },
      "outputs": [],
      "source": []
    },
    {
      "cell_type": "code",
      "source": [
        "strs = [\"eat\",\"tea\",\"tan\",\"ate\",\"nat\",\"bat\"]\n",
        "strs_list = [[]]\n",
        "\n",
        "for i in range (len(strs)):\n",
        "  found = False\n",
        "  print (i)\n",
        "  if i == 0:\n",
        "    strs_list[0].append(strs[i])\n",
        "  else:\n",
        "    for j in range (len(strs_list)):\n",
        "      if (sorted(strs[i]) == sorted(strs_list[j][0])):\n",
        "        strs_list[j].append(strs[i])\n",
        "        found = True\n",
        "        break\n",
        "    if found == False:\n",
        "        new_list = []\n",
        "        new_list.append(strs[i])\n",
        "        strs_list.append(new_list.copy())\n",
        "\n"
      ],
      "metadata": {
        "colab": {
          "base_uri": "https://localhost:8080/"
        },
        "id": "ZxkCoHEgVKIV",
        "outputId": "a33a8327-745f-4260-9994-1696dc8785bb"
      },
      "execution_count": 21,
      "outputs": [
        {
          "output_type": "stream",
          "name": "stdout",
          "text": [
            "0\n",
            "eat\n",
            "1\n",
            "tea\n",
            "2\n",
            "tan\n",
            "3\n",
            "ate\n",
            "4\n",
            "nat\n",
            "5\n",
            "bat\n",
            "[['eat', 'tea', 'ate'], ['tan', 'nat'], ['bat']]\n"
          ]
        }
      ]
    },
    {
      "cell_type": "code",
      "source": [],
      "metadata": {
        "id": "7k6HX-KZVOvK"
      },
      "execution_count": null,
      "outputs": []
    },
    {
      "cell_type": "code",
      "source": [
        "strs2 = [\"eat\",\"tea\",\"tan\",\"ate\",\"nat\",\"bat\"]\n",
        "strs_list2 = [[]]\n",
        "strs_list2[0].append(strs2[0])\n",
        "strs_list2[0].append(strs2[1])\n",
        "\n",
        "new_list2 = []\n",
        "new_list2.append(strs2[2])\n",
        "strs_list2.append(new_list2)\n",
        "print(strs_list2[0][1])\n",
        "print(strs_list2)"
      ],
      "metadata": {
        "colab": {
          "base_uri": "https://localhost:8080/"
        },
        "id": "2sB5ffZAYMBj",
        "outputId": "3195a1e0-121e-471a-b929-41c8b6ed62bd"
      },
      "execution_count": 12,
      "outputs": [
        {
          "output_type": "stream",
          "name": "stdout",
          "text": [
            "tea\n",
            "[['eat', 'tea'], ['tan']]\n"
          ]
        }
      ]
    },
    {
      "cell_type": "code",
      "source": [
        "#Input: strs = [\"eat\",\"tea\",\"tan\",\"ate\",\"nat\",\"bat\"]\n",
        "\n",
        "#Output: [[\"bat\"],[\"nat\",\"tan\"],[\"ate\",\"eat\",\"tea\"]]\n",
        "\n"
      ],
      "metadata": {
        "id": "hGYKjtiFVKLH"
      },
      "execution_count": null,
      "outputs": []
    },
    {
      "cell_type": "code",
      "source": [],
      "metadata": {
        "id": "CNyPTgiJVOQ0"
      },
      "execution_count": null,
      "outputs": []
    }
  ]
}