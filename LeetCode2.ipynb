{
  "nbformat": 4,
  "nbformat_minor": 0,
  "metadata": {
    "colab": {
      "provenance": [],
      "authorship_tag": "ABX9TyMt6PAenAQaRb4IzxnQhmtJ",
      "include_colab_link": true
    },
    "kernelspec": {
      "name": "python3",
      "display_name": "Python 3"
    },
    "language_info": {
      "name": "python"
    }
  },
  "cells": [
    {
      "cell_type": "markdown",
      "metadata": {
        "id": "view-in-github",
        "colab_type": "text"
      },
      "source": [
        "<a href=\"https://colab.research.google.com/github/m-zayed5722/Miscellaneous-Projects/blob/main/LeetCode2.ipynb\" target=\"_parent\"><img src=\"https://colab.research.google.com/assets/colab-badge.svg\" alt=\"Open In Colab\"/></a>"
      ]
    },
    {
      "cell_type": "code",
      "execution_count": null,
      "metadata": {
        "id": "E5QDFH6tVIcr",
        "colab": {
          "base_uri": "https://localhost:8080/"
        },
        "outputId": "7762fee3-fd74-4a77-85a3-bbd8ac2b3323"
      },
      "outputs": [
        {
          "output_type": "stream",
          "name": "stdout",
          "text": [
            "[['eat', 'tea', 'ate'], ['tan', 'nat'], ['bat']]\n"
          ]
        }
      ],
      "source": [
        "#reference\n",
        "\n",
        "# new_list.copy()\n",
        "\n",
        "def sort_string(s):\n",
        "    return ''.join(sorted(s))\n",
        "\n",
        "from collections import defaultdict\n",
        "strs = [\"eat\",\"tea\",\"tan\",\"ate\",\"nat\",\"bat\"]\n",
        "\n",
        "groups = defaultdict(list)\n",
        "\n",
        "for word in strs:\n",
        "  key = sort_string(word)\n",
        "  groups[key].append(word)\n",
        "\n",
        "print(list(groups.values()))"
      ]
    },
    {
      "cell_type": "code",
      "source": [],
      "metadata": {
        "id": "8xquaUcVOqt7"
      },
      "execution_count": null,
      "outputs": []
    },
    {
      "cell_type": "code",
      "source": [
        "#semantic similarity code\n",
        "\n",
        "from typing import List, Dict\n",
        "import numpy as np\n",
        "import pandas as pd\n",
        "\n",
        "def label_from_score(score: float) -> str:\n",
        "    if score > 0.80:\n",
        "        return \"High\"\n",
        "    elif score > 0.60:\n",
        "        return \"Medium\"\n",
        "    else:\n",
        "        return \"Low\"\n",
        "\n",
        "def evaluate_semantic_similarity(\n",
        "    data: List[Dict],\n",
        "    model_name: str = \"all-MiniLM-L6-v2\",\n",
        "    batch_size: int = 64,\n",
        "    use_fallback: bool = False\n",
        ") -> pd.DataFrame:\n",
        "    \"\"\"\n",
        "    Returns DataFrame with columns: id, similarity_score, label\n",
        "    If use_fallback=True, uses sklearn TfidfVectorizer (offline) instead of sentence-transformers.\n",
        "    \"\"\"\n",
        "    # Your implementation goes here\n",
        "    pass\n"
      ],
      "metadata": {
        "id": "15Rq-3eDOqwk"
      },
      "execution_count": null,
      "outputs": []
    },
    {
      "cell_type": "code",
      "source": [],
      "metadata": {
        "id": "Dk2lU2Z7Oqzr"
      },
      "execution_count": null,
      "outputs": []
    },
    {
      "cell_type": "code",
      "source": [],
      "metadata": {
        "id": "ni_Y8XRBOq3C"
      },
      "execution_count": null,
      "outputs": []
    },
    {
      "cell_type": "code",
      "source": [],
      "metadata": {
        "id": "8Y65bCsDOq55"
      },
      "execution_count": null,
      "outputs": []
    },
    {
      "cell_type": "code",
      "source": [],
      "metadata": {
        "id": "LPCj2MQAOq8q"
      },
      "execution_count": null,
      "outputs": []
    },
    {
      "cell_type": "code",
      "source": [],
      "metadata": {
        "id": "aLOZ1hiaOq-p"
      },
      "execution_count": null,
      "outputs": []
    },
    {
      "cell_type": "code",
      "source": [],
      "metadata": {
        "id": "cOz4POjX_aNd"
      },
      "execution_count": null,
      "outputs": []
    },
    {
      "cell_type": "code",
      "source": [
        "import bisect\n",
        "\n",
        "arr = [1, 3, 5, 7, 9, 11]\n",
        "target = -1\n",
        "\n",
        "# Find the insertion point\n",
        "index = bisect.bisect_left(arr, target)\n",
        "\n",
        "# Check if the target is actually in the array\n",
        "if index < len(arr) and arr[index] == target:\n",
        "    print(f\"Found at index {index}\")\n",
        "else:\n",
        "    print(\"Not found\")\n"
      ],
      "metadata": {
        "colab": {
          "base_uri": "https://localhost:8080/"
        },
        "id": "mj04OSUUUXGT",
        "outputId": "d53ef5ae-0a08-41b1-f869-9234cc2e26d0"
      },
      "execution_count": null,
      "outputs": [
        {
          "output_type": "stream",
          "name": "stdout",
          "text": [
            "Not found\n"
          ]
        }
      ]
    },
    {
      "cell_type": "code",
      "source": [
        "arr = [1, 3, 5, 7, 9, 11]\n",
        "target = -1\n",
        "\n",
        "# Find the insertion point\n",
        "index = bisect.bisect_left(arr, target)\n",
        "print (index)"
      ],
      "metadata": {
        "colab": {
          "base_uri": "https://localhost:8080/"
        },
        "id": "7hgXnHkIUXJU",
        "outputId": "87db0a8b-ef5f-4a08-c8fa-f6d4f6181bd8"
      },
      "execution_count": null,
      "outputs": [
        {
          "output_type": "stream",
          "name": "stdout",
          "text": [
            "0\n"
          ]
        }
      ]
    },
    {
      "cell_type": "code",
      "source": [],
      "metadata": {
        "id": "wfKU4igJUXMw"
      },
      "execution_count": null,
      "outputs": []
    },
    {
      "cell_type": "code",
      "source": [],
      "metadata": {
        "id": "Pm_Nj99bUXPf"
      },
      "execution_count": null,
      "outputs": []
    },
    {
      "cell_type": "code",
      "source": [],
      "metadata": {
        "id": "aEX9ZyLPUXR4"
      },
      "execution_count": null,
      "outputs": []
    },
    {
      "cell_type": "code",
      "source": [
        "# Two Sum Variant\n",
        "# Given an array of integers and a target, return all unique pairs that sum to target.\n",
        "\n",
        "arr_int = [2, 7, 11, 15, -2, 9]\n",
        "target=9\n",
        "arr_int2 = []\n",
        "for i in range(len(arr_int)):\n",
        "  for j in range(i+1, len(arr_int)):\n",
        "    if (i!=j) and ((arr_int[i]+arr_int[j])==target):\n",
        "      arr_int2.append((arr_int[i],arr_int[j]))\n",
        "\n",
        "print (arr_int2)\n",
        "\n",
        "\n",
        "#Output: [(2,7), (11,-2)]"
      ],
      "metadata": {
        "colab": {
          "base_uri": "https://localhost:8080/"
        },
        "id": "L2y6qkiyB60m",
        "outputId": "f77deffe-da3c-4eb4-d612-15c2e8a0b497"
      },
      "execution_count": null,
      "outputs": [
        {
          "output_type": "stream",
          "name": "stdout",
          "text": [
            "[(2, 7), (11, -2)]\n"
          ]
        }
      ]
    },
    {
      "cell_type": "code",
      "source": [],
      "metadata": {
        "id": "fQM9cr4kB63W"
      },
      "execution_count": null,
      "outputs": []
    },
    {
      "cell_type": "code",
      "source": [],
      "metadata": {
        "id": "-FKp1AHfB66E"
      },
      "execution_count": null,
      "outputs": []
    },
    {
      "cell_type": "code",
      "source": [
        "# Product of Array Except Self\n",
        "# Return array where each element = product of all others.\n",
        "\n",
        "#Input: [1,2,3,4]\n",
        "\n",
        "#Output: [24,12,8,6]\n",
        "# Constraint: No division, O(n) time.\n",
        "\n",
        "arr_int = [1,2,3,4]\n",
        "arr_int2 = []\n",
        "total = 1\n",
        "for i in range(len(arr_int)):\n",
        "  total = 1\n",
        "  for j in range(len(arr_int)):\n",
        "    if i!=j:\n",
        "      total = total * arr_int[j]\n",
        "  arr_int2.append(total)\n",
        "print (arr_int2)"
      ],
      "metadata": {
        "colab": {
          "base_uri": "https://localhost:8080/"
        },
        "id": "X6JLYUkD_aRc",
        "outputId": "35e70f1b-7168-45a5-e9d9-c782bc792d4a"
      },
      "execution_count": null,
      "outputs": [
        {
          "output_type": "stream",
          "name": "stdout",
          "text": [
            "[24, 12, 8, 6]\n"
          ]
        }
      ]
    },
    {
      "cell_type": "code",
      "source": [],
      "metadata": {
        "id": "gprjxoDP_aZ_"
      },
      "execution_count": null,
      "outputs": []
    },
    {
      "cell_type": "code",
      "source": [
        "from collections import defaultdict\n",
        "strs = [\"eat\",\"tea\",\"tan\",\"ate\",\"nat\",\"bat\"]\n",
        "\n",
        "groups = defaultdict(list)\n",
        "\n",
        "for word in strs:\n",
        "  key = ''.join(sorted(word))  # O(K log K)\n",
        "  groups[key].append(word)\n",
        "\n",
        "print(list(groups.values()))\n"
      ],
      "metadata": {
        "colab": {
          "base_uri": "https://localhost:8080/"
        },
        "id": "XkBGW5_I22ma",
        "outputId": "6fb3c026-eba9-4c4c-eb3b-94b6c744bab9"
      },
      "execution_count": null,
      "outputs": [
        {
          "output_type": "stream",
          "name": "stdout",
          "text": [
            "[['eat', 'tea', 'ate'], ['tan', 'nat'], ['bat']]\n"
          ]
        }
      ]
    },
    {
      "cell_type": "code",
      "source": [],
      "metadata": {
        "id": "uxU468UO22pi"
      },
      "execution_count": null,
      "outputs": []
    },
    {
      "cell_type": "code",
      "source": [],
      "metadata": {
        "id": "H90-HBfS4TGD"
      },
      "execution_count": null,
      "outputs": []
    },
    {
      "cell_type": "code",
      "source": [
        "#n^2 * k solution (TLE)\n",
        "\n",
        "from collections import Counter\n",
        "class Solution:\n",
        "    def groupAnagrams(self, strs: List[str]) -> List[List[str]]:\n",
        "        strs_list = [[]]\n",
        "        for i in range (len(strs)):\n",
        "            found = False\n",
        "            if i == 0:\n",
        "                strs_list[0].append(strs[i])\n",
        "            else:\n",
        "                for j in range (len(strs_list)):\n",
        "                    if (Counter(strs[i]) == Counter(strs_list[j][0])):\n",
        "                        # Counter(strs[i]) == Counter(strs_list[j][0])\n",
        "                        strs_list[j].append(strs[i])\n",
        "                        found = True\n",
        "                        break\n",
        "                if found == False:\n",
        "                    new_list = []\n",
        "                    new_list.append(strs[i])\n",
        "                    strs_list.append(new_list.copy())\n",
        "        return strs_list\n"
      ],
      "metadata": {
        "id": "oyTwDFGE4TJD"
      },
      "execution_count": null,
      "outputs": []
    },
    {
      "cell_type": "code",
      "source": [
        "#dict solution\n",
        "strs3 = [\"eat\",\"tea\",\"tan\",\"ate\",\"nat\",\"bat\"]\n",
        "\n",
        "sorted_str = ''.join(sorted(\"hello\"))\n",
        "print(sorted_str)  # 'ehllo'\n"
      ],
      "metadata": {
        "colab": {
          "base_uri": "https://localhost:8080/"
        },
        "id": "gJVCn73522vN",
        "outputId": "56cc841e-c3e1-4ce0-e46b-b3b73fcc69ee"
      },
      "execution_count": null,
      "outputs": [
        {
          "output_type": "stream",
          "name": "stdout",
          "text": [
            "ehllo\n"
          ]
        }
      ]
    },
    {
      "cell_type": "code",
      "source": [
        "def sort_string(s):\n",
        "    return ''.join(sorted(s))\n",
        "sort_string(\"loasdfhsdhsdaaa\")"
      ],
      "metadata": {
        "colab": {
          "base_uri": "https://localhost:8080/",
          "height": 35
        },
        "id": "kJSKxTzMguZk",
        "outputId": "8f089e75-824b-4dd0-8f3f-e273cd7030c3"
      },
      "execution_count": null,
      "outputs": [
        {
          "output_type": "execute_result",
          "data": {
            "text/plain": [
              "'aaaadddfhhlosss'"
            ],
            "application/vnd.google.colaboratory.intrinsic+json": {
              "type": "string"
            }
          },
          "metadata": {},
          "execution_count": 9
        }
      ]
    },
    {
      "cell_type": "code",
      "source": [],
      "metadata": {
        "id": "CfU9ygPJ8N9K"
      },
      "execution_count": null,
      "outputs": []
    },
    {
      "cell_type": "code",
      "source": [],
      "metadata": {
        "id": "B28tEXO222yG"
      },
      "execution_count": null,
      "outputs": []
    },
    {
      "cell_type": "code",
      "source": [
        "strs = [\"eat\",\"tea\",\"tan\",\"ate\",\"nat\",\"bat\"]\n",
        "strs_list = [[]]\n",
        "\n",
        "for i in range (len(strs)):\n",
        "  found = False\n",
        "  print (i)\n",
        "  if i == 0:\n",
        "    strs_list[0].append(strs[i])\n",
        "  else:\n",
        "    for j in range (len(strs_list)):\n",
        "      if (sorted(strs[i]) == sorted(strs_list[j][0])):\n",
        "        strs_list[j].append(strs[i])\n",
        "        found = True\n",
        "        break\n",
        "    if found == False:\n",
        "        new_list = []\n",
        "        new_list.append(strs[i])\n",
        "        strs_list.append(new_list.copy())\n",
        "\n"
      ],
      "metadata": {
        "colab": {
          "base_uri": "https://localhost:8080/"
        },
        "id": "ZxkCoHEgVKIV",
        "outputId": "a33a8327-745f-4260-9994-1696dc8785bb"
      },
      "execution_count": null,
      "outputs": [
        {
          "output_type": "stream",
          "name": "stdout",
          "text": [
            "0\n",
            "eat\n",
            "1\n",
            "tea\n",
            "2\n",
            "tan\n",
            "3\n",
            "ate\n",
            "4\n",
            "nat\n",
            "5\n",
            "bat\n",
            "[['eat', 'tea', 'ate'], ['tan', 'nat'], ['bat']]\n"
          ]
        }
      ]
    },
    {
      "cell_type": "code",
      "source": [],
      "metadata": {
        "id": "7k6HX-KZVOvK"
      },
      "execution_count": null,
      "outputs": []
    },
    {
      "cell_type": "code",
      "source": [
        "strs2 = [\"eat\",\"tea\",\"tan\",\"ate\",\"nat\",\"bat\"]\n",
        "strs_list2 = [[]]\n",
        "strs_list2[0].append(strs2[0])\n",
        "strs_list2[0].append(strs2[1])\n",
        "\n",
        "new_list2 = []\n",
        "new_list2.append(strs2[2])\n",
        "strs_list2.append(new_list2)\n",
        "print(strs_list2[0][1])\n",
        "print(strs_list2)"
      ],
      "metadata": {
        "colab": {
          "base_uri": "https://localhost:8080/"
        },
        "id": "2sB5ffZAYMBj",
        "outputId": "3195a1e0-121e-471a-b929-41c8b6ed62bd"
      },
      "execution_count": null,
      "outputs": [
        {
          "output_type": "stream",
          "name": "stdout",
          "text": [
            "tea\n",
            "[['eat', 'tea'], ['tan']]\n"
          ]
        }
      ]
    },
    {
      "cell_type": "code",
      "source": [
        "#Input: strs = [\"eat\",\"tea\",\"tan\",\"ate\",\"nat\",\"bat\"]\n",
        "\n",
        "#Output: [[\"bat\"],[\"nat\",\"tan\"],[\"ate\",\"eat\",\"tea\"]]\n",
        "\n"
      ],
      "metadata": {
        "id": "hGYKjtiFVKLH"
      },
      "execution_count": null,
      "outputs": []
    },
    {
      "cell_type": "code",
      "source": [],
      "metadata": {
        "id": "CNyPTgiJVOQ0"
      },
      "execution_count": null,
      "outputs": []
    }
  ]
}