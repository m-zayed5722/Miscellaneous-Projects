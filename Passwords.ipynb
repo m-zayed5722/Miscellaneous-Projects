{
  "nbformat": 4,
  "nbformat_minor": 0,
  "metadata": {
    "colab": {
      "provenance": [],
      "authorship_tag": "ABX9TyN21vLf8LPkVrK6MOmqq8fb",
      "include_colab_link": true
    },
    "kernelspec": {
      "name": "python3",
      "display_name": "Python 3"
    },
    "language_info": {
      "name": "python"
    }
  },
  "cells": [
    {
      "cell_type": "markdown",
      "metadata": {
        "id": "view-in-github",
        "colab_type": "text"
      },
      "source": [
        "<a href=\"https://colab.research.google.com/github/m-zayed5722/Miscellaneous-Projects/blob/main/Passwords.ipynb\" target=\"_parent\"><img src=\"https://colab.research.google.com/assets/colab-badge.svg\" alt=\"Open In Colab\"/></a>"
      ]
    },
    {
      "cell_type": "code",
      "execution_count": null,
      "metadata": {
        "id": "IghfglYkivsn"
      },
      "outputs": [],
      "source": [
        "import string"
      ]
    },
    {
      "cell_type": "code",
      "source": [],
      "metadata": {
        "id": "wFr-oDv_m9tE"
      },
      "execution_count": null,
      "outputs": []
    },
    {
      "cell_type": "code",
      "source": [
        "def validate_password(password):\n",
        " if not 6 <= len(password) <= 14:\n",
        "  return False\n",
        "\n",
        " # Check for at least one special character using string.punctuation\n",
        " special_chars = string.punctuation\n",
        " has_special_char = any(char in special_chars for char in password)\n",
        " return has_special_char"
      ],
      "metadata": {
        "id": "upaamWn-iyAX"
      },
      "execution_count": null,
      "outputs": []
    },
    {
      "cell_type": "code",
      "source": [
        "#password = input(\"Enter a password: \")\n",
        "password = \"Zayed0923\"\n",
        "if validate_password(password):\n",
        " print(\"The password is valid.\")\n",
        "else:\n",
        " print(\"The password is invalid.\")\n"
      ],
      "metadata": {
        "colab": {
          "base_uri": "https://localhost:8080/"
        },
        "id": "z3mWNjvIiyH9",
        "outputId": "6d99f1c3-6ebc-4ba0-c677-780e69a584c1"
      },
      "execution_count": null,
      "outputs": [
        {
          "output_type": "stream",
          "name": "stdout",
          "text": [
            "The password is invalid.\n"
          ]
        }
      ]
    },
    {
      "cell_type": "code",
      "source": [
        "def min_fixes_needed(password):\n",
        "  fixes = 0\n",
        "\n",
        "  if (len(password)<6):\n",
        "    fixes += 6 - len(password)\n",
        "\n",
        "  if (len(password)<6):\n",
        "    fixes += len(password) - 14\n",
        "\n",
        "  upper_check = any(char.isupper() for char in password)\n",
        "  if (upper_check == False and (6 - len(password)) >0):\n",
        "    fixes += 0\n",
        "  elif (upper_check == False and (6 - len(password)) ==0):\n",
        "    fixes+=1\n",
        "  elif (upper_check == True and (6 - len(password)) ==0):\n",
        "    fixes+=0\n",
        "  else:\n",
        "    fixes +=1\n",
        "  lower_check = any(char.islower() for char in password)\n",
        "  if (lower_check == False and (6 - len(password)) >0):\n",
        "    fixes += 0\n",
        "  elif (lower_check == False and (6 - len(password)) ==0):\n",
        "    fixes+=1\n",
        "  elif (lower_check == True and (6 - len(password)) ==0):\n",
        "    fixes+=0\n",
        "  else:\n",
        "    fixes +=1\n",
        "\n",
        "  digit_check = any(char.isdigit() for char in password)\n",
        "  if (digit_check == False and (6 - len(password)) >0):\n",
        "    fixes += 0\n",
        "  elif (digit_check == False and (6 - len(password)) ==0):\n",
        "    fixes+=1\n",
        "  elif (digit_check == True and (6 - len(password)) ==0):\n",
        "    fixes+=0\n",
        "  else:\n",
        "    fixes +=1\n",
        "\n",
        "  special_chars = string.punctuation\n",
        "  has_special_char = any(char in special_chars for char in password)\n",
        "  print(has_special_char)\n",
        "  if (has_special_char == False and (6 - len(password)) >0):\n",
        "    fixes += 0\n",
        "  elif (has_special_char == False and (6 - len(password)) ==0):\n",
        "    fixes+=1\n",
        "  elif (has_special_char == True and (6 - len(password)) ==0):\n",
        "    fixes+=0\n",
        "  else:\n",
        "    fixes +=1\n",
        "\n",
        "  return fixes\n"
      ],
      "metadata": {
        "id": "ff774hXxpGIL"
      },
      "execution_count": null,
      "outputs": []
    },
    {
      "cell_type": "code",
      "source": [],
      "metadata": {
        "id": "h_Uvqdcyt6c1"
      },
      "execution_count": null,
      "outputs": []
    },
    {
      "cell_type": "code",
      "source": [
        "password1 = \"abcjg\"\n",
        "#password2 = \"ThisIsAValidPassword123!\"\n",
        "\n",
        "\n",
        "print(min_fixes_needed(password1))\n",
        "#print(min_fixes_needed(password2))\n"
      ],
      "metadata": {
        "colab": {
          "base_uri": "https://localhost:8080/",
          "height": 315
        },
        "id": "Vdx4qF18pM12",
        "outputId": "32edb9e2-a017-43d3-cb0d-d745672fad55"
      },
      "execution_count": null,
      "outputs": [
        {
          "output_type": "error",
          "ename": "TypeError",
          "evalue": "'<' not supported between instances of 'str' and 'int'",
          "traceback": [
            "\u001b[0;31m---------------------------------------------------------------------------\u001b[0m",
            "\u001b[0;31mTypeError\u001b[0m                                 Traceback (most recent call last)",
            "\u001b[0;32m<ipython-input-46-2f4b2c85961c>\u001b[0m in \u001b[0;36m<cell line: 5>\u001b[0;34m()\u001b[0m\n\u001b[1;32m      3\u001b[0m \u001b[0;34m\u001b[0m\u001b[0m\n\u001b[1;32m      4\u001b[0m \u001b[0;34m\u001b[0m\u001b[0m\n\u001b[0;32m----> 5\u001b[0;31m \u001b[0mprint\u001b[0m\u001b[0;34m(\u001b[0m\u001b[0mmin_fixes_needed\u001b[0m\u001b[0;34m(\u001b[0m\u001b[0mpassword1\u001b[0m\u001b[0;34m)\u001b[0m\u001b[0;34m)\u001b[0m\u001b[0;34m\u001b[0m\u001b[0;34m\u001b[0m\u001b[0m\n\u001b[0m\u001b[1;32m      6\u001b[0m \u001b[0;31m#print(min_fixes_needed(password2))\u001b[0m\u001b[0;34m\u001b[0m\u001b[0;34m\u001b[0m\u001b[0m\n",
            "\u001b[0;32m<ipython-input-45-6bf5a8676846>\u001b[0m in \u001b[0;36mmin_fixes_needed\u001b[0;34m(password)\u001b[0m\n\u001b[1;32m      2\u001b[0m   \u001b[0mfixes\u001b[0m \u001b[0;34m=\u001b[0m \u001b[0;36m0\u001b[0m\u001b[0;34m\u001b[0m\u001b[0;34m\u001b[0m\u001b[0m\n\u001b[1;32m      3\u001b[0m \u001b[0;34m\u001b[0m\u001b[0m\n\u001b[0;32m----> 4\u001b[0;31m   \u001b[0;32mif\u001b[0m \u001b[0;34m(\u001b[0m\u001b[0mlen\u001b[0m\u001b[0;34m(\u001b[0m\u001b[0mpassword\u001b[0m\u001b[0;34m<\u001b[0m\u001b[0;36m6\u001b[0m\u001b[0;34m)\u001b[0m\u001b[0;34m)\u001b[0m\u001b[0;34m:\u001b[0m\u001b[0;34m\u001b[0m\u001b[0;34m\u001b[0m\u001b[0m\n\u001b[0m\u001b[1;32m      5\u001b[0m     \u001b[0mfixes\u001b[0m \u001b[0;34m+=\u001b[0m \u001b[0;36m6\u001b[0m \u001b[0;34m-\u001b[0m \u001b[0mlen\u001b[0m\u001b[0;34m(\u001b[0m\u001b[0mpassword\u001b[0m\u001b[0;34m)\u001b[0m\u001b[0;34m\u001b[0m\u001b[0;34m\u001b[0m\u001b[0m\n\u001b[1;32m      6\u001b[0m \u001b[0;34m\u001b[0m\u001b[0m\n",
            "\u001b[0;31mTypeError\u001b[0m: '<' not supported between instances of 'str' and 'int'"
          ]
        }
      ]
    },
    {
      "cell_type": "code",
      "source": [],
      "metadata": {
        "id": "gN9daPA_t7KK"
      },
      "execution_count": null,
      "outputs": []
    },
    {
      "cell_type": "code",
      "source": [
        "def ret_fix(password=''):\n",
        "\n",
        "  fixes = 0\n",
        "  length_diff = max(0, 6 - len(password))\n",
        "  fixes += length_diff\n",
        "\n",
        "  special_chars = string.punctuation\n",
        "  has_special_char = any(char in special_chars for char in password)\n",
        "  fixes += not has_special_char\n",
        "\n",
        "  return fixes\n",
        "\n",
        "\n",
        "def gm3(g_id2='1'):\n",
        "    group_id = int(g_id2)\n",
        "    unwanted_names = {'machine_id', 'order', 'datetime', 'filepath', 'group_id', 'Shot rate'}\n",
        "    df = pl_f.drop_col(list_df[group_id-1], unwanted_names)\n",
        "\n",
        "    fig3 = px.imshow(df.corr(), aspect = \"auto\")\n",
        "\n",
        "    graphJSON3 = json.dumps(fig3, cls=plotly.utils.PlotlyJSONEncoder)\n",
        "    return graphJSON3\n",
        "\n",
        "def gm4(data_x2='008.Filling  time [s]', data_y2='009. Plasticizing  time [s]', data_z2= '000.Total  cycle time  [s]', g_id4='1'):\n",
        "\n",
        "    group_id = int(g_id4)\n",
        "    df2 = list_df[group_id-1]\n",
        "\n",
        "    fig4 = px.scatter(df2, x=data_x2, y=data_y2, color =data_z2 )\n",
        "\n",
        "    graphJSON4 = json.dumps(fig4, cls=plotly.utils.PlotlyJSONEncoder)\n",
        "    return graphJSON4\n",
        "\n",
        "def gm5(file='imm1_100_5', date='2021-08-18 21:41:33', g_id5='1'):\n",
        "\n",
        "    group_id = int(g_id5)\n",
        "\n",
        "    if file == 'none':\n",
        "        df = pl_f.print_rows_date(list_df[group_id-1], date)\n",
        "    elif date == 'none':\n",
        "        df = pl_f.print_rows_file(list_df[group_id-1], file)\n",
        "    else:\n",
        "        df = pl_f.print_rows_file_date(list_df[group_id-1], date, file)\n",
        "\n",
        "\n",
        "    fig5 = go.Figure(data=[go.Table(\n",
        "        header=dict(values=list(df.columns),\n",
        "                    fill_color='red',\n",
        "                    align='left'),\n",
        "        cells=dict(values=df.transpose().values.tolist(),\n",
        "                   fill_color='lavender',\n",
        "                   align='left'))])\n",
        "\n",
        "    graphJSON5 = json.dumps(fig5, cls=plotly.utils.PlotlyJSONEncoder)\n",
        "    return graphJSON5\n",
        "\n",
        "def gm6(data_x3='008.Filling  time [s]', g_id6='1'):\n",
        "\n",
        "    group_id = int(g_id6)\n",
        "    df3 = list_df[group_id-1]\n",
        "    sorted_df3 = df3.sort_values(by=\"datetime\")\n",
        "    fig6 = px.scatter(sorted_df3[data_x3])\n",
        "\n",
        "    graphJSON6 = json.dumps(fig6, cls=plotly.utils.PlotlyJSONEncoder)\n",
        "    return graphJSON6\n",
        "\n",
        "if __name__ == '__main__':\n",
        "    app.run(host='0.0.0.0')"
      ],
      "metadata": {
        "id": "zW-6-bmLt7MA"
      },
      "execution_count": null,
      "outputs": []
    },
    {
      "cell_type": "code",
      "source": [],
      "metadata": {
        "id": "1jI_ud58t7QI"
      },
      "execution_count": null,
      "outputs": []
    }
  ]
}