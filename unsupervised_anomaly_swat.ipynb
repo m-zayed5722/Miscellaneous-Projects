{
  "nbformat": 4,
  "nbformat_minor": 0,
  "metadata": {
    "colab": {
      "provenance": [],
      "authorship_tag": "ABX9TyN7HlmWWxDLKqhSLWq+D/sa",
      "include_colab_link": true
    },
    "kernelspec": {
      "name": "python3",
      "display_name": "Python 3"
    },
    "language_info": {
      "name": "python"
    }
  },
  "cells": [
    {
      "cell_type": "markdown",
      "metadata": {
        "id": "view-in-github",
        "colab_type": "text"
      },
      "source": [
        "<a href=\"https://colab.research.google.com/github/m-zayed5722/Miscellaneous-Projects/blob/main/unsupervised_anomaly_swat.ipynb\" target=\"_parent\"><img src=\"https://colab.research.google.com/assets/colab-badge.svg\" alt=\"Open In Colab\"/></a>"
      ]
    },
    {
      "cell_type": "code",
      "metadata": {
        "id": "31Qce3nnfS46"
      },
      "source": [
        "import numpy as np\n",
        "import pandas as pd\n",
        "import matplotlib.pyplot as plt\n",
        "import seaborn as sns\n",
        "import plotly.express as px\n",
        "from sklearn.ensemble import IsolationForest\n",
        "from sklearn.metrics import classification_report\n",
        "from sklearn.metrics import confusion_matrix\n",
        "from sklearn.cluster import KMeans\n",
        "import plotly.graph_objects as go"
      ],
      "execution_count": null,
      "outputs": []
    },
    {
      "cell_type": "code",
      "metadata": {
        "id": "yKQ6GjfcgITQ",
        "colab": {
          "base_uri": "https://localhost:8080/"
        },
        "outputId": "2527bf6e-1103-476a-ee3f-8e17b8075714"
      },
      "source": [
        "from google.colab import drive\n",
        "drive.mount(\"/content/gdrive\")"
      ],
      "execution_count": null,
      "outputs": [
        {
          "output_type": "stream",
          "name": "stdout",
          "text": [
            "Mounted at /content/gdrive\n"
          ]
        }
      ]
    },
    {
      "cell_type": "code",
      "metadata": {
        "colab": {
          "base_uri": "https://localhost:8080/"
        },
        "id": "4kKyXh3givic",
        "outputId": "8ab1fefb-72f4-4acc-c623-d993a19104cf"
      },
      "source": [
        "df2 = pd.read_excel('/content/gdrive/My Drive/Colab Notebooks/datasets/SWaT_Dataset_Attack_v0.xlsx')"
      ],
      "execution_count": null,
      "outputs": [
        {
          "output_type": "stream",
          "name": "stderr",
          "text": [
            "/usr/local/lib/python3.7/dist-packages/openpyxl/worksheet/_reader.py:312: UserWarning: Unknown extension is not supported and will be removed\n",
            "  warn(msg)\n"
          ]
        }
      ]
    },
    {
      "cell_type": "code",
      "metadata": {
        "id": "kBw4rZVbi2m_"
      },
      "source": [
        "attack = df2.copy(deep=True)\n",
        "attack.columns = attack.iloc[0]\n",
        "attack = attack.iloc[1: , :]"
      ],
      "execution_count": null,
      "outputs": []
    },
    {
      "cell_type": "code",
      "source": [
        "target_mapping = {\n",
        "    'Normal': 1,\n",
        "    'Attack': -1,\n",
        "    'A ttack': -1\n",
        "}\n",
        "attack[\"Normal/Attack\"] = attack[\"Normal/Attack\"].map(lambda x: target_mapping[x])"
      ],
      "metadata": {
        "id": "V0uNlnmCV8QB"
      },
      "execution_count": null,
      "outputs": []
    },
    {
      "cell_type": "code",
      "source": [
        "attack['Normal/Attack'].value_counts()"
      ],
      "metadata": {
        "colab": {
          "base_uri": "https://localhost:8080/"
        },
        "id": "ib6gjJdtV8Sh",
        "outputId": "63aa2650-4634-4512-b8b4-511247d51073"
      },
      "execution_count": null,
      "outputs": [
        {
          "output_type": "execute_result",
          "data": {
            "text/plain": [
              " 1    395298\n",
              "-1     54621\n",
              "Name: Normal/Attack, dtype: int64"
            ]
          },
          "metadata": {},
          "execution_count": 92
        }
      ]
    },
    {
      "cell_type": "code",
      "source": [
        "y = attack['Normal/Attack']\n",
        "X = attack.iloc[: , :-1]\n",
        "#dates\n",
        "X = X.iloc[:,1:]"
      ],
      "metadata": {
        "id": "QV9ErznOV8Vv"
      },
      "execution_count": null,
      "outputs": []
    },
    {
      "cell_type": "code",
      "source": [
        "x1 = X.copy(deep=True)\n",
        "x1 = x1.apply(pd.to_numeric)"
      ],
      "metadata": {
        "id": "EUk7Eu1FMgp8"
      },
      "execution_count": null,
      "outputs": []
    },
    {
      "cell_type": "code",
      "source": [
        "#X.head(5)\n",
        "x1.head(5)"
      ],
      "metadata": {
        "colab": {
          "base_uri": "https://localhost:8080/",
          "height": 299
        },
        "id": "P_1ttxLikhfs",
        "outputId": "5de48931-4810-4ec7-c17d-d5d04627f50d"
      },
      "execution_count": null,
      "outputs": [
        {
          "output_type": "execute_result",
          "data": {
            "text/plain": [
              "0    FIT101    LIT101   MV101  P101  P102    AIT201    AIT202    AIT203  \\\n",
              "1  2.427057  522.8467       2     2     1  262.0161  8.396437  328.6337   \n",
              "2  2.446274  522.8860       2     2     1  262.0161  8.396437  328.6337   \n",
              "3  2.489191  522.8467       2     2     1  262.0161  8.394514  328.6337   \n",
              "4  2.534350  522.9645       2     2     1  262.0161  8.394514  328.6337   \n",
              "5  2.569260  523.4748       2     2     1  262.0161  8.394514  328.6337   \n",
              "\n",
              "0    FIT201   MV201  ...    FIT504  P501  P502    PIT501    PIT502    PIT503  \\\n",
              "1  2.445391       2  ...  0.307786     2     1  250.8652  1.649953  189.5988   \n",
              "2  2.445391       2  ...  0.307786     2     1  250.8652  1.649953  189.6789   \n",
              "3  2.442316       2  ...  0.308619     2     1  250.8812  1.649953  189.6789   \n",
              "4  2.442316       2  ...  0.308619     2     1  250.8812  1.649953  189.6148   \n",
              "5  2.443085       2  ...  0.308619     2     1  250.8812  1.649953  189.5027   \n",
              "\n",
              "0    FIT601  P601  P602  P603  \n",
              "1  0.000128     1     1     1  \n",
              "2  0.000128     1     1     1  \n",
              "3  0.000128     1     1     1  \n",
              "4  0.000128     1     1     1  \n",
              "5  0.000128     1     1     1  \n",
              "\n",
              "[5 rows x 51 columns]"
            ],
            "text/html": [
              "\n",
              "  <div id=\"df-ca48a6ff-4419-4cb6-9383-9b7d6d621817\">\n",
              "    <div class=\"colab-df-container\">\n",
              "      <div>\n",
              "<style scoped>\n",
              "    .dataframe tbody tr th:only-of-type {\n",
              "        vertical-align: middle;\n",
              "    }\n",
              "\n",
              "    .dataframe tbody tr th {\n",
              "        vertical-align: top;\n",
              "    }\n",
              "\n",
              "    .dataframe thead th {\n",
              "        text-align: right;\n",
              "    }\n",
              "</style>\n",
              "<table border=\"1\" class=\"dataframe\">\n",
              "  <thead>\n",
              "    <tr style=\"text-align: right;\">\n",
              "      <th></th>\n",
              "      <th>FIT101</th>\n",
              "      <th>LIT101</th>\n",
              "      <th>MV101</th>\n",
              "      <th>P101</th>\n",
              "      <th>P102</th>\n",
              "      <th>AIT201</th>\n",
              "      <th>AIT202</th>\n",
              "      <th>AIT203</th>\n",
              "      <th>FIT201</th>\n",
              "      <th>MV201</th>\n",
              "      <th>...</th>\n",
              "      <th>FIT504</th>\n",
              "      <th>P501</th>\n",
              "      <th>P502</th>\n",
              "      <th>PIT501</th>\n",
              "      <th>PIT502</th>\n",
              "      <th>PIT503</th>\n",
              "      <th>FIT601</th>\n",
              "      <th>P601</th>\n",
              "      <th>P602</th>\n",
              "      <th>P603</th>\n",
              "    </tr>\n",
              "  </thead>\n",
              "  <tbody>\n",
              "    <tr>\n",
              "      <th>1</th>\n",
              "      <td>2.427057</td>\n",
              "      <td>522.8467</td>\n",
              "      <td>2</td>\n",
              "      <td>2</td>\n",
              "      <td>1</td>\n",
              "      <td>262.0161</td>\n",
              "      <td>8.396437</td>\n",
              "      <td>328.6337</td>\n",
              "      <td>2.445391</td>\n",
              "      <td>2</td>\n",
              "      <td>...</td>\n",
              "      <td>0.307786</td>\n",
              "      <td>2</td>\n",
              "      <td>1</td>\n",
              "      <td>250.8652</td>\n",
              "      <td>1.649953</td>\n",
              "      <td>189.5988</td>\n",
              "      <td>0.000128</td>\n",
              "      <td>1</td>\n",
              "      <td>1</td>\n",
              "      <td>1</td>\n",
              "    </tr>\n",
              "    <tr>\n",
              "      <th>2</th>\n",
              "      <td>2.446274</td>\n",
              "      <td>522.8860</td>\n",
              "      <td>2</td>\n",
              "      <td>2</td>\n",
              "      <td>1</td>\n",
              "      <td>262.0161</td>\n",
              "      <td>8.396437</td>\n",
              "      <td>328.6337</td>\n",
              "      <td>2.445391</td>\n",
              "      <td>2</td>\n",
              "      <td>...</td>\n",
              "      <td>0.307786</td>\n",
              "      <td>2</td>\n",
              "      <td>1</td>\n",
              "      <td>250.8652</td>\n",
              "      <td>1.649953</td>\n",
              "      <td>189.6789</td>\n",
              "      <td>0.000128</td>\n",
              "      <td>1</td>\n",
              "      <td>1</td>\n",
              "      <td>1</td>\n",
              "    </tr>\n",
              "    <tr>\n",
              "      <th>3</th>\n",
              "      <td>2.489191</td>\n",
              "      <td>522.8467</td>\n",
              "      <td>2</td>\n",
              "      <td>2</td>\n",
              "      <td>1</td>\n",
              "      <td>262.0161</td>\n",
              "      <td>8.394514</td>\n",
              "      <td>328.6337</td>\n",
              "      <td>2.442316</td>\n",
              "      <td>2</td>\n",
              "      <td>...</td>\n",
              "      <td>0.308619</td>\n",
              "      <td>2</td>\n",
              "      <td>1</td>\n",
              "      <td>250.8812</td>\n",
              "      <td>1.649953</td>\n",
              "      <td>189.6789</td>\n",
              "      <td>0.000128</td>\n",
              "      <td>1</td>\n",
              "      <td>1</td>\n",
              "      <td>1</td>\n",
              "    </tr>\n",
              "    <tr>\n",
              "      <th>4</th>\n",
              "      <td>2.534350</td>\n",
              "      <td>522.9645</td>\n",
              "      <td>2</td>\n",
              "      <td>2</td>\n",
              "      <td>1</td>\n",
              "      <td>262.0161</td>\n",
              "      <td>8.394514</td>\n",
              "      <td>328.6337</td>\n",
              "      <td>2.442316</td>\n",
              "      <td>2</td>\n",
              "      <td>...</td>\n",
              "      <td>0.308619</td>\n",
              "      <td>2</td>\n",
              "      <td>1</td>\n",
              "      <td>250.8812</td>\n",
              "      <td>1.649953</td>\n",
              "      <td>189.6148</td>\n",
              "      <td>0.000128</td>\n",
              "      <td>1</td>\n",
              "      <td>1</td>\n",
              "      <td>1</td>\n",
              "    </tr>\n",
              "    <tr>\n",
              "      <th>5</th>\n",
              "      <td>2.569260</td>\n",
              "      <td>523.4748</td>\n",
              "      <td>2</td>\n",
              "      <td>2</td>\n",
              "      <td>1</td>\n",
              "      <td>262.0161</td>\n",
              "      <td>8.394514</td>\n",
              "      <td>328.6337</td>\n",
              "      <td>2.443085</td>\n",
              "      <td>2</td>\n",
              "      <td>...</td>\n",
              "      <td>0.308619</td>\n",
              "      <td>2</td>\n",
              "      <td>1</td>\n",
              "      <td>250.8812</td>\n",
              "      <td>1.649953</td>\n",
              "      <td>189.5027</td>\n",
              "      <td>0.000128</td>\n",
              "      <td>1</td>\n",
              "      <td>1</td>\n",
              "      <td>1</td>\n",
              "    </tr>\n",
              "  </tbody>\n",
              "</table>\n",
              "<p>5 rows × 51 columns</p>\n",
              "</div>\n",
              "      <button class=\"colab-df-convert\" onclick=\"convertToInteractive('df-ca48a6ff-4419-4cb6-9383-9b7d6d621817')\"\n",
              "              title=\"Convert this dataframe to an interactive table.\"\n",
              "              style=\"display:none;\">\n",
              "        \n",
              "  <svg xmlns=\"http://www.w3.org/2000/svg\" height=\"24px\"viewBox=\"0 0 24 24\"\n",
              "       width=\"24px\">\n",
              "    <path d=\"M0 0h24v24H0V0z\" fill=\"none\"/>\n",
              "    <path d=\"M18.56 5.44l.94 2.06.94-2.06 2.06-.94-2.06-.94-.94-2.06-.94 2.06-2.06.94zm-11 1L8.5 8.5l.94-2.06 2.06-.94-2.06-.94L8.5 2.5l-.94 2.06-2.06.94zm10 10l.94 2.06.94-2.06 2.06-.94-2.06-.94-.94-2.06-.94 2.06-2.06.94z\"/><path d=\"M17.41 7.96l-1.37-1.37c-.4-.4-.92-.59-1.43-.59-.52 0-1.04.2-1.43.59L10.3 9.45l-7.72 7.72c-.78.78-.78 2.05 0 2.83L4 21.41c.39.39.9.59 1.41.59.51 0 1.02-.2 1.41-.59l7.78-7.78 2.81-2.81c.8-.78.8-2.07 0-2.86zM5.41 20L4 18.59l7.72-7.72 1.47 1.35L5.41 20z\"/>\n",
              "  </svg>\n",
              "      </button>\n",
              "      \n",
              "  <style>\n",
              "    .colab-df-container {\n",
              "      display:flex;\n",
              "      flex-wrap:wrap;\n",
              "      gap: 12px;\n",
              "    }\n",
              "\n",
              "    .colab-df-convert {\n",
              "      background-color: #E8F0FE;\n",
              "      border: none;\n",
              "      border-radius: 50%;\n",
              "      cursor: pointer;\n",
              "      display: none;\n",
              "      fill: #1967D2;\n",
              "      height: 32px;\n",
              "      padding: 0 0 0 0;\n",
              "      width: 32px;\n",
              "    }\n",
              "\n",
              "    .colab-df-convert:hover {\n",
              "      background-color: #E2EBFA;\n",
              "      box-shadow: 0px 1px 2px rgba(60, 64, 67, 0.3), 0px 1px 3px 1px rgba(60, 64, 67, 0.15);\n",
              "      fill: #174EA6;\n",
              "    }\n",
              "\n",
              "    [theme=dark] .colab-df-convert {\n",
              "      background-color: #3B4455;\n",
              "      fill: #D2E3FC;\n",
              "    }\n",
              "\n",
              "    [theme=dark] .colab-df-convert:hover {\n",
              "      background-color: #434B5C;\n",
              "      box-shadow: 0px 1px 3px 1px rgba(0, 0, 0, 0.15);\n",
              "      filter: drop-shadow(0px 1px 2px rgba(0, 0, 0, 0.3));\n",
              "      fill: #FFFFFF;\n",
              "    }\n",
              "  </style>\n",
              "\n",
              "      <script>\n",
              "        const buttonEl =\n",
              "          document.querySelector('#df-ca48a6ff-4419-4cb6-9383-9b7d6d621817 button.colab-df-convert');\n",
              "        buttonEl.style.display =\n",
              "          google.colab.kernel.accessAllowed ? 'block' : 'none';\n",
              "\n",
              "        async function convertToInteractive(key) {\n",
              "          const element = document.querySelector('#df-ca48a6ff-4419-4cb6-9383-9b7d6d621817');\n",
              "          const dataTable =\n",
              "            await google.colab.kernel.invokeFunction('convertToInteractive',\n",
              "                                                     [key], {});\n",
              "          if (!dataTable) return;\n",
              "\n",
              "          const docLinkHtml = 'Like what you see? Visit the ' +\n",
              "            '<a target=\"_blank\" href=https://colab.research.google.com/notebooks/data_table.ipynb>data table notebook</a>'\n",
              "            + ' to learn more about interactive tables.';\n",
              "          element.innerHTML = '';\n",
              "          dataTable['output_type'] = 'display_data';\n",
              "          await google.colab.output.renderOutput(dataTable, element);\n",
              "          const docLink = document.createElement('div');\n",
              "          docLink.innerHTML = docLinkHtml;\n",
              "          element.appendChild(docLink);\n",
              "        }\n",
              "      </script>\n",
              "    </div>\n",
              "  </div>\n",
              "  "
            ]
          },
          "metadata": {},
          "execution_count": 95
        }
      ]
    },
    {
      "cell_type": "code",
      "source": [],
      "metadata": {
        "id": "2GYtFl8FQiVU"
      },
      "execution_count": null,
      "outputs": []
    },
    {
      "cell_type": "code",
      "source": [
        "#print summary table\n",
        "x1 = x1.reindex(x1.var().sort_values().index, axis=1)\n",
        "inf_df = x1.describe()\n",
        "inf_df = inf_df.T\n",
        "inf_df['std'] = inf_df['std']**2\n",
        "inf_df['median'] = x1.median()\n",
        "inf_df = inf_df.T\n",
        "inf_df = inf_df.drop('count')\n",
        "inf_df = inf_df.drop('25%')\n",
        "inf_df = inf_df.drop('50%')\n",
        "inf_df = inf_df.drop('75%')\n",
        "save_df = inf_df.rename(index={\"std\": \"var\"})\n",
        "save_df = save_df.T\n",
        "save_df = save_df[['var', 'mean', 'median', 'min', 'max']]\n",
        "save_df"
      ],
      "metadata": {
        "colab": {
          "base_uri": "https://localhost:8080/",
          "height": 1000
        },
        "id": "K2aMEFTDHHvZ",
        "outputId": "bd66f5e1-43d2-4987-8e2b-a44fa5dadf4b"
      },
      "execution_count": null,
      "outputs": [
        {
          "output_type": "execute_result",
          "data": {
            "text/plain": [
              "                  var        mean      median         min          max\n",
              "0                                                                     \n",
              "P603         0.000000    1.000000    1.000000    1.000000     1.000000\n",
              "P601         0.000000    1.000000    1.000000    1.000000     1.000000\n",
              "P502         0.000000    1.000000    1.000000    1.000000     1.000000\n",
              "P404         0.000000    1.000000    1.000000    1.000000     1.000000\n",
              "P401         0.000000    1.000000    1.000000    1.000000     1.000000\n",
              "P301         0.000000    1.000000    1.000000    1.000000     1.000000\n",
              " P202        0.000000    1.000000    1.000000    1.000000     1.000000\n",
              "AIT401       0.000015  148.805855  148.808000  148.759900   148.856100\n",
              "P206         0.000122    1.000122    1.000000    1.000000     2.000000\n",
              " P204        0.000124    1.000124    1.000000    1.000000     2.000000\n",
              "P403         0.000133    1.000133    1.000000    1.000000     2.000000\n",
              "FIT504       0.006549    0.283806    0.306633    0.000000     0.311693\n",
              "P102         0.006897    1.006946    1.000000    1.000000     2.000000\n",
              "AIT501       0.007108    7.787358    7.797873    7.432902     8.307037\n",
              "P602         0.009017    1.009099    1.000000    1.000000     2.000000\n",
              "AIT202       0.013189    8.528535    8.551525    6.000000     8.733210\n",
              "MV301        0.015047    1.007321    1.000000    0.000000     2.000000\n",
              "FIT601       0.025473    0.016566    0.000000    0.000000     1.802710\n",
              " MV303       0.032921    1.023349    1.000000    0.000000     2.000000\n",
              "FIT503       0.035911    0.679549    0.732708    0.000000     0.741542\n",
              "P402         0.066138    1.928792    2.000000    1.000000     2.000000\n",
              "P501         0.068642    1.925862    2.000000    1.000000     2.000000\n",
              "UV401        0.068653    1.925849    2.000000    1.000000     2.000000\n",
              "MV304        0.105029    1.101163    1.000000    0.000000     2.000000\n",
              " P201        0.106411    1.121068    1.000000    1.000000     2.000000\n",
              "FIT502       0.110203    1.195462    1.286410    0.000000     1.360318\n",
              "PIT502       0.170340    1.013408    0.961138    0.000000     1.970333\n",
              "P302         0.175501    1.772946    2.000000    1.000000     2.000000\n",
              "FIT501       0.197741    1.603014    1.726993    0.000000     1.753653\n",
              "MV302        0.201000    1.749655    2.000000    0.000000     2.000000\n",
              "FIT401       0.201633    1.590214    1.717361    0.000000     1.744914\n",
              "P101         0.212654    1.693251    2.000000    1.000000     2.000000\n",
              "P205         0.213469    1.691131    2.000000    1.000000     2.000000\n",
              "P203         0.213638    1.690689    2.000000    1.000000     2.000000\n",
              " MV201       0.221475    1.691584    2.000000    0.000000     2.000000\n",
              " MV101       0.232635    1.665335    2.000000    0.000000     2.000000\n",
              "FIT301       0.823591    1.713555    2.201582    0.000000     2.376197\n",
              "FIT201       1.277526    1.702908    2.446673    0.000000     2.826899\n",
              "FIT101       1.420187    1.714346    2.477020    0.000000     2.760145\n",
              "AIT503      42.798968  264.789668  264.387300  244.873100   297.263500\n",
              "DPIT301     59.911361   15.827634   19.898840    0.000000    45.000000\n",
              "AIT504      63.116963   14.504030   14.611640    9.536016   442.463500\n",
              "AIT203     276.591125  320.301478  321.661100  285.337100   384.465500\n",
              "AIT502     459.208510  147.509939  142.912100  129.838500   272.853100\n",
              " AIT201   1236.078538  210.297302  193.508100  168.033800   267.719800\n",
              "AIT402    2001.686453  161.990135  150.166600  140.835700   333.811800\n",
              "PIT503    2254.332268  174.714484  187.724300    3.140220   191.986000\n",
              "PIT501    3813.177312  232.173817  249.295100    9.468726   254.341800\n",
              "LIT301    6483.802694  910.076801  924.682800  364.386300  1201.000000\n",
              "LIT101   15700.842685  607.019967  530.422500  189.826300   925.032300\n",
              "LIT401   34621.501727  833.542913  884.427100  243.014600  1002.781000"
            ],
            "text/html": [
              "\n",
              "  <div id=\"df-d9e93b3f-ac0e-4f1a-873b-40cab88224ce\">\n",
              "    <div class=\"colab-df-container\">\n",
              "      <div>\n",
              "<style scoped>\n",
              "    .dataframe tbody tr th:only-of-type {\n",
              "        vertical-align: middle;\n",
              "    }\n",
              "\n",
              "    .dataframe tbody tr th {\n",
              "        vertical-align: top;\n",
              "    }\n",
              "\n",
              "    .dataframe thead th {\n",
              "        text-align: right;\n",
              "    }\n",
              "</style>\n",
              "<table border=\"1\" class=\"dataframe\">\n",
              "  <thead>\n",
              "    <tr style=\"text-align: right;\">\n",
              "      <th></th>\n",
              "      <th>var</th>\n",
              "      <th>mean</th>\n",
              "      <th>median</th>\n",
              "      <th>min</th>\n",
              "      <th>max</th>\n",
              "    </tr>\n",
              "    <tr>\n",
              "      <th>0</th>\n",
              "      <th></th>\n",
              "      <th></th>\n",
              "      <th></th>\n",
              "      <th></th>\n",
              "      <th></th>\n",
              "    </tr>\n",
              "  </thead>\n",
              "  <tbody>\n",
              "    <tr>\n",
              "      <th>P603</th>\n",
              "      <td>0.000000</td>\n",
              "      <td>1.000000</td>\n",
              "      <td>1.000000</td>\n",
              "      <td>1.000000</td>\n",
              "      <td>1.000000</td>\n",
              "    </tr>\n",
              "    <tr>\n",
              "      <th>P601</th>\n",
              "      <td>0.000000</td>\n",
              "      <td>1.000000</td>\n",
              "      <td>1.000000</td>\n",
              "      <td>1.000000</td>\n",
              "      <td>1.000000</td>\n",
              "    </tr>\n",
              "    <tr>\n",
              "      <th>P502</th>\n",
              "      <td>0.000000</td>\n",
              "      <td>1.000000</td>\n",
              "      <td>1.000000</td>\n",
              "      <td>1.000000</td>\n",
              "      <td>1.000000</td>\n",
              "    </tr>\n",
              "    <tr>\n",
              "      <th>P404</th>\n",
              "      <td>0.000000</td>\n",
              "      <td>1.000000</td>\n",
              "      <td>1.000000</td>\n",
              "      <td>1.000000</td>\n",
              "      <td>1.000000</td>\n",
              "    </tr>\n",
              "    <tr>\n",
              "      <th>P401</th>\n",
              "      <td>0.000000</td>\n",
              "      <td>1.000000</td>\n",
              "      <td>1.000000</td>\n",
              "      <td>1.000000</td>\n",
              "      <td>1.000000</td>\n",
              "    </tr>\n",
              "    <tr>\n",
              "      <th>P301</th>\n",
              "      <td>0.000000</td>\n",
              "      <td>1.000000</td>\n",
              "      <td>1.000000</td>\n",
              "      <td>1.000000</td>\n",
              "      <td>1.000000</td>\n",
              "    </tr>\n",
              "    <tr>\n",
              "      <th>P202</th>\n",
              "      <td>0.000000</td>\n",
              "      <td>1.000000</td>\n",
              "      <td>1.000000</td>\n",
              "      <td>1.000000</td>\n",
              "      <td>1.000000</td>\n",
              "    </tr>\n",
              "    <tr>\n",
              "      <th>AIT401</th>\n",
              "      <td>0.000015</td>\n",
              "      <td>148.805855</td>\n",
              "      <td>148.808000</td>\n",
              "      <td>148.759900</td>\n",
              "      <td>148.856100</td>\n",
              "    </tr>\n",
              "    <tr>\n",
              "      <th>P206</th>\n",
              "      <td>0.000122</td>\n",
              "      <td>1.000122</td>\n",
              "      <td>1.000000</td>\n",
              "      <td>1.000000</td>\n",
              "      <td>2.000000</td>\n",
              "    </tr>\n",
              "    <tr>\n",
              "      <th>P204</th>\n",
              "      <td>0.000124</td>\n",
              "      <td>1.000124</td>\n",
              "      <td>1.000000</td>\n",
              "      <td>1.000000</td>\n",
              "      <td>2.000000</td>\n",
              "    </tr>\n",
              "    <tr>\n",
              "      <th>P403</th>\n",
              "      <td>0.000133</td>\n",
              "      <td>1.000133</td>\n",
              "      <td>1.000000</td>\n",
              "      <td>1.000000</td>\n",
              "      <td>2.000000</td>\n",
              "    </tr>\n",
              "    <tr>\n",
              "      <th>FIT504</th>\n",
              "      <td>0.006549</td>\n",
              "      <td>0.283806</td>\n",
              "      <td>0.306633</td>\n",
              "      <td>0.000000</td>\n",
              "      <td>0.311693</td>\n",
              "    </tr>\n",
              "    <tr>\n",
              "      <th>P102</th>\n",
              "      <td>0.006897</td>\n",
              "      <td>1.006946</td>\n",
              "      <td>1.000000</td>\n",
              "      <td>1.000000</td>\n",
              "      <td>2.000000</td>\n",
              "    </tr>\n",
              "    <tr>\n",
              "      <th>AIT501</th>\n",
              "      <td>0.007108</td>\n",
              "      <td>7.787358</td>\n",
              "      <td>7.797873</td>\n",
              "      <td>7.432902</td>\n",
              "      <td>8.307037</td>\n",
              "    </tr>\n",
              "    <tr>\n",
              "      <th>P602</th>\n",
              "      <td>0.009017</td>\n",
              "      <td>1.009099</td>\n",
              "      <td>1.000000</td>\n",
              "      <td>1.000000</td>\n",
              "      <td>2.000000</td>\n",
              "    </tr>\n",
              "    <tr>\n",
              "      <th>AIT202</th>\n",
              "      <td>0.013189</td>\n",
              "      <td>8.528535</td>\n",
              "      <td>8.551525</td>\n",
              "      <td>6.000000</td>\n",
              "      <td>8.733210</td>\n",
              "    </tr>\n",
              "    <tr>\n",
              "      <th>MV301</th>\n",
              "      <td>0.015047</td>\n",
              "      <td>1.007321</td>\n",
              "      <td>1.000000</td>\n",
              "      <td>0.000000</td>\n",
              "      <td>2.000000</td>\n",
              "    </tr>\n",
              "    <tr>\n",
              "      <th>FIT601</th>\n",
              "      <td>0.025473</td>\n",
              "      <td>0.016566</td>\n",
              "      <td>0.000000</td>\n",
              "      <td>0.000000</td>\n",
              "      <td>1.802710</td>\n",
              "    </tr>\n",
              "    <tr>\n",
              "      <th>MV303</th>\n",
              "      <td>0.032921</td>\n",
              "      <td>1.023349</td>\n",
              "      <td>1.000000</td>\n",
              "      <td>0.000000</td>\n",
              "      <td>2.000000</td>\n",
              "    </tr>\n",
              "    <tr>\n",
              "      <th>FIT503</th>\n",
              "      <td>0.035911</td>\n",
              "      <td>0.679549</td>\n",
              "      <td>0.732708</td>\n",
              "      <td>0.000000</td>\n",
              "      <td>0.741542</td>\n",
              "    </tr>\n",
              "    <tr>\n",
              "      <th>P402</th>\n",
              "      <td>0.066138</td>\n",
              "      <td>1.928792</td>\n",
              "      <td>2.000000</td>\n",
              "      <td>1.000000</td>\n",
              "      <td>2.000000</td>\n",
              "    </tr>\n",
              "    <tr>\n",
              "      <th>P501</th>\n",
              "      <td>0.068642</td>\n",
              "      <td>1.925862</td>\n",
              "      <td>2.000000</td>\n",
              "      <td>1.000000</td>\n",
              "      <td>2.000000</td>\n",
              "    </tr>\n",
              "    <tr>\n",
              "      <th>UV401</th>\n",
              "      <td>0.068653</td>\n",
              "      <td>1.925849</td>\n",
              "      <td>2.000000</td>\n",
              "      <td>1.000000</td>\n",
              "      <td>2.000000</td>\n",
              "    </tr>\n",
              "    <tr>\n",
              "      <th>MV304</th>\n",
              "      <td>0.105029</td>\n",
              "      <td>1.101163</td>\n",
              "      <td>1.000000</td>\n",
              "      <td>0.000000</td>\n",
              "      <td>2.000000</td>\n",
              "    </tr>\n",
              "    <tr>\n",
              "      <th>P201</th>\n",
              "      <td>0.106411</td>\n",
              "      <td>1.121068</td>\n",
              "      <td>1.000000</td>\n",
              "      <td>1.000000</td>\n",
              "      <td>2.000000</td>\n",
              "    </tr>\n",
              "    <tr>\n",
              "      <th>FIT502</th>\n",
              "      <td>0.110203</td>\n",
              "      <td>1.195462</td>\n",
              "      <td>1.286410</td>\n",
              "      <td>0.000000</td>\n",
              "      <td>1.360318</td>\n",
              "    </tr>\n",
              "    <tr>\n",
              "      <th>PIT502</th>\n",
              "      <td>0.170340</td>\n",
              "      <td>1.013408</td>\n",
              "      <td>0.961138</td>\n",
              "      <td>0.000000</td>\n",
              "      <td>1.970333</td>\n",
              "    </tr>\n",
              "    <tr>\n",
              "      <th>P302</th>\n",
              "      <td>0.175501</td>\n",
              "      <td>1.772946</td>\n",
              "      <td>2.000000</td>\n",
              "      <td>1.000000</td>\n",
              "      <td>2.000000</td>\n",
              "    </tr>\n",
              "    <tr>\n",
              "      <th>FIT501</th>\n",
              "      <td>0.197741</td>\n",
              "      <td>1.603014</td>\n",
              "      <td>1.726993</td>\n",
              "      <td>0.000000</td>\n",
              "      <td>1.753653</td>\n",
              "    </tr>\n",
              "    <tr>\n",
              "      <th>MV302</th>\n",
              "      <td>0.201000</td>\n",
              "      <td>1.749655</td>\n",
              "      <td>2.000000</td>\n",
              "      <td>0.000000</td>\n",
              "      <td>2.000000</td>\n",
              "    </tr>\n",
              "    <tr>\n",
              "      <th>FIT401</th>\n",
              "      <td>0.201633</td>\n",
              "      <td>1.590214</td>\n",
              "      <td>1.717361</td>\n",
              "      <td>0.000000</td>\n",
              "      <td>1.744914</td>\n",
              "    </tr>\n",
              "    <tr>\n",
              "      <th>P101</th>\n",
              "      <td>0.212654</td>\n",
              "      <td>1.693251</td>\n",
              "      <td>2.000000</td>\n",
              "      <td>1.000000</td>\n",
              "      <td>2.000000</td>\n",
              "    </tr>\n",
              "    <tr>\n",
              "      <th>P205</th>\n",
              "      <td>0.213469</td>\n",
              "      <td>1.691131</td>\n",
              "      <td>2.000000</td>\n",
              "      <td>1.000000</td>\n",
              "      <td>2.000000</td>\n",
              "    </tr>\n",
              "    <tr>\n",
              "      <th>P203</th>\n",
              "      <td>0.213638</td>\n",
              "      <td>1.690689</td>\n",
              "      <td>2.000000</td>\n",
              "      <td>1.000000</td>\n",
              "      <td>2.000000</td>\n",
              "    </tr>\n",
              "    <tr>\n",
              "      <th>MV201</th>\n",
              "      <td>0.221475</td>\n",
              "      <td>1.691584</td>\n",
              "      <td>2.000000</td>\n",
              "      <td>0.000000</td>\n",
              "      <td>2.000000</td>\n",
              "    </tr>\n",
              "    <tr>\n",
              "      <th>MV101</th>\n",
              "      <td>0.232635</td>\n",
              "      <td>1.665335</td>\n",
              "      <td>2.000000</td>\n",
              "      <td>0.000000</td>\n",
              "      <td>2.000000</td>\n",
              "    </tr>\n",
              "    <tr>\n",
              "      <th>FIT301</th>\n",
              "      <td>0.823591</td>\n",
              "      <td>1.713555</td>\n",
              "      <td>2.201582</td>\n",
              "      <td>0.000000</td>\n",
              "      <td>2.376197</td>\n",
              "    </tr>\n",
              "    <tr>\n",
              "      <th>FIT201</th>\n",
              "      <td>1.277526</td>\n",
              "      <td>1.702908</td>\n",
              "      <td>2.446673</td>\n",
              "      <td>0.000000</td>\n",
              "      <td>2.826899</td>\n",
              "    </tr>\n",
              "    <tr>\n",
              "      <th>FIT101</th>\n",
              "      <td>1.420187</td>\n",
              "      <td>1.714346</td>\n",
              "      <td>2.477020</td>\n",
              "      <td>0.000000</td>\n",
              "      <td>2.760145</td>\n",
              "    </tr>\n",
              "    <tr>\n",
              "      <th>AIT503</th>\n",
              "      <td>42.798968</td>\n",
              "      <td>264.789668</td>\n",
              "      <td>264.387300</td>\n",
              "      <td>244.873100</td>\n",
              "      <td>297.263500</td>\n",
              "    </tr>\n",
              "    <tr>\n",
              "      <th>DPIT301</th>\n",
              "      <td>59.911361</td>\n",
              "      <td>15.827634</td>\n",
              "      <td>19.898840</td>\n",
              "      <td>0.000000</td>\n",
              "      <td>45.000000</td>\n",
              "    </tr>\n",
              "    <tr>\n",
              "      <th>AIT504</th>\n",
              "      <td>63.116963</td>\n",
              "      <td>14.504030</td>\n",
              "      <td>14.611640</td>\n",
              "      <td>9.536016</td>\n",
              "      <td>442.463500</td>\n",
              "    </tr>\n",
              "    <tr>\n",
              "      <th>AIT203</th>\n",
              "      <td>276.591125</td>\n",
              "      <td>320.301478</td>\n",
              "      <td>321.661100</td>\n",
              "      <td>285.337100</td>\n",
              "      <td>384.465500</td>\n",
              "    </tr>\n",
              "    <tr>\n",
              "      <th>AIT502</th>\n",
              "      <td>459.208510</td>\n",
              "      <td>147.509939</td>\n",
              "      <td>142.912100</td>\n",
              "      <td>129.838500</td>\n",
              "      <td>272.853100</td>\n",
              "    </tr>\n",
              "    <tr>\n",
              "      <th>AIT201</th>\n",
              "      <td>1236.078538</td>\n",
              "      <td>210.297302</td>\n",
              "      <td>193.508100</td>\n",
              "      <td>168.033800</td>\n",
              "      <td>267.719800</td>\n",
              "    </tr>\n",
              "    <tr>\n",
              "      <th>AIT402</th>\n",
              "      <td>2001.686453</td>\n",
              "      <td>161.990135</td>\n",
              "      <td>150.166600</td>\n",
              "      <td>140.835700</td>\n",
              "      <td>333.811800</td>\n",
              "    </tr>\n",
              "    <tr>\n",
              "      <th>PIT503</th>\n",
              "      <td>2254.332268</td>\n",
              "      <td>174.714484</td>\n",
              "      <td>187.724300</td>\n",
              "      <td>3.140220</td>\n",
              "      <td>191.986000</td>\n",
              "    </tr>\n",
              "    <tr>\n",
              "      <th>PIT501</th>\n",
              "      <td>3813.177312</td>\n",
              "      <td>232.173817</td>\n",
              "      <td>249.295100</td>\n",
              "      <td>9.468726</td>\n",
              "      <td>254.341800</td>\n",
              "    </tr>\n",
              "    <tr>\n",
              "      <th>LIT301</th>\n",
              "      <td>6483.802694</td>\n",
              "      <td>910.076801</td>\n",
              "      <td>924.682800</td>\n",
              "      <td>364.386300</td>\n",
              "      <td>1201.000000</td>\n",
              "    </tr>\n",
              "    <tr>\n",
              "      <th>LIT101</th>\n",
              "      <td>15700.842685</td>\n",
              "      <td>607.019967</td>\n",
              "      <td>530.422500</td>\n",
              "      <td>189.826300</td>\n",
              "      <td>925.032300</td>\n",
              "    </tr>\n",
              "    <tr>\n",
              "      <th>LIT401</th>\n",
              "      <td>34621.501727</td>\n",
              "      <td>833.542913</td>\n",
              "      <td>884.427100</td>\n",
              "      <td>243.014600</td>\n",
              "      <td>1002.781000</td>\n",
              "    </tr>\n",
              "  </tbody>\n",
              "</table>\n",
              "</div>\n",
              "      <button class=\"colab-df-convert\" onclick=\"convertToInteractive('df-d9e93b3f-ac0e-4f1a-873b-40cab88224ce')\"\n",
              "              title=\"Convert this dataframe to an interactive table.\"\n",
              "              style=\"display:none;\">\n",
              "        \n",
              "  <svg xmlns=\"http://www.w3.org/2000/svg\" height=\"24px\"viewBox=\"0 0 24 24\"\n",
              "       width=\"24px\">\n",
              "    <path d=\"M0 0h24v24H0V0z\" fill=\"none\"/>\n",
              "    <path d=\"M18.56 5.44l.94 2.06.94-2.06 2.06-.94-2.06-.94-.94-2.06-.94 2.06-2.06.94zm-11 1L8.5 8.5l.94-2.06 2.06-.94-2.06-.94L8.5 2.5l-.94 2.06-2.06.94zm10 10l.94 2.06.94-2.06 2.06-.94-2.06-.94-.94-2.06-.94 2.06-2.06.94z\"/><path d=\"M17.41 7.96l-1.37-1.37c-.4-.4-.92-.59-1.43-.59-.52 0-1.04.2-1.43.59L10.3 9.45l-7.72 7.72c-.78.78-.78 2.05 0 2.83L4 21.41c.39.39.9.59 1.41.59.51 0 1.02-.2 1.41-.59l7.78-7.78 2.81-2.81c.8-.78.8-2.07 0-2.86zM5.41 20L4 18.59l7.72-7.72 1.47 1.35L5.41 20z\"/>\n",
              "  </svg>\n",
              "      </button>\n",
              "      \n",
              "  <style>\n",
              "    .colab-df-container {\n",
              "      display:flex;\n",
              "      flex-wrap:wrap;\n",
              "      gap: 12px;\n",
              "    }\n",
              "\n",
              "    .colab-df-convert {\n",
              "      background-color: #E8F0FE;\n",
              "      border: none;\n",
              "      border-radius: 50%;\n",
              "      cursor: pointer;\n",
              "      display: none;\n",
              "      fill: #1967D2;\n",
              "      height: 32px;\n",
              "      padding: 0 0 0 0;\n",
              "      width: 32px;\n",
              "    }\n",
              "\n",
              "    .colab-df-convert:hover {\n",
              "      background-color: #E2EBFA;\n",
              "      box-shadow: 0px 1px 2px rgba(60, 64, 67, 0.3), 0px 1px 3px 1px rgba(60, 64, 67, 0.15);\n",
              "      fill: #174EA6;\n",
              "    }\n",
              "\n",
              "    [theme=dark] .colab-df-convert {\n",
              "      background-color: #3B4455;\n",
              "      fill: #D2E3FC;\n",
              "    }\n",
              "\n",
              "    [theme=dark] .colab-df-convert:hover {\n",
              "      background-color: #434B5C;\n",
              "      box-shadow: 0px 1px 3px 1px rgba(0, 0, 0, 0.15);\n",
              "      filter: drop-shadow(0px 1px 2px rgba(0, 0, 0, 0.3));\n",
              "      fill: #FFFFFF;\n",
              "    }\n",
              "  </style>\n",
              "\n",
              "      <script>\n",
              "        const buttonEl =\n",
              "          document.querySelector('#df-d9e93b3f-ac0e-4f1a-873b-40cab88224ce button.colab-df-convert');\n",
              "        buttonEl.style.display =\n",
              "          google.colab.kernel.accessAllowed ? 'block' : 'none';\n",
              "\n",
              "        async function convertToInteractive(key) {\n",
              "          const element = document.querySelector('#df-d9e93b3f-ac0e-4f1a-873b-40cab88224ce');\n",
              "          const dataTable =\n",
              "            await google.colab.kernel.invokeFunction('convertToInteractive',\n",
              "                                                     [key], {});\n",
              "          if (!dataTable) return;\n",
              "\n",
              "          const docLinkHtml = 'Like what you see? Visit the ' +\n",
              "            '<a target=\"_blank\" href=https://colab.research.google.com/notebooks/data_table.ipynb>data table notebook</a>'\n",
              "            + ' to learn more about interactive tables.';\n",
              "          element.innerHTML = '';\n",
              "          dataTable['output_type'] = 'display_data';\n",
              "          await google.colab.output.renderOutput(dataTable, element);\n",
              "          const docLink = document.createElement('div');\n",
              "          docLink.innerHTML = docLinkHtml;\n",
              "          element.appendChild(docLink);\n",
              "        }\n",
              "      </script>\n",
              "    </div>\n",
              "  </div>\n",
              "  "
            ]
          },
          "metadata": {},
          "execution_count": 89
        }
      ]
    },
    {
      "cell_type": "code",
      "source": [
        "#take top 7\n",
        "top_7 = pd.DataFrame()\n",
        "top_7['LIT401'] = x1['LIT401']\n",
        "top_7['LIT101'] = x1['LIT101']\n",
        "top_7['LIT301'] = x1['LIT301']\n",
        "top_7['PIT501'] = x1['PIT501']\n",
        "top_7['PIT503'] = x1['PIT503']\n",
        "top_7['AIT402'] = x1['AIT402']\n",
        "top_7[' AIT201'] = x1[' AIT201']\n"
      ],
      "metadata": {
        "id": "JDoXu8rtTkT-"
      },
      "execution_count": null,
      "outputs": []
    },
    {
      "cell_type": "code",
      "source": [],
      "metadata": {
        "id": "oQm5dUdXUOhY"
      },
      "execution_count": null,
      "outputs": []
    },
    {
      "cell_type": "code",
      "source": [
        "#duplicate columns: LIT401 , LIT101, LIT301, PIT501, PIT503\n",
        "x1['LIT401a'] = x1.loc[:, 'LIT401']\n",
        "x1['LIT401b'] = x1.loc[:, 'LIT401']\n",
        "x1['LIT401c'] = x1.loc[:, 'LIT401']\n",
        "x1['LIT401d'] = x1.loc[:, 'LIT401']\n",
        "x1['LIT401e'] = x1.loc[:, 'LIT401']\n",
        "x1['LIT401f'] = x1.loc[:, 'LIT401']\n",
        "x1['LIT401g'] = x1.loc[:, 'LIT401']\n",
        "x1['LIT401h'] = x1.loc[:, 'LIT401']\n",
        "x1['LIT401i'] = x1.loc[:, 'LIT401']\n",
        "x1['LIT401j'] = x1.loc[:, 'LIT401']"
      ],
      "metadata": {
        "id": "1fmv-srYHp3X"
      },
      "execution_count": null,
      "outputs": []
    },
    {
      "cell_type": "code",
      "source": [
        "top_7.head(5)"
      ],
      "metadata": {
        "colab": {
          "base_uri": "https://localhost:8080/",
          "height": 206
        },
        "id": "H5JezDi3R__7",
        "outputId": "364cde09-900c-4df4-da8e-33ee32c2dfde"
      },
      "execution_count": null,
      "outputs": [
        {
          "output_type": "execute_result",
          "data": {
            "text/plain": [
              "     LIT401    LIT101    LIT301    PIT501    PIT503    AIT402    AIT201\n",
              "1  942.0662  522.8467  956.1651  250.8652  189.5988  156.0882  262.0161\n",
              "2  942.0277  522.8860  956.1651  250.8652  189.6789  156.0882  262.0161\n",
              "3  941.8739  522.8467  956.4855  250.8812  189.6789  156.0882  262.0161\n",
              "4  941.7970  522.9645  956.8060  250.8812  189.6148  156.0882  262.0161\n",
              "5  942.2200  523.4748  957.0864  250.8812  189.5027  156.0882  262.0161"
            ],
            "text/html": [
              "\n",
              "  <div id=\"df-1ceb772a-6ae4-4534-b706-2c19df3f57d6\">\n",
              "    <div class=\"colab-df-container\">\n",
              "      <div>\n",
              "<style scoped>\n",
              "    .dataframe tbody tr th:only-of-type {\n",
              "        vertical-align: middle;\n",
              "    }\n",
              "\n",
              "    .dataframe tbody tr th {\n",
              "        vertical-align: top;\n",
              "    }\n",
              "\n",
              "    .dataframe thead th {\n",
              "        text-align: right;\n",
              "    }\n",
              "</style>\n",
              "<table border=\"1\" class=\"dataframe\">\n",
              "  <thead>\n",
              "    <tr style=\"text-align: right;\">\n",
              "      <th></th>\n",
              "      <th>LIT401</th>\n",
              "      <th>LIT101</th>\n",
              "      <th>LIT301</th>\n",
              "      <th>PIT501</th>\n",
              "      <th>PIT503</th>\n",
              "      <th>AIT402</th>\n",
              "      <th>AIT201</th>\n",
              "    </tr>\n",
              "  </thead>\n",
              "  <tbody>\n",
              "    <tr>\n",
              "      <th>1</th>\n",
              "      <td>942.0662</td>\n",
              "      <td>522.8467</td>\n",
              "      <td>956.1651</td>\n",
              "      <td>250.8652</td>\n",
              "      <td>189.5988</td>\n",
              "      <td>156.0882</td>\n",
              "      <td>262.0161</td>\n",
              "    </tr>\n",
              "    <tr>\n",
              "      <th>2</th>\n",
              "      <td>942.0277</td>\n",
              "      <td>522.8860</td>\n",
              "      <td>956.1651</td>\n",
              "      <td>250.8652</td>\n",
              "      <td>189.6789</td>\n",
              "      <td>156.0882</td>\n",
              "      <td>262.0161</td>\n",
              "    </tr>\n",
              "    <tr>\n",
              "      <th>3</th>\n",
              "      <td>941.8739</td>\n",
              "      <td>522.8467</td>\n",
              "      <td>956.4855</td>\n",
              "      <td>250.8812</td>\n",
              "      <td>189.6789</td>\n",
              "      <td>156.0882</td>\n",
              "      <td>262.0161</td>\n",
              "    </tr>\n",
              "    <tr>\n",
              "      <th>4</th>\n",
              "      <td>941.7970</td>\n",
              "      <td>522.9645</td>\n",
              "      <td>956.8060</td>\n",
              "      <td>250.8812</td>\n",
              "      <td>189.6148</td>\n",
              "      <td>156.0882</td>\n",
              "      <td>262.0161</td>\n",
              "    </tr>\n",
              "    <tr>\n",
              "      <th>5</th>\n",
              "      <td>942.2200</td>\n",
              "      <td>523.4748</td>\n",
              "      <td>957.0864</td>\n",
              "      <td>250.8812</td>\n",
              "      <td>189.5027</td>\n",
              "      <td>156.0882</td>\n",
              "      <td>262.0161</td>\n",
              "    </tr>\n",
              "  </tbody>\n",
              "</table>\n",
              "</div>\n",
              "      <button class=\"colab-df-convert\" onclick=\"convertToInteractive('df-1ceb772a-6ae4-4534-b706-2c19df3f57d6')\"\n",
              "              title=\"Convert this dataframe to an interactive table.\"\n",
              "              style=\"display:none;\">\n",
              "        \n",
              "  <svg xmlns=\"http://www.w3.org/2000/svg\" height=\"24px\"viewBox=\"0 0 24 24\"\n",
              "       width=\"24px\">\n",
              "    <path d=\"M0 0h24v24H0V0z\" fill=\"none\"/>\n",
              "    <path d=\"M18.56 5.44l.94 2.06.94-2.06 2.06-.94-2.06-.94-.94-2.06-.94 2.06-2.06.94zm-11 1L8.5 8.5l.94-2.06 2.06-.94-2.06-.94L8.5 2.5l-.94 2.06-2.06.94zm10 10l.94 2.06.94-2.06 2.06-.94-2.06-.94-.94-2.06-.94 2.06-2.06.94z\"/><path d=\"M17.41 7.96l-1.37-1.37c-.4-.4-.92-.59-1.43-.59-.52 0-1.04.2-1.43.59L10.3 9.45l-7.72 7.72c-.78.78-.78 2.05 0 2.83L4 21.41c.39.39.9.59 1.41.59.51 0 1.02-.2 1.41-.59l7.78-7.78 2.81-2.81c.8-.78.8-2.07 0-2.86zM5.41 20L4 18.59l7.72-7.72 1.47 1.35L5.41 20z\"/>\n",
              "  </svg>\n",
              "      </button>\n",
              "      \n",
              "  <style>\n",
              "    .colab-df-container {\n",
              "      display:flex;\n",
              "      flex-wrap:wrap;\n",
              "      gap: 12px;\n",
              "    }\n",
              "\n",
              "    .colab-df-convert {\n",
              "      background-color: #E8F0FE;\n",
              "      border: none;\n",
              "      border-radius: 50%;\n",
              "      cursor: pointer;\n",
              "      display: none;\n",
              "      fill: #1967D2;\n",
              "      height: 32px;\n",
              "      padding: 0 0 0 0;\n",
              "      width: 32px;\n",
              "    }\n",
              "\n",
              "    .colab-df-convert:hover {\n",
              "      background-color: #E2EBFA;\n",
              "      box-shadow: 0px 1px 2px rgba(60, 64, 67, 0.3), 0px 1px 3px 1px rgba(60, 64, 67, 0.15);\n",
              "      fill: #174EA6;\n",
              "    }\n",
              "\n",
              "    [theme=dark] .colab-df-convert {\n",
              "      background-color: #3B4455;\n",
              "      fill: #D2E3FC;\n",
              "    }\n",
              "\n",
              "    [theme=dark] .colab-df-convert:hover {\n",
              "      background-color: #434B5C;\n",
              "      box-shadow: 0px 1px 3px 1px rgba(0, 0, 0, 0.15);\n",
              "      filter: drop-shadow(0px 1px 2px rgba(0, 0, 0, 0.3));\n",
              "      fill: #FFFFFF;\n",
              "    }\n",
              "  </style>\n",
              "\n",
              "      <script>\n",
              "        const buttonEl =\n",
              "          document.querySelector('#df-1ceb772a-6ae4-4534-b706-2c19df3f57d6 button.colab-df-convert');\n",
              "        buttonEl.style.display =\n",
              "          google.colab.kernel.accessAllowed ? 'block' : 'none';\n",
              "\n",
              "        async function convertToInteractive(key) {\n",
              "          const element = document.querySelector('#df-1ceb772a-6ae4-4534-b706-2c19df3f57d6');\n",
              "          const dataTable =\n",
              "            await google.colab.kernel.invokeFunction('convertToInteractive',\n",
              "                                                     [key], {});\n",
              "          if (!dataTable) return;\n",
              "\n",
              "          const docLinkHtml = 'Like what you see? Visit the ' +\n",
              "            '<a target=\"_blank\" href=https://colab.research.google.com/notebooks/data_table.ipynb>data table notebook</a>'\n",
              "            + ' to learn more about interactive tables.';\n",
              "          element.innerHTML = '';\n",
              "          dataTable['output_type'] = 'display_data';\n",
              "          await google.colab.output.renderOutput(dataTable, element);\n",
              "          const docLink = document.createElement('div');\n",
              "          docLink.innerHTML = docLinkHtml;\n",
              "          element.appendChild(docLink);\n",
              "        }\n",
              "      </script>\n",
              "    </div>\n",
              "  </div>\n",
              "  "
            ]
          },
          "metadata": {},
          "execution_count": 101
        }
      ]
    },
    {
      "cell_type": "code",
      "source": [
        "p_df = top_7"
      ],
      "metadata": {
        "id": "10TLN6fzlPH-"
      },
      "execution_count": null,
      "outputs": []
    },
    {
      "cell_type": "code",
      "source": [
        "iforest = IsolationForest(contamination=0.1, max_samples='auto', max_features=1.0, bootstrap=False, n_jobs=-1, random_state=1)\n",
        "pred= iforest.fit_predict(top_7)"
      ],
      "metadata": {
        "colab": {
          "base_uri": "https://localhost:8080/"
        },
        "id": "rbJDqO6bToU1",
        "outputId": "1a7a4ebb-9590-4b14-e71b-05057c331799"
      },
      "execution_count": null,
      "outputs": [
        {
          "output_type": "stream",
          "name": "stderr",
          "text": [
            "/usr/local/lib/python3.7/dist-packages/sklearn/base.py:451: UserWarning: X does not have valid feature names, but IsolationForest was fitted with feature names\n",
            "  \"X does not have valid feature names, but\"\n"
          ]
        }
      ]
    },
    {
      "cell_type": "code",
      "source": [],
      "metadata": {
        "id": "bZF7uChsTs7y"
      },
      "execution_count": null,
      "outputs": []
    },
    {
      "cell_type": "code",
      "source": [
        "kmean = KMeans(n_clusters=2)\n",
        "#Kmean.fit(X)\n",
        "#y_pred = kmean.fit_predict(p_df[['FIT101', 'LIT101', ' MV101', 'P101', 'P102', ' AIT201', 'AIT202', 'AIT203', 'FIT201', ' MV201', ' P201', ' P202', 'P203', ' P204', 'P205', 'P206', 'DPIT301', 'FIT301', 'LIT301', 'MV301', 'MV302', ' MV303', 'MV304', 'P301', 'P302', 'AIT401', 'AIT402', 'FIT401', 'LIT401', 'P401', 'P402', 'P403', 'P404', 'UV401', 'AIT501', 'AIT502', 'AIT503', 'AIT504', 'FIT501', 'FIT502', 'FIT503', 'FIT504', 'P501', 'P502', 'PIT501', 'PIT502', 'PIT503', 'FIT601', 'P601', 'P602', 'P603', 'LIT401a', 'LIT401b', 'LIT401c', 'LIT401d', 'LIT401e', 'LIT401f', 'LIT401g', 'LIT401h', 'LIT401i', 'LIT401j']])\n",
        "y_pred = kmean.fit_predict(p_df[[ 'LIT401', 'LIT101', 'LIT301', 'PIT501', 'PIT503',  'AIT402',' AIT201' ]])\n",
        "\n",
        "#principalDf['Cluster'] = y_pred"
      ],
      "metadata": {
        "id": "fhuqIJcQV8bX"
      },
      "execution_count": null,
      "outputs": []
    },
    {
      "cell_type": "code",
      "source": [
        "plot_df = pd.DataFrame()\n",
        "plot_df['datetime'] = attack[' Timestamp']\n",
        "plot_df['Acutal_Attack/Normal'] = attack['Normal/Attack']\n",
        "plot_df['Pred_Clustering'] = y_pred\n",
        "plot_df['Pred_IF'] = pred"
      ],
      "metadata": {
        "id": "8Luj5LQiOkcB"
      },
      "execution_count": null,
      "outputs": []
    },
    {
      "cell_type": "code",
      "source": [
        "target_mapping = {\n",
        "    0: 1,\n",
        "    1: -1,\n",
        "}\n",
        "plot_df['Pred_Clustering'] = plot_df['Pred_Clustering'].map(lambda x: target_mapping[x])\n",
        "plot_df['Pred_Clustering'].value_counts()"
      ],
      "metadata": {
        "colab": {
          "base_uri": "https://localhost:8080/"
        },
        "id": "grxmXjK0tnfs",
        "outputId": "035b7d4f-e80d-44ff-99c0-4b0f62147430"
      },
      "execution_count": null,
      "outputs": [
        {
          "output_type": "execute_result",
          "data": {
            "text/plain": [
              "-1    413095\n",
              " 1     36824\n",
              "Name: Pred_Clustering, dtype: int64"
            ]
          },
          "metadata": {},
          "execution_count": 117
        }
      ]
    },
    {
      "cell_type": "code",
      "source": [
        "plot_df['Pred_IF'].value_counts()"
      ],
      "metadata": {
        "colab": {
          "base_uri": "https://localhost:8080/"
        },
        "id": "BX13ciNLN1qg",
        "outputId": "daf38e99-dc7a-4880-b275-21f1cbbdd7ac"
      },
      "execution_count": null,
      "outputs": [
        {
          "output_type": "execute_result",
          "data": {
            "text/plain": [
              " 1    404928\n",
              "-1     44991\n",
              "Name: Pred_IF, dtype: int64"
            ]
          },
          "metadata": {},
          "execution_count": 118
        }
      ]
    },
    {
      "cell_type": "code",
      "source": [],
      "metadata": {
        "id": "jj13WKX5VXyB"
      },
      "execution_count": null,
      "outputs": []
    },
    {
      "cell_type": "code",
      "source": [
        "report = classification_report(y, plot_df['Pred_Clustering'])\n",
        "print(report)"
      ],
      "metadata": {
        "colab": {
          "base_uri": "https://localhost:8080/"
        },
        "id": "pNPuZyT6NVWJ",
        "outputId": "769c7c22-d125-4879-a39e-135b3499c153"
      },
      "execution_count": null,
      "outputs": [
        {
          "output_type": "stream",
          "name": "stdout",
          "text": [
            "              precision    recall  f1-score   support\n",
            "\n",
            "          -1       0.89      0.60      0.72     54621\n",
            "           1       0.95      0.99      0.97    395298\n",
            "\n",
            "    accuracy                           0.94    449919\n",
            "   macro avg       0.92      0.80      0.84    449919\n",
            "weighted avg       0.94      0.94      0.94    449919\n",
            "\n"
          ]
        }
      ]
    },
    {
      "cell_type": "code",
      "source": [
        "report = classification_report(y, plot_df['Pred_IF'])\n",
        "print(report)"
      ],
      "metadata": {
        "colab": {
          "base_uri": "https://localhost:8080/"
        },
        "id": "Hn6cmh8YOfn9",
        "outputId": "96e42d79-29de-4212-b9b0-47533c17fa95"
      },
      "execution_count": null,
      "outputs": [
        {
          "output_type": "stream",
          "name": "stdout",
          "text": [
            "              precision    recall  f1-score   support\n",
            "\n",
            "          -1       0.57      0.70      0.63     54621\n",
            "           1       0.96      0.93      0.94    395298\n",
            "\n",
            "    accuracy                           0.90    449919\n",
            "   macro avg       0.76      0.81      0.78    449919\n",
            "weighted avg       0.91      0.90      0.90    449919\n",
            "\n"
          ]
        }
      ]
    },
    {
      "cell_type": "code",
      "source": [
        "#duplicate col =1\n",
        "report = classification_report(y, plot_df['Pred_Clustering'])\n",
        "print(report)"
      ],
      "metadata": {
        "colab": {
          "base_uri": "https://localhost:8080/"
        },
        "id": "vAeS37OoOfqv",
        "outputId": "c7c1db69-8833-4cc5-8331-c2dde76beb53"
      },
      "execution_count": null,
      "outputs": [
        {
          "output_type": "stream",
          "name": "stdout",
          "text": [
            "              precision    recall  f1-score   support\n",
            "\n",
            "          -1       0.05      0.40      0.09     54621\n",
            "           1       0.11      0.01      0.02    395298\n",
            "\n",
            "    accuracy                           0.06    449919\n",
            "   macro avg       0.08      0.20      0.06    449919\n",
            "weighted avg       0.10      0.06      0.03    449919\n",
            "\n"
          ]
        }
      ]
    },
    {
      "cell_type": "code",
      "source": [
        "#duplicate col =1\n",
        "report = classification_report(y, plot_df['Pred_IF'])\n",
        "print(report)"
      ],
      "metadata": {
        "colab": {
          "base_uri": "https://localhost:8080/"
        },
        "id": "lIk3Ver_Oftd",
        "outputId": "6f120373-cf32-417e-aecb-b9c44ae52b12"
      },
      "execution_count": null,
      "outputs": [
        {
          "output_type": "stream",
          "name": "stdout",
          "text": [
            "              precision    recall  f1-score   support\n",
            "\n",
            "          -1       0.61      0.76      0.68     54621\n",
            "           1       0.97      0.93      0.95    395298\n",
            "\n",
            "    accuracy                           0.91    449919\n",
            "   macro avg       0.79      0.85      0.81    449919\n",
            "weighted avg       0.92      0.91      0.92    449919\n",
            "\n"
          ]
        }
      ]
    },
    {
      "cell_type": "code",
      "source": [
        "#10%\n",
        "report = classification_report(y, plot_df['Pred_IF'])\n",
        "print(report)"
      ],
      "metadata": {
        "colab": {
          "base_uri": "https://localhost:8080/"
        },
        "id": "FgZWLRx-NVcj",
        "outputId": "117fbf3e-db33-4ecb-9343-5473fed58794"
      },
      "execution_count": null,
      "outputs": [
        {
          "output_type": "stream",
          "name": "stdout",
          "text": [
            "              precision    recall  f1-score   support\n",
            "\n",
            "          -1       0.80      0.66      0.73     54621\n",
            "           1       0.95      0.98      0.97    395298\n",
            "\n",
            "    accuracy                           0.94    449919\n",
            "   macro avg       0.88      0.82      0.85    449919\n",
            "weighted avg       0.94      0.94      0.94    449919\n",
            "\n"
          ]
        }
      ]
    },
    {
      "cell_type": "code",
      "source": [
        "target_mapping = {\n",
        "    1: 0,\n",
        "    -1: -1,\n",
        "}\n",
        "plot_df['Acutal_Attack/Normal'] = plot_df['Acutal_Attack/Normal'].map(lambda x: target_mapping[x])\n",
        "plot_df['Acutal_Attack/Normal'].value_counts()"
      ],
      "metadata": {
        "colab": {
          "base_uri": "https://localhost:8080/"
        },
        "id": "YEo-ck2RWQPf",
        "outputId": "883fb6c4-3d75-41de-a48f-f6a2bfa69db8"
      },
      "execution_count": null,
      "outputs": [
        {
          "output_type": "execute_result",
          "data": {
            "text/plain": [
              " 0    395298\n",
              "-1     54621\n",
              "Name: Acutal_Attack/Normal, dtype: int64"
            ]
          },
          "metadata": {},
          "execution_count": 65
        }
      ]
    },
    {
      "cell_type": "code",
      "source": [
        "target_mapping = {\n",
        "    1: 0.5,\n",
        "    0: 1.5,\n",
        "}\n",
        "plot_df['Pred_Clustering'] = plot_df['Pred_Clustering'].map(lambda x: target_mapping[x])\n",
        "plot_df['Pred_Clustering'].value_counts()"
      ],
      "metadata": {
        "colab": {
          "base_uri": "https://localhost:8080/"
        },
        "id": "M6il1B0tmlKi",
        "outputId": "6da0c30b-0c28-4a4a-9835-1b82961e2ebf"
      },
      "execution_count": null,
      "outputs": [
        {
          "output_type": "execute_result",
          "data": {
            "text/plain": [
              "1.5    413169\n",
              "0.5     36750\n",
              "Name: Pred_Clustering, dtype: int64"
            ]
          },
          "metadata": {},
          "execution_count": 66
        }
      ]
    },
    {
      "cell_type": "code",
      "source": [
        "target_mapping = {\n",
        "    1: 2,\n",
        "    -1: 3,\n",
        "}\n",
        "plot_df['Pred_IF'] = plot_df['Pred_IF'].map(lambda x: target_mapping[x])\n",
        "plot_df['Pred_IF'].value_counts()"
      ],
      "metadata": {
        "colab": {
          "base_uri": "https://localhost:8080/"
        },
        "id": "HHRhI6HRmlQ4",
        "outputId": "b0d84677-7de1-42cb-e7ee-51c081efca02"
      },
      "execution_count": null,
      "outputs": [
        {
          "output_type": "execute_result",
          "data": {
            "text/plain": [
              "2    382431\n",
              "3     67488\n",
              "Name: Pred_IF, dtype: int64"
            ]
          },
          "metadata": {},
          "execution_count": 67
        }
      ]
    },
    {
      "cell_type": "code",
      "source": [
        "target_mapping = {\n",
        "    0: 'Normal',\n",
        "    -1: 'Attack',\n",
        "}\n",
        "plot_df['Acutal_Attack/Normal'] = plot_df['Acutal_Attack/Normal'].map(lambda x: target_mapping[x])\n",
        "plot_df['Acutal_Attack/Normal'].value_counts()"
      ],
      "metadata": {
        "id": "DWf8eY-DcTYg",
        "colab": {
          "base_uri": "https://localhost:8080/"
        },
        "outputId": "394544d4-dfb5-4f7c-8e03-162c30fd552d"
      },
      "execution_count": null,
      "outputs": [
        {
          "output_type": "execute_result",
          "data": {
            "text/plain": [
              "Normal    395298\n",
              "Attack     54621\n",
              "Name: Acutal_Attack/Normal, dtype: int64"
            ]
          },
          "metadata": {},
          "execution_count": 68
        }
      ]
    },
    {
      "cell_type": "code",
      "source": [
        "target_mapping = {\n",
        "    1.5: 'Normal2',\n",
        "    0.5: 'Attack2',\n",
        "}\n",
        "plot_df['Pred_Clustering'] = plot_df['Pred_Clustering'].map(lambda x: target_mapping[x])\n",
        "plot_df['Pred_Clustering'].value_counts()"
      ],
      "metadata": {
        "colab": {
          "base_uri": "https://localhost:8080/"
        },
        "id": "dRNsOsGhOA0b",
        "outputId": "4fd0d822-6eed-4efa-ed42-b111a2adc6c8"
      },
      "execution_count": null,
      "outputs": [
        {
          "output_type": "execute_result",
          "data": {
            "text/plain": [
              "Normal2    413169\n",
              "Attack2     36750\n",
              "Name: Pred_Clustering, dtype: int64"
            ]
          },
          "metadata": {},
          "execution_count": 69
        }
      ]
    },
    {
      "cell_type": "code",
      "source": [
        "target_mapping = {\n",
        "    2: 'Normal3',\n",
        "    3: 'Attack3',\n",
        "}\n",
        "plot_df['Pred_IF'] = plot_df['Pred_IF'].map(lambda x: target_mapping[x])\n",
        "plot_df['Pred_IF'].value_counts()"
      ],
      "metadata": {
        "colab": {
          "base_uri": "https://localhost:8080/"
        },
        "id": "vMmvZ_j3OA-Y",
        "outputId": "14127f64-0b83-4fe2-e1d0-15e5579e65e3"
      },
      "execution_count": null,
      "outputs": [
        {
          "output_type": "execute_result",
          "data": {
            "text/plain": [
              "Normal3    382431\n",
              "Attack3     67488\n",
              "Name: Pred_IF, dtype: int64"
            ]
          },
          "metadata": {},
          "execution_count": 70
        }
      ]
    },
    {
      "cell_type": "code",
      "source": [],
      "metadata": {
        "colab": {
          "base_uri": "https://localhost:8080/"
        },
        "id": "GtIe5rspog6r",
        "outputId": "2af01375-d90b-4e44-cda5-34c6589e94e6"
      },
      "execution_count": null,
      "outputs": [
        {
          "output_type": "execute_result",
          "data": {
            "text/plain": [
              "Normal    395298\n",
              "Attack     54621\n",
              "Name: Acutal_Attack/Normal, dtype: int64"
            ]
          },
          "metadata": {},
          "execution_count": 18
        }
      ]
    },
    {
      "cell_type": "code",
      "source": [
        "new_df = plot_df.tail(225000)"
      ],
      "metadata": {
        "id": "y-tTpuhzML94"
      },
      "execution_count": null,
      "outputs": []
    },
    {
      "cell_type": "code",
      "source": [
        "plot_df.shape"
      ],
      "metadata": {
        "colab": {
          "base_uri": "https://localhost:8080/"
        },
        "id": "W_V0JL2FNKi_",
        "outputId": "d53d8bb3-e7b9-4f13-aa93-669e222dad70"
      },
      "execution_count": null,
      "outputs": [
        {
          "output_type": "execute_result",
          "data": {
            "text/plain": [
              "(449919, 4)"
            ]
          },
          "metadata": {},
          "execution_count": 72
        }
      ]
    },
    {
      "cell_type": "code",
      "source": [],
      "metadata": {
        "id": "MNnZUneIMMAx"
      },
      "execution_count": null,
      "outputs": []
    },
    {
      "cell_type": "code",
      "source": [
        "fig = px.line(new_df, x='datetime' , y=['Acutal_Attack/Normal', \"Pred_Clustering\", 'Pred_IF' ])\n",
        "fig"
      ],
      "metadata": {
        "id": "KZUBcQgvnlJD"
      },
      "execution_count": null,
      "outputs": []
    },
    {
      "cell_type": "code",
      "source": [],
      "metadata": {
        "id": "yLoPe8VfGlRw"
      },
      "execution_count": null,
      "outputs": []
    },
    {
      "cell_type": "code",
      "source": [
        "plot_df.head(5)"
      ],
      "metadata": {
        "colab": {
          "base_uri": "https://localhost:8080/",
          "height": 206
        },
        "id": "ydzfNWqArN2U",
        "outputId": "aa0c8eee-eb1e-403a-cefe-4d314eee0e68"
      },
      "execution_count": null,
      "outputs": [
        {
          "output_type": "execute_result",
          "data": {
            "text/plain": [
              "                  datetime Acutal_Attack/Normal Pred_Clustering  Pred_IF\n",
              "1   28/12/2015 10:00:00 AM               Normal         Normal2  Normal3\n",
              "2   28/12/2015 10:00:01 AM               Normal         Normal2  Normal3\n",
              "3   28/12/2015 10:00:02 AM               Normal         Normal2  Normal3\n",
              "4   28/12/2015 10:00:03 AM               Normal         Normal2  Normal3\n",
              "5   28/12/2015 10:00:04 AM               Normal         Normal2  Normal3"
            ],
            "text/html": [
              "\n",
              "  <div id=\"df-8b235e27-b5a5-4222-8085-36666d089ecf\">\n",
              "    <div class=\"colab-df-container\">\n",
              "      <div>\n",
              "<style scoped>\n",
              "    .dataframe tbody tr th:only-of-type {\n",
              "        vertical-align: middle;\n",
              "    }\n",
              "\n",
              "    .dataframe tbody tr th {\n",
              "        vertical-align: top;\n",
              "    }\n",
              "\n",
              "    .dataframe thead th {\n",
              "        text-align: right;\n",
              "    }\n",
              "</style>\n",
              "<table border=\"1\" class=\"dataframe\">\n",
              "  <thead>\n",
              "    <tr style=\"text-align: right;\">\n",
              "      <th></th>\n",
              "      <th>datetime</th>\n",
              "      <th>Acutal_Attack/Normal</th>\n",
              "      <th>Pred_Clustering</th>\n",
              "      <th>Pred_IF</th>\n",
              "    </tr>\n",
              "  </thead>\n",
              "  <tbody>\n",
              "    <tr>\n",
              "      <th>1</th>\n",
              "      <td>28/12/2015 10:00:00 AM</td>\n",
              "      <td>Normal</td>\n",
              "      <td>Normal2</td>\n",
              "      <td>Normal3</td>\n",
              "    </tr>\n",
              "    <tr>\n",
              "      <th>2</th>\n",
              "      <td>28/12/2015 10:00:01 AM</td>\n",
              "      <td>Normal</td>\n",
              "      <td>Normal2</td>\n",
              "      <td>Normal3</td>\n",
              "    </tr>\n",
              "    <tr>\n",
              "      <th>3</th>\n",
              "      <td>28/12/2015 10:00:02 AM</td>\n",
              "      <td>Normal</td>\n",
              "      <td>Normal2</td>\n",
              "      <td>Normal3</td>\n",
              "    </tr>\n",
              "    <tr>\n",
              "      <th>4</th>\n",
              "      <td>28/12/2015 10:00:03 AM</td>\n",
              "      <td>Normal</td>\n",
              "      <td>Normal2</td>\n",
              "      <td>Normal3</td>\n",
              "    </tr>\n",
              "    <tr>\n",
              "      <th>5</th>\n",
              "      <td>28/12/2015 10:00:04 AM</td>\n",
              "      <td>Normal</td>\n",
              "      <td>Normal2</td>\n",
              "      <td>Normal3</td>\n",
              "    </tr>\n",
              "  </tbody>\n",
              "</table>\n",
              "</div>\n",
              "      <button class=\"colab-df-convert\" onclick=\"convertToInteractive('df-8b235e27-b5a5-4222-8085-36666d089ecf')\"\n",
              "              title=\"Convert this dataframe to an interactive table.\"\n",
              "              style=\"display:none;\">\n",
              "        \n",
              "  <svg xmlns=\"http://www.w3.org/2000/svg\" height=\"24px\"viewBox=\"0 0 24 24\"\n",
              "       width=\"24px\">\n",
              "    <path d=\"M0 0h24v24H0V0z\" fill=\"none\"/>\n",
              "    <path d=\"M18.56 5.44l.94 2.06.94-2.06 2.06-.94-2.06-.94-.94-2.06-.94 2.06-2.06.94zm-11 1L8.5 8.5l.94-2.06 2.06-.94-2.06-.94L8.5 2.5l-.94 2.06-2.06.94zm10 10l.94 2.06.94-2.06 2.06-.94-2.06-.94-.94-2.06-.94 2.06-2.06.94z\"/><path d=\"M17.41 7.96l-1.37-1.37c-.4-.4-.92-.59-1.43-.59-.52 0-1.04.2-1.43.59L10.3 9.45l-7.72 7.72c-.78.78-.78 2.05 0 2.83L4 21.41c.39.39.9.59 1.41.59.51 0 1.02-.2 1.41-.59l7.78-7.78 2.81-2.81c.8-.78.8-2.07 0-2.86zM5.41 20L4 18.59l7.72-7.72 1.47 1.35L5.41 20z\"/>\n",
              "  </svg>\n",
              "      </button>\n",
              "      \n",
              "  <style>\n",
              "    .colab-df-container {\n",
              "      display:flex;\n",
              "      flex-wrap:wrap;\n",
              "      gap: 12px;\n",
              "    }\n",
              "\n",
              "    .colab-df-convert {\n",
              "      background-color: #E8F0FE;\n",
              "      border: none;\n",
              "      border-radius: 50%;\n",
              "      cursor: pointer;\n",
              "      display: none;\n",
              "      fill: #1967D2;\n",
              "      height: 32px;\n",
              "      padding: 0 0 0 0;\n",
              "      width: 32px;\n",
              "    }\n",
              "\n",
              "    .colab-df-convert:hover {\n",
              "      background-color: #E2EBFA;\n",
              "      box-shadow: 0px 1px 2px rgba(60, 64, 67, 0.3), 0px 1px 3px 1px rgba(60, 64, 67, 0.15);\n",
              "      fill: #174EA6;\n",
              "    }\n",
              "\n",
              "    [theme=dark] .colab-df-convert {\n",
              "      background-color: #3B4455;\n",
              "      fill: #D2E3FC;\n",
              "    }\n",
              "\n",
              "    [theme=dark] .colab-df-convert:hover {\n",
              "      background-color: #434B5C;\n",
              "      box-shadow: 0px 1px 3px 1px rgba(0, 0, 0, 0.15);\n",
              "      filter: drop-shadow(0px 1px 2px rgba(0, 0, 0, 0.3));\n",
              "      fill: #FFFFFF;\n",
              "    }\n",
              "  </style>\n",
              "\n",
              "      <script>\n",
              "        const buttonEl =\n",
              "          document.querySelector('#df-8b235e27-b5a5-4222-8085-36666d089ecf button.colab-df-convert');\n",
              "        buttonEl.style.display =\n",
              "          google.colab.kernel.accessAllowed ? 'block' : 'none';\n",
              "\n",
              "        async function convertToInteractive(key) {\n",
              "          const element = document.querySelector('#df-8b235e27-b5a5-4222-8085-36666d089ecf');\n",
              "          const dataTable =\n",
              "            await google.colab.kernel.invokeFunction('convertToInteractive',\n",
              "                                                     [key], {});\n",
              "          if (!dataTable) return;\n",
              "\n",
              "          const docLinkHtml = 'Like what you see? Visit the ' +\n",
              "            '<a target=\"_blank\" href=https://colab.research.google.com/notebooks/data_table.ipynb>data table notebook</a>'\n",
              "            + ' to learn more about interactive tables.';\n",
              "          element.innerHTML = '';\n",
              "          dataTable['output_type'] = 'display_data';\n",
              "          await google.colab.output.renderOutput(dataTable, element);\n",
              "          const docLink = document.createElement('div');\n",
              "          docLink.innerHTML = docLinkHtml;\n",
              "          element.appendChild(docLink);\n",
              "        }\n",
              "      </script>\n",
              "    </div>\n",
              "  </div>\n",
              "  "
            ]
          },
          "metadata": {},
          "execution_count": 39
        }
      ]
    },
    {
      "cell_type": "code",
      "source": [
        "fig = go.Figure()\n",
        "\n",
        "for column in new_df.columns.to_list():\n",
        "    fig.add_trace(\n",
        "        go.Scatter(\n",
        "            #x = 'datetime',\n",
        "            x = plot_df.index,\n",
        "            y = 'datetime',\n",
        "            #y = new_df[column],\n",
        "            name = column\n",
        "        )\n",
        "    )\n",
        "\n",
        "fig.update_layout(\n",
        "    updatemenus=[go.layout.Updatemenu(\n",
        "        active=0,\n",
        "        buttons=list(\n",
        "            [dict(label = 'All',\n",
        "                  method = 'update',\n",
        "                  args = [{'visible': [False, True, True, True]},\n",
        "                          {'title': 'All',\n",
        "                           'showlegend':True}]),\n",
        "             dict(label = 'Acutal_Attack/Normal',\n",
        "                  method = 'update',\n",
        "                  args = [{'visible': [False, True, False, False]}, # the index of True aligns with the indices of plot traces\n",
        "                          {'title': 'Acutal_Attack/Normal',\n",
        "                           'showlegend':True}]),\n",
        "             dict(label = 'Pred_Clustering',\n",
        "                  method = 'update',\n",
        "                  args = [{'visible': [False, False, True, False]},\n",
        "                          {'title': 'Pred_Clustering',\n",
        "                           'showlegend':True}]),\n",
        "             dict(label = 'Pred_IF',\n",
        "                  method = 'update',\n",
        "                  args = [{'visible': [False, False, False, True]},\n",
        "                          {'title': 'Pred_IF',\n",
        "                           'showlegend':True}]),\n",
        "            ])\n",
        "        )\n",
        "    ])\n",
        "\n",
        "fig.show()"
      ],
      "metadata": {
        "colab": {
          "base_uri": "https://localhost:8080/",
          "height": 467
        },
        "id": "Wvp50x9dqry1",
        "outputId": "1a90356b-f087-4ba4-b15c-c5d62659bb70"
      },
      "execution_count": null,
      "outputs": [
        {
          "output_type": "error",
          "ename": "ValueError",
          "evalue": "ignored",
          "traceback": [
            "\u001b[0;31m---------------------------------------------------------------------------\u001b[0m",
            "\u001b[0;31mValueError\u001b[0m                                Traceback (most recent call last)",
            "\u001b[0;32m<ipython-input-66-109ceb02b633>\u001b[0m in \u001b[0;36m<module>\u001b[0;34m\u001b[0m\n\u001b[1;32m      8\u001b[0m             \u001b[0my\u001b[0m \u001b[0;34m=\u001b[0m \u001b[0;34m'datetime'\u001b[0m\u001b[0;34m,\u001b[0m\u001b[0;34m\u001b[0m\u001b[0;34m\u001b[0m\u001b[0m\n\u001b[1;32m      9\u001b[0m             \u001b[0;31m#y = new_df[column],\u001b[0m\u001b[0;34m\u001b[0m\u001b[0;34m\u001b[0m\u001b[0;34m\u001b[0m\u001b[0m\n\u001b[0;32m---> 10\u001b[0;31m             \u001b[0mname\u001b[0m \u001b[0;34m=\u001b[0m \u001b[0mcolumn\u001b[0m\u001b[0;34m\u001b[0m\u001b[0;34m\u001b[0m\u001b[0m\n\u001b[0m\u001b[1;32m     11\u001b[0m         )\n\u001b[1;32m     12\u001b[0m     )\n",
            "\u001b[0;32m/usr/local/lib/python3.7/dist-packages/plotly/graph_objs/_scatter.py\u001b[0m in \u001b[0;36m__init__\u001b[0;34m(self, arg, cliponaxis, connectgaps, customdata, customdatasrc, dx, dy, error_x, error_y, fill, fillcolor, groupnorm, hoverinfo, hoverinfosrc, hoverlabel, hoveron, hovertemplate, hovertemplatesrc, hovertext, hovertextsrc, ids, idssrc, legendgroup, legendgrouptitle, legendrank, line, marker, meta, metasrc, mode, name, opacity, orientation, selected, selectedpoints, showlegend, stackgaps, stackgroup, stream, text, textfont, textposition, textpositionsrc, textsrc, texttemplate, texttemplatesrc, uid, uirevision, unselected, visible, x, x0, xaxis, xcalendar, xhoverformat, xperiod, xperiod0, xperiodalignment, xsrc, y, y0, yaxis, ycalendar, yhoverformat, yperiod, yperiod0, yperiodalignment, ysrc, **kwargs)\u001b[0m\n\u001b[1;32m   3242\u001b[0m         \u001b[0m_v\u001b[0m \u001b[0;34m=\u001b[0m \u001b[0my\u001b[0m \u001b[0;32mif\u001b[0m \u001b[0my\u001b[0m \u001b[0;32mis\u001b[0m \u001b[0;32mnot\u001b[0m \u001b[0;32mNone\u001b[0m \u001b[0;32melse\u001b[0m \u001b[0m_v\u001b[0m\u001b[0;34m\u001b[0m\u001b[0;34m\u001b[0m\u001b[0m\n\u001b[1;32m   3243\u001b[0m         \u001b[0;32mif\u001b[0m \u001b[0m_v\u001b[0m \u001b[0;32mis\u001b[0m \u001b[0;32mnot\u001b[0m \u001b[0;32mNone\u001b[0m\u001b[0;34m:\u001b[0m\u001b[0;34m\u001b[0m\u001b[0;34m\u001b[0m\u001b[0m\n\u001b[0;32m-> 3244\u001b[0;31m             \u001b[0mself\u001b[0m\u001b[0;34m[\u001b[0m\u001b[0;34m\"y\"\u001b[0m\u001b[0;34m]\u001b[0m \u001b[0;34m=\u001b[0m \u001b[0m_v\u001b[0m\u001b[0;34m\u001b[0m\u001b[0;34m\u001b[0m\u001b[0m\n\u001b[0m\u001b[1;32m   3245\u001b[0m         \u001b[0m_v\u001b[0m \u001b[0;34m=\u001b[0m \u001b[0marg\u001b[0m\u001b[0;34m.\u001b[0m\u001b[0mpop\u001b[0m\u001b[0;34m(\u001b[0m\u001b[0;34m\"y0\"\u001b[0m\u001b[0;34m,\u001b[0m \u001b[0;32mNone\u001b[0m\u001b[0;34m)\u001b[0m\u001b[0;34m\u001b[0m\u001b[0;34m\u001b[0m\u001b[0m\n\u001b[1;32m   3246\u001b[0m         \u001b[0m_v\u001b[0m \u001b[0;34m=\u001b[0m \u001b[0my0\u001b[0m \u001b[0;32mif\u001b[0m \u001b[0my0\u001b[0m \u001b[0;32mis\u001b[0m \u001b[0;32mnot\u001b[0m \u001b[0;32mNone\u001b[0m \u001b[0;32melse\u001b[0m \u001b[0m_v\u001b[0m\u001b[0;34m\u001b[0m\u001b[0;34m\u001b[0m\u001b[0m\n",
            "\u001b[0;32m/usr/local/lib/python3.7/dist-packages/plotly/basedatatypes.py\u001b[0m in \u001b[0;36m__setitem__\u001b[0;34m(self, prop, value)\u001b[0m\n\u001b[1;32m   4825\u001b[0m                 \u001b[0;31m# ### Handle simple property ###\u001b[0m\u001b[0;34m\u001b[0m\u001b[0;34m\u001b[0m\u001b[0;34m\u001b[0m\u001b[0m\n\u001b[1;32m   4826\u001b[0m                 \u001b[0;32melse\u001b[0m\u001b[0;34m:\u001b[0m\u001b[0;34m\u001b[0m\u001b[0;34m\u001b[0m\u001b[0m\n\u001b[0;32m-> 4827\u001b[0;31m                     \u001b[0mself\u001b[0m\u001b[0;34m.\u001b[0m\u001b[0m_set_prop\u001b[0m\u001b[0;34m(\u001b[0m\u001b[0mprop\u001b[0m\u001b[0;34m,\u001b[0m \u001b[0mvalue\u001b[0m\u001b[0;34m)\u001b[0m\u001b[0;34m\u001b[0m\u001b[0;34m\u001b[0m\u001b[0m\n\u001b[0m\u001b[1;32m   4828\u001b[0m             \u001b[0;32melse\u001b[0m\u001b[0;34m:\u001b[0m\u001b[0;34m\u001b[0m\u001b[0;34m\u001b[0m\u001b[0m\n\u001b[1;32m   4829\u001b[0m                 \u001b[0;31m# Make sure properties dict is initialized\u001b[0m\u001b[0;34m\u001b[0m\u001b[0;34m\u001b[0m\u001b[0;34m\u001b[0m\u001b[0m\n",
            "\u001b[0;32m/usr/local/lib/python3.7/dist-packages/plotly/basedatatypes.py\u001b[0m in \u001b[0;36m_set_prop\u001b[0;34m(self, prop, val)\u001b[0m\n\u001b[1;32m   5169\u001b[0m                 \u001b[0;32mreturn\u001b[0m\u001b[0;34m\u001b[0m\u001b[0;34m\u001b[0m\u001b[0m\n\u001b[1;32m   5170\u001b[0m             \u001b[0;32melse\u001b[0m\u001b[0;34m:\u001b[0m\u001b[0;34m\u001b[0m\u001b[0;34m\u001b[0m\u001b[0m\n\u001b[0;32m-> 5171\u001b[0;31m                 \u001b[0;32mraise\u001b[0m \u001b[0merr\u001b[0m\u001b[0;34m\u001b[0m\u001b[0;34m\u001b[0m\u001b[0m\n\u001b[0m\u001b[1;32m   5172\u001b[0m \u001b[0;34m\u001b[0m\u001b[0m\n\u001b[1;32m   5173\u001b[0m         \u001b[0;31m# val is None\u001b[0m\u001b[0;34m\u001b[0m\u001b[0;34m\u001b[0m\u001b[0;34m\u001b[0m\u001b[0m\n",
            "\u001b[0;32m/usr/local/lib/python3.7/dist-packages/plotly/basedatatypes.py\u001b[0m in \u001b[0;36m_set_prop\u001b[0;34m(self, prop, val)\u001b[0m\n\u001b[1;32m   5164\u001b[0m \u001b[0;34m\u001b[0m\u001b[0m\n\u001b[1;32m   5165\u001b[0m         \u001b[0;32mtry\u001b[0m\u001b[0;34m:\u001b[0m\u001b[0;34m\u001b[0m\u001b[0;34m\u001b[0m\u001b[0m\n\u001b[0;32m-> 5166\u001b[0;31m             \u001b[0mval\u001b[0m \u001b[0;34m=\u001b[0m \u001b[0mvalidator\u001b[0m\u001b[0;34m.\u001b[0m\u001b[0mvalidate_coerce\u001b[0m\u001b[0;34m(\u001b[0m\u001b[0mval\u001b[0m\u001b[0;34m)\u001b[0m\u001b[0;34m\u001b[0m\u001b[0;34m\u001b[0m\u001b[0m\n\u001b[0m\u001b[1;32m   5167\u001b[0m         \u001b[0;32mexcept\u001b[0m \u001b[0mValueError\u001b[0m \u001b[0;32mas\u001b[0m \u001b[0merr\u001b[0m\u001b[0;34m:\u001b[0m\u001b[0;34m\u001b[0m\u001b[0;34m\u001b[0m\u001b[0m\n\u001b[1;32m   5168\u001b[0m             \u001b[0;32mif\u001b[0m \u001b[0mself\u001b[0m\u001b[0;34m.\u001b[0m\u001b[0m_skip_invalid\u001b[0m\u001b[0;34m:\u001b[0m\u001b[0;34m\u001b[0m\u001b[0;34m\u001b[0m\u001b[0m\n",
            "\u001b[0;32m/usr/local/lib/python3.7/dist-packages/_plotly_utils/basevalidators.py\u001b[0m in \u001b[0;36mvalidate_coerce\u001b[0;34m(self, v)\u001b[0m\n\u001b[1;32m    403\u001b[0m             \u001b[0mv\u001b[0m \u001b[0;34m=\u001b[0m \u001b[0mto_scalar_or_list\u001b[0m\u001b[0;34m(\u001b[0m\u001b[0mv\u001b[0m\u001b[0;34m)\u001b[0m\u001b[0;34m\u001b[0m\u001b[0;34m\u001b[0m\u001b[0m\n\u001b[1;32m    404\u001b[0m         \u001b[0;32melse\u001b[0m\u001b[0;34m:\u001b[0m\u001b[0;34m\u001b[0m\u001b[0;34m\u001b[0m\u001b[0m\n\u001b[0;32m--> 405\u001b[0;31m             \u001b[0mself\u001b[0m\u001b[0;34m.\u001b[0m\u001b[0mraise_invalid_val\u001b[0m\u001b[0;34m(\u001b[0m\u001b[0mv\u001b[0m\u001b[0;34m)\u001b[0m\u001b[0;34m\u001b[0m\u001b[0;34m\u001b[0m\u001b[0m\n\u001b[0m\u001b[1;32m    406\u001b[0m         \u001b[0;32mreturn\u001b[0m \u001b[0mv\u001b[0m\u001b[0;34m\u001b[0m\u001b[0;34m\u001b[0m\u001b[0m\n\u001b[1;32m    407\u001b[0m \u001b[0;34m\u001b[0m\u001b[0m\n",
            "\u001b[0;32m/usr/local/lib/python3.7/dist-packages/_plotly_utils/basevalidators.py\u001b[0m in \u001b[0;36mraise_invalid_val\u001b[0;34m(self, v, inds)\u001b[0m\n\u001b[1;32m    297\u001b[0m                 \u001b[0mtyp\u001b[0m\u001b[0;34m=\u001b[0m\u001b[0mtype_str\u001b[0m\u001b[0;34m(\u001b[0m\u001b[0mv\u001b[0m\u001b[0;34m)\u001b[0m\u001b[0;34m,\u001b[0m\u001b[0;34m\u001b[0m\u001b[0;34m\u001b[0m\u001b[0m\n\u001b[1;32m    298\u001b[0m                 \u001b[0mv\u001b[0m\u001b[0;34m=\u001b[0m\u001b[0mrepr\u001b[0m\u001b[0;34m(\u001b[0m\u001b[0mv\u001b[0m\u001b[0;34m)\u001b[0m\u001b[0;34m,\u001b[0m\u001b[0;34m\u001b[0m\u001b[0;34m\u001b[0m\u001b[0m\n\u001b[0;32m--> 299\u001b[0;31m                 \u001b[0mvalid_clr_desc\u001b[0m\u001b[0;34m=\u001b[0m\u001b[0mself\u001b[0m\u001b[0;34m.\u001b[0m\u001b[0mdescription\u001b[0m\u001b[0;34m(\u001b[0m\u001b[0;34m)\u001b[0m\u001b[0;34m,\u001b[0m\u001b[0;34m\u001b[0m\u001b[0;34m\u001b[0m\u001b[0m\n\u001b[0m\u001b[1;32m    300\u001b[0m             )\n\u001b[1;32m    301\u001b[0m         )\n",
            "\u001b[0;31mValueError\u001b[0m: \n    Invalid value of type 'builtins.str' received for the 'y' property of scatter\n        Received value: 'datetime'\n\n    The 'y' property is an array that may be specified as a tuple,\n    list, numpy array, or pandas Series"
          ]
        }
      ]
    },
    {
      "cell_type": "code",
      "source": [
        "fig = px.line(new_df, x='datetime' , y=[\"Pred_Cluster\",'Acutal_Attack/Normal' ])\n",
        "fig = fig.add_traces(\n",
        "    px.scatter(new_df, x='datetime', y='Pred_IF').update_traces(marker_size=6, marker_color=\"red\").data\n",
        "    )\n",
        "fig"
      ],
      "metadata": {
        "id": "1LAVoE4BXGMt"
      },
      "execution_count": null,
      "outputs": []
    },
    {
      "cell_type": "code",
      "source": [
        "#fig = px.scatter(plot_df)\n",
        "#fig\n",
        "#fig = px.line(plot_df, x=\"datetime\", y=\"Predicted_Attack/Normal\", color='Acutal_Attack/Normal')\n",
        "#fig\n",
        "fig = px.line(new_df, x='datetime' , y=\"Pred_Cluster\")\n",
        "fig = fig.add_traces(\n",
        "    px.line(new_df, x='datetime', y='Pred_IF').update_traces(marker_size=6, marker_color=\"red\").data\n",
        "    )\n",
        "fig"
      ],
      "metadata": {
        "id": "nByQjjalJQu4"
      },
      "execution_count": null,
      "outputs": []
    },
    {
      "cell_type": "code",
      "source": [
        "report = classification_report(y, p_df['Cluster'])\n",
        "print(report)"
      ],
      "metadata": {
        "colab": {
          "base_uri": "https://localhost:8080/"
        },
        "id": "3W6_t40KWOG3",
        "outputId": "d429dbf2-bc46-43dc-fbd5-52be3d380456"
      },
      "execution_count": null,
      "outputs": [
        {
          "output_type": "stream",
          "name": "stdout",
          "text": [
            "              precision    recall  f1-score   support\n",
            "\n",
            "          -1       0.89      0.60      0.72     54621\n",
            "           1       0.95      0.99      0.97    395298\n",
            "\n",
            "    accuracy                           0.94    449919\n",
            "   macro avg       0.92      0.80      0.84    449919\n",
            "weighted avg       0.94      0.94      0.94    449919\n",
            "\n"
          ]
        }
      ]
    },
    {
      "cell_type": "code",
      "source": [
        "report = classification_report(y, p_df['Cluster'])\n",
        "print(report)"
      ],
      "metadata": {
        "id": "gLSPmgreWOJ5"
      },
      "execution_count": null,
      "outputs": []
    },
    {
      "cell_type": "code",
      "source": [],
      "metadata": {
        "id": "QkCoT5C_WOMx"
      },
      "execution_count": null,
      "outputs": []
    },
    {
      "cell_type": "code",
      "source": [],
      "metadata": {
        "id": "LdZiaOT4WMAP"
      },
      "execution_count": null,
      "outputs": []
    },
    {
      "cell_type": "code",
      "source": [],
      "metadata": {
        "id": "emaJxT6IWMC7"
      },
      "execution_count": null,
      "outputs": []
    },
    {
      "cell_type": "code",
      "source": [],
      "metadata": {
        "id": "LDOCzN_XWMFl"
      },
      "execution_count": null,
      "outputs": []
    },
    {
      "cell_type": "code",
      "source": [],
      "metadata": {
        "id": "Y2iOugIRV8j1"
      },
      "execution_count": null,
      "outputs": []
    },
    {
      "cell_type": "code",
      "source": [],
      "metadata": {
        "id": "LmKm0fNrV8mq"
      },
      "execution_count": null,
      "outputs": []
    },
    {
      "cell_type": "code",
      "source": [],
      "metadata": {
        "id": "4mbLPlrBV8o8"
      },
      "execution_count": null,
      "outputs": []
    }
  ]
}